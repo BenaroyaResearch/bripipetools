{
 "cells": [
  {
   "cell_type": "code",
   "execution_count": 5,
   "metadata": {
    "collapsed": false
   },
   "outputs": [
    {
     "name": "stdout",
     "output_type": "stream",
     "text": [
      "The autoreload extension is already loaded. To reload it, use:\n",
      "  %reload_ext autoreload\n"
     ]
    }
   ],
   "source": [
    "%load_ext autoreload"
   ]
  },
  {
   "cell_type": "code",
   "execution_count": 7,
   "metadata": {
    "collapsed": true
   },
   "outputs": [],
   "source": [
    "%autoreload 2\n",
    "\n",
    "import _mypath\n",
    "from bripipetools import brigalaxy as bg"
   ]
  },
  {
   "cell_type": "code",
   "execution_count": 42,
   "metadata": {
    "collapsed": false
   },
   "outputs": [],
   "source": [
    "sm = bg.SessionManager(user_num=0)\n",
    "sm.add_target_dir('./tmp')"
   ]
  },
  {
   "cell_type": "code",
   "execution_count": 43,
   "metadata": {
    "collapsed": false
   },
   "outputs": [
    {
     "name": "stdout",
     "output_type": "stream",
     "text": [
      "\n",
      "Found the following histories:\n",
      "  0 : ATAC_hg19_test\n",
      "  1 : P131-1_C893JANXX\n",
      "  2 : P43-43_C893JANXX\n",
      "  3 : P43-42_C893JANXX\n",
      "  4 : P43-41_C893JANXX\n",
      "  5 : P90-17_C893JANXX\n",
      "  6 : P116-1_C6REVANXX-new\n",
      "  7 : P116-2_C81LMANXX\n",
      "  8 : P54-20_C81B3ANXX\n",
      "  9 : P91-15_C81B3ANXX\n",
      " 10 : P91-14_C81B3ANXX\n",
      " 11 : P43-40_C81B3ANXX\n",
      " 12 : P43-39_C81B3ANXX\n",
      " 13 : P43-38_C81B3ANXX\n",
      " 14 : P54-21_C81B3ANXX\n",
      " 15 : P91-16_C81B3ANXX\n",
      " 16 : P123-4_C81B3ANXX\n",
      " 17 : P130-1_C81B3ANXX\n",
      " 18 : P91-10_C6VG0ANXX_2\n",
      " 19 : P90-13_deDupBAMs\n",
      " 20 : P121-1_C6RNYANXX\n",
      " 21 : lib6830_test\n",
      " 22 : lib6833_test\n",
      " 23 : P66-3_C81LMANXX\n",
      " 24 : P66-3_C81LMANXX_2\n",
      " 25 : P117-4_C81LMANXX\n",
      " 26 : P54-18_C81LMANXX\n",
      " 27 : P82-4_C81LMANXX\n",
      " 28 : P54-19_C81LMANXX\n",
      " 29 : P54-17_C81LMANXX\n",
      " 30 : P127-1_C81LMANXX\n",
      " 31 : P122-1_C81A1ANXX_2\n",
      " 32 : P122-1_C81A1ANXX\n",
      " 33 : P85-10_C81A1ANXX\n",
      " 34 : P54-16_C81A1ANXX\n",
      " 35 : P43-34_C81A1ANXX\n",
      " 36 : P85-9_C81A1ANXX\n",
      " 37 : P85-8_C81A1ANXX\n",
      " 38 : P43-32_C81A1ANXX\n",
      " 39 : P43-31_C81A1ANXX\n",
      " 40 : P43-29_C81A1ANXX\n",
      " 41 : P43-30_C81A1ANXX\n",
      " 42 : P43-33_C81A1ANXX\n",
      " 43 : P69-6_C6VG0ANXX\n",
      " 44 : P109-1_C6VG0ANXX\n",
      " 45 : P14-12_C6VG0ANXX\n",
      " 46 : P81-8_C6VG0ANXX\n",
      " 47 : P43-13_C6VG0ANXX\n",
      " 48 : P43-12_C6VG0ANXX\n",
      " 49 : P43-12_C6VG0ANXX\n",
      " 50 : gP43-12_alignment_metrics\n",
      " 51 : gP43-12_metrics_test\n",
      " 52 : P69-8_C81MLANXX\n",
      " 53 : P123-2_C81MLANXX\n",
      " 54 : P43-28_C81MLANXX\n",
      " 55 : P54-14_C81MLANXX\n",
      " 56 : P54-12_C81MLANXX\n",
      " 57 : P54-10_C81MLANXX\n",
      " 58 : P54-15_C81MLANXX\n",
      " 59 : P54-11_C81MLANXX\n",
      " 60 : P48_C3523ACXX\n",
      " 61 : P124-1_C81KDANXX\n",
      " 62 : P110-22840821_C6VC8ANXX\n",
      " 63 : P116-1_C6REVANXX-2\n",
      " 64 : P54-8_C81KDANXX-2\n",
      " 65 : P54-8_C81KDANXX\n",
      " 66 : P54-6_C81KDANXX\n",
      " 67 : P81-9_C81KDANXX\n",
      " 68 : P54-9_C81KDANXX\n",
      " 69 : P43-25_C81KDANXX\n",
      " 70 : P90-14_C81KDANXX\n",
      " 71 : P116-1_C6REVANXX\n",
      " 72 : P43-24_C6RNYANXX\n",
      " 73 : P120-1_C6RNYANXX\n",
      " 74 : P118-1_C6RNYANXX\n",
      " 75 : P119-1_C6RNYANXX\n",
      " 76 : P54-7_C6RNYANXX\n",
      " 77 : P43-23_C6RNYANXX\n",
      " 78 : P43-22_C6RNYANXX\n",
      " 79 : P43-21_C6RNYANXX\n",
      " 80 : P43-20_C6RNYANXX\n",
      " 81 : Linsley_P91\n",
      " 82 : P89-13-C6REVANXX_noTrinity\n",
      " 83 : P89-12-C6REVANXX_noTrinity\n",
      " 84 : P89-11-C6REVANXX_noTrinity\n",
      " 85 : P89-10-C6REVANXX_noTrinity\n",
      " 86 : P89-8-C6REVANXX_noTrinity\n",
      " 87 : P89-6-C6REVANXX_noTrinity\n",
      " 88 : P89-7_C6VC6ANXX_2\n",
      " 89 : P89-9_C6VC6ANXX_2\n",
      " 90 : P89-9_C6REVANXX\n",
      " 91 : P89-7_C6REVANXX\n",
      " 92 : P89-5_C6REVANXX\n",
      " 93 : Linsley_P48P91\n",
      " 94 : P90-13_C6NRPANXX\n",
      " 95 : P90-13_C6LKTANXX\n",
      " 96 : Linsley_P54_2\n",
      " 97 : P91-13_C6VF8ANXX\n",
      " 98 : P91-12_C6VF8ANXX\n",
      " 99 : P91-11_C6VF8ANXX\n",
      "100 : P90-13_C6VF8ANXX\n",
      "101 : P54-4_C6VC6ANXX\n",
      "102 : P54-3_C6VC6ANXX\n",
      "103 : P89-9_C6VC6ANXX\n",
      "104 : P89-7_C6VC6ANXX\n",
      "105 : P43-18_C6VC6ANXX\n",
      "106 : P117-2_C6VC6ANXX\n",
      "107 : P117-1_C6VC6ANXX\n",
      "108 : P117-3_C6VC6ANXX\n",
      "109 : P111-2_C6VC6ANXX\n",
      "110 : P90-14_C6VC6ANXX\n",
      "111 : P85_MAIT_Sample_58\n",
      "112 : Linsley_C1_IL7R\n",
      "113 : P115-1_HMMF2ADXX\n",
      "114 : P43-17_HVHTMADXX\n",
      "115 : P43-19_HVHTMADXX\n",
      "116 : P85-7_HVHTMADXX\n",
      "117 : P54-5_HVHTMADXX\n",
      "118 : P85-6_C6VC8ANXX\n",
      "119 : P85-5_C6VC8ANXX\n",
      "120 : Linsley_Placebo_new\n",
      "121 : P54-2_HMMCMADXX\n",
      "122 : P69-6_C6VG0ANXX\n",
      "123 : P109-1_C6VG0ANXX\n",
      "124 : P91-10_C6VG0ANXX\n",
      "125 : P81-8_C6VG0ANXX\n",
      "126 : P43-13_C6VG0ANXX\n",
      "127 : P43-12_C6VG0ANXX\n",
      "128 : P14-12_C6VG0ANXX\n",
      "129 : P54-2_HJVF3ADXX\n",
      "Type the number of the History you wish to select: 1\n"
     ]
    }
   ],
   "source": [
    "hm = bg.HistoryManager(sm.gi)"
   ]
  },
  {
   "cell_type": "code",
   "execution_count": 44,
   "metadata": {
    "collapsed": true
   },
   "outputs": [],
   "source": [
    "hm.collect_history_info()\n",
    "input_dataset_list = hm.show_input_datasets()\n",
    "i = input_dataset_list[1]"
   ]
  },
  {
   "cell_type": "code",
   "execution_count": 45,
   "metadata": {
    "collapsed": false
   },
   "outputs": [],
   "source": [
    "rc = bg.ResultCollector(hm, i)\n",
    "output_dataset_list = rc.show_output_list()\n",
    "macs_outputs = [o for o in output_dataset_list if 'MACS' in o.get('name')]"
   ]
  },
  {
   "cell_type": "code",
   "execution_count": 57,
   "metadata": {
    "collapsed": false
   },
   "outputs": [
    {
     "data": {
      "text/plain": [
       "[(0, u'skip_MACS2 callpeak (Peaks in BED format)'),\n",
       " (1, u'MACS2 callpeak (broad Peaks)'),\n",
       " (2, u'MACS2 callpeak (gapped Peaks)'),\n",
       " (3, u'skip_MACS2 callpeak (summits in BED)'),\n",
       " (4, u'skip_MACS2 callpeak (Bedgraph Treatment)'),\n",
       " (5, u'skip_MACS2 callpeak (Bedgraph Control)'),\n",
       " (6, u'MACS2 callpeak (Peaks in BED format)'),\n",
       " (7, u'MACS2 callpeak (narrow Peaks)'),\n",
       " (8, u'MACS2 callpeak (summits in BED)'),\n",
       " (9, u'MACS2 callpeak (Bedgraph Treatment)'),\n",
       " (10, u'MACS2 callpeak (Bedgraph Control)')]"
      ]
     },
     "execution_count": 57,
     "metadata": {},
     "output_type": "execute_result"
    }
   ],
   "source": [
    "[(idx,i.get('name')) for idx,i in enumerate(macs_outputs)]"
   ]
  },
  {
   "cell_type": "code",
   "execution_count": 103,
   "metadata": {
    "collapsed": false
   },
   "outputs": [
    {
     "name": "stdout",
     "output_type": "stream",
     "text": [
      "{'dataset_name': u'MACS2 callpeak (Peaks in BED format)',\n",
      " 'instructions': {'file_url': u'/net/srvzfs01.brivmrc.org/pool1/genomics/srvgalaxy02/galaxy-dist/database/files/000/371/dataset_371013.dat',\n",
      "                  'method': u'local',\n",
      "                  'out_file': u'./tmp/peakCallOutput/macs2_broad/lib11028_C893JANXX_peaks.bed'},\n",
      " 'result_folder': u'./tmp/peakCallOutput/macs2_broad',\n",
      " 'result_type': u'macsPeaksBedFile'}\n",
      "{'dataset_name': u'MACS2 callpeak (broad Peaks)',\n",
      " 'instructions': {'file_url': u'/net/srvzfs01.brivmrc.org/pool1/genomics/srvgalaxy02/galaxy-dist/database/files/000/371/dataset_371014.dat',\n",
      "                  'method': u'local',\n",
      "                  'out_file': u'./tmp/peakCallOutput/macs2_broad/lib11028_C893JANXX_broadpeaks.bed'},\n",
      " 'result_folder': u'./tmp/peakCallOutput/macs2_broad',\n",
      " 'result_type': u'macsBroadPeaksBedFile'}\n",
      "{'dataset_name': u'MACS2 callpeak (gapped Peaks)',\n",
      " 'instructions': 'NA',\n",
      " 'result_folder': 'NA',\n",
      " 'result_type': None}\n",
      "{'dataset_name': u'MACS2 callpeak (summits in BED)',\n",
      " 'instructions': {'file_url': u'/net/srvzfs01.brivmrc.org/pool1/genomics/srvgalaxy02/galaxy-dist/database/files/000/371/dataset_371016.dat',\n",
      "                  'method': u'local',\n",
      "                  'out_file': u'./tmp/peakCallOutput/macs2_broad/lib11028_C893JANXX_summits.bed'},\n",
      " 'result_folder': u'./tmp/peakCallOutput/macs2_broad',\n",
      " 'result_type': u'macsSummitsBedFile'}\n",
      "{'dataset_name': u'MACS2 callpeak (Bedgraph Treatment)',\n",
      " 'instructions': {'file_url': u'/net/srvzfs01.brivmrc.org/pool1/genomics/srvgalaxy02/galaxy-dist/database/files/000/371/dataset_371017.dat',\n",
      "                  'method': u'local',\n",
      "                  'out_file': u'./tmp/peakCallOutput/macs2_broad/lib11028_C893JANXX_treatment.bdg'},\n",
      " 'result_folder': u'./tmp/peakCallOutput/macs2_broad',\n",
      " 'result_type': u'macsTreatBedGraphFile'}\n",
      "{'dataset_name': u'MACS2 callpeak (Bedgraph Control)',\n",
      " 'instructions': 'NA',\n",
      " 'result_folder': 'NA',\n",
      " 'result_type': None}\n",
      "{'dataset_name': u'MACS2 callpeak (Peaks in BED format)',\n",
      " 'instructions': {'file_url': u'/net/srvzfs01.brivmrc.org/pool1/genomics/srvgalaxy02/galaxy-dist/database/files/000/371/dataset_371019.dat',\n",
      "                  'method': u'local',\n",
      "                  'out_file': u'./tmp/peakCallOutput/macs2/lib11028_C893JANXX_peaks.bed'},\n",
      " 'result_folder': u'./tmp/peakCallOutput/macs2',\n",
      " 'result_type': u'macsPeaksBedFile'}\n",
      "{'dataset_name': u'MACS2 callpeak (narrow Peaks)',\n",
      " 'instructions': {'file_url': u'/net/srvzfs01.brivmrc.org/pool1/genomics/srvgalaxy02/galaxy-dist/database/files/000/371/dataset_371020.dat',\n",
      "                  'method': u'local',\n",
      "                  'out_file': u'./tmp/peakCallOutput/macs2/lib11028_C893JANXX_narrowpeaks.bed'},\n",
      " 'result_folder': u'./tmp/peakCallOutput/macs2',\n",
      " 'result_type': u'macsNarrowPeaksBedFile'}\n",
      "{'dataset_name': u'MACS2 callpeak (summits in BED)',\n",
      " 'instructions': {'file_url': u'/net/srvzfs01.brivmrc.org/pool1/genomics/srvgalaxy02/galaxy-dist/database/files/000/371/dataset_371021.dat',\n",
      "                  'method': u'local',\n",
      "                  'out_file': u'./tmp/peakCallOutput/macs2/lib11028_C893JANXX_summits.bed'},\n",
      " 'result_folder': u'./tmp/peakCallOutput/macs2',\n",
      " 'result_type': u'macsSummitsBedFile'}\n",
      "{'dataset_name': u'MACS2 callpeak (Bedgraph Treatment)',\n",
      " 'instructions': {'file_url': u'/net/srvzfs01.brivmrc.org/pool1/genomics/srvgalaxy02/galaxy-dist/database/files/000/371/dataset_371022.dat',\n",
      "                  'method': u'local',\n",
      "                  'out_file': u'./tmp/peakCallOutput/macs2/lib11028_C893JANXX_treatment.bdg'},\n",
      " 'result_folder': u'./tmp/peakCallOutput/macs2',\n",
      " 'result_type': u'macsTreatBedGraphFile'}\n",
      "{'dataset_name': u'MACS2 callpeak (Bedgraph Control)',\n",
      " 'instructions': 'NA',\n",
      " 'result_folder': 'NA',\n",
      " 'result_type': None}\n"
     ]
    }
   ],
   "source": [
    "from pprint import pprint\n",
    "for o in macs_outputs:\n",
    "    rd = bg.ResultDownloader(sm, rc.lib, o)\n",
    "    pprint(rd.show())"
   ]
  },
  {
   "cell_type": "code",
   "execution_count": 101,
   "metadata": {
    "collapsed": false
   },
   "outputs": [
    {
     "name": "stdout",
     "output_type": "stream",
     "text": [
      "{u'htseqMetrics': u'metrics', u'fastqQc': u'QC', u'adapterTrimMetrics': u'metrics', u'macsPeaksBedFile': u'peakCallOutput/macs2', u'delBedFile': u'viz', u'trimmedFastq': u'TrimmedFastqs', u'rnaseqMetrics': u'metrics', u'macsTreatBedGraphFile': u'peakCallOutput/macs2', u'countFile': u'counts', u'bamFile': u'alignments', u'rmDupBamFile': u'alignments_noDups', u'rmDupMetrics': u'metrics', u'tophatStatsMetrics': u'metrics', u'alignMetrics': u'metrics', u'inBedFile': u'viz', u'macsSummitsBedFile': u'peakCallOutput/macs2', u'atacSeqMetrics': u'metrics', u'juncBedFile': u'viz'}\n"
     ]
    },
    {
     "data": {
      "text/plain": [
       "{'dataset_name': u'MACS2 callpeak (Bedgraph Treatment)',\n",
       " 'instructions': {'file_url': u'/net/srvzfs01.brivmrc.org/pool1/genomics/srvgalaxy02/galaxy-dist/database/files/000/371/dataset_371017.dat',\n",
       "  'method': u'local',\n",
       "  'out_file': u'./tmp/peakCallOutput/macs2_broad/lib11028_C893JANXX_treatment.bdg'},\n",
       " 'result_folder': u'./tmp/peakCallOutput/macs2_broad',\n",
       " 'result_type': u'macsTreatBedGraphFile'}"
      ]
     },
     "execution_count": 101,
     "metadata": {},
     "output_type": "execute_result"
    }
   ],
   "source": [
    "rd.show()"
   ]
  },
  {
   "cell_type": "code",
   "execution_count": 49,
   "metadata": {
    "collapsed": true
   },
   "outputs": [],
   "source": [
    "from bioblend import galaxy"
   ]
  },
  {
   "cell_type": "code",
   "execution_count": 77,
   "metadata": {
    "collapsed": false
   },
   "outputs": [],
   "source": [
    "o_idx = 4\n",
    "history_id = (sm.gi.datasets.show_dataset(macs_outputs[o_idx].get('id'))\n",
    "                  .get('history_id'))\n",
    "macs2_params = (sm.gi.histories.show_dataset_provenance(history_id, macs_outputs[o_idx].get('id'))\n",
    "     .get('parameters')\n",
    "     .get('advanced_options'))"
   ]
  },
  {
   "cell_type": "code",
   "execution_count": 78,
   "metadata": {
    "collapsed": false
   },
   "outputs": [
    {
     "data": {
      "text/plain": [
       "True"
      ]
     },
     "execution_count": 78,
     "metadata": {},
     "output_type": "execute_result"
    }
   ],
   "source": [
    "'broad' in macs2_params"
   ]
  },
  {
   "cell_type": "code",
   "execution_count": 97,
   "metadata": {
    "collapsed": true
   },
   "outputs": [],
   "source": [
    "a = 'a'"
   ]
  },
  {
   "cell_type": "code",
   "execution_count": 98,
   "metadata": {
    "collapsed": true
   },
   "outputs": [],
   "source": [
    "a += 'b'"
   ]
  },
  {
   "cell_type": "code",
   "execution_count": 99,
   "metadata": {
    "collapsed": false
   },
   "outputs": [
    {
     "data": {
      "text/plain": [
       "'ab'"
      ]
     },
     "execution_count": 99,
     "metadata": {},
     "output_type": "execute_result"
    }
   ],
   "source": [
    "a"
   ]
  },
  {
   "cell_type": "code",
   "execution_count": null,
   "metadata": {
    "collapsed": true
   },
   "outputs": [],
   "source": []
  }
 ],
 "metadata": {
  "kernelspec": {
   "display_name": "Python 2",
   "language": "python",
   "name": "python2"
  },
  "language_info": {
   "codemirror_mode": {
    "name": "ipython",
    "version": 2
   },
   "file_extension": ".py",
   "mimetype": "text/x-python",
   "name": "python",
   "nbconvert_exporter": "python",
   "pygments_lexer": "ipython2",
   "version": "2.7.11"
  }
 },
 "nbformat": 4,
 "nbformat_minor": 0
}
