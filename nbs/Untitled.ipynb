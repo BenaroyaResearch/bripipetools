{
 "cells": [
  {
   "cell_type": "code",
   "execution_count": 1,
   "metadata": {
    "collapsed": true
   },
   "outputs": [],
   "source": [
    "import _mypath\n",
    "from bripipetools.brigalaxy import (session_ops, history_ops, dataset_ops)"
   ]
  },
  {
   "cell_type": "code",
   "execution_count": 2,
   "metadata": {
    "collapsed": false
   },
   "outputs": [
    {
     "name": "stdout",
     "output_type": "stream",
     "text": [
      "\n",
      "Found the following users:\n",
      "  0 : jeddy@benaroyaresearch.org\n",
      "  1 : mmason@benaroyaresearch.org\n",
      "Type the number of the user you wish to select: 0\n"
     ]
    }
   ],
   "source": [
    "sm = session_ops.SessionManager()"
   ]
  },
  {
   "cell_type": "code",
   "execution_count": 3,
   "metadata": {
    "collapsed": true
   },
   "outputs": [],
   "source": [
    "sm.connect_all()"
   ]
  },
  {
   "cell_type": "code",
   "execution_count": 4,
   "metadata": {
    "collapsed": false
   },
   "outputs": [
    {
     "name": "stdout",
     "output_type": "stream",
     "text": [
      "\n",
      "Found the following histories:\n",
      "  0 : SRP060416\n",
      "  1 : SRA_ILC\n",
      "  2 : ERCC_ref_prep\n",
      "  3 : P85-14_trinity\n",
      "  4 : P85-13_trinity\n",
      "  5 : C8B30ANXX_trim_test\n",
      "  6 : P85-14_C8B30ANXX\n",
      "  7 : P85-13_C8B30ANXX\n",
      "  8 : P91-17_C8B30ANXX\n",
      "  9 : P123-6_C8B30ANXX\n",
      " 10 : P123-5_C8B30ANXX\n",
      " 11 : P81-10_C8B30ANXX\n",
      " 12 : P43-45_C8B30ANXX\n",
      " 13 : P43-44_C8B30ANXX\n",
      " 14 : P90-18_C8B30ANXX\n",
      " 15 : P16-2_C8KHRANXX_lib11241\n",
      " 16 : P16-2_C8KHRANXX\n",
      " 17 : P16_testing\n",
      " 18 : P131-1_C893JANXX_2\n",
      " 19 : P131-1_C893JANXX\n",
      " 20 : P116-2_C81LMANXX_hg19\n",
      " 21 : P116-1_C6REVANXX_hg19\n",
      " 22 : ATAC_hg19_test2\n",
      " 23 : ATAC_hg19_test\n",
      " 24 : P43-43_C893JANXX\n",
      " 25 : P43-42_C893JANXX\n",
      " 26 : P43-41_C893JANXX\n",
      " 27 : P90-17_C893JANXX\n",
      " 28 : P116-1_C6REVANXX-new\n",
      " 29 : P116-2_C81LMANXX\n",
      " 30 : P54-20_C81B3ANXX\n",
      " 31 : P91-15_C81B3ANXX\n",
      " 32 : P91-14_C81B3ANXX\n",
      " 33 : P43-40_C81B3ANXX\n",
      " 34 : P43-39_C81B3ANXX\n",
      " 35 : P43-38_C81B3ANXX\n",
      " 36 : P54-21_C81B3ANXX\n",
      " 37 : P91-16_C81B3ANXX\n",
      " 38 : P123-4_C81B3ANXX\n",
      " 39 : P130-1_C81B3ANXX\n",
      " 40 : P91-10_C6VG0ANXX_2\n",
      " 41 : P90-13_deDupBAMs\n",
      " 42 : P121-1_C6RNYANXX\n",
      " 43 : lib6830_test\n",
      " 44 : lib6833_test\n",
      " 45 : P66-3_C81LMANXX\n",
      " 46 : P66-3_C81LMANXX_2\n",
      " 47 : P117-4_C81LMANXX\n",
      " 48 : P54-18_C81LMANXX\n",
      " 49 : P82-4_C81LMANXX\n",
      " 50 : P54-19_C81LMANXX\n",
      " 51 : P54-17_C81LMANXX\n",
      " 52 : P127-1_C81LMANXX\n",
      " 53 : P122-1_C81A1ANXX_2\n",
      " 54 : P122-1_C81A1ANXX\n",
      " 55 : P85-10_C81A1ANXX\n",
      " 56 : P54-16_C81A1ANXX\n",
      " 57 : P43-34_C81A1ANXX\n",
      " 58 : P85-9_C81A1ANXX\n",
      " 59 : P85-8_C81A1ANXX\n",
      " 60 : P43-32_C81A1ANXX\n",
      " 61 : P43-31_C81A1ANXX\n",
      " 62 : P43-29_C81A1ANXX\n",
      " 63 : P43-30_C81A1ANXX\n",
      " 64 : P43-33_C81A1ANXX\n",
      " 65 : P69-6_C6VG0ANXX\n",
      " 66 : P109-1_C6VG0ANXX\n",
      " 67 : P14-12_C6VG0ANXX\n",
      " 68 : P81-8_C6VG0ANXX\n",
      " 69 : P43-13_C6VG0ANXX\n",
      " 70 : P43-12_C6VG0ANXX\n",
      " 71 : P43-12_C6VG0ANXX\n",
      " 72 : gP43-12_alignment_metrics\n",
      " 73 : gP43-12_metrics_test\n",
      " 74 : P69-8_C81MLANXX\n",
      " 75 : P123-2_C81MLANXX\n",
      " 76 : P43-28_C81MLANXX\n",
      " 77 : P54-14_C81MLANXX\n",
      " 78 : P54-12_C81MLANXX\n",
      " 79 : P54-10_C81MLANXX\n",
      " 80 : P54-15_C81MLANXX\n",
      " 81 : P54-11_C81MLANXX\n",
      " 82 : P48_C3523ACXX\n",
      " 83 : P124-1_C81KDANXX\n",
      " 84 : P110-22840821_C6VC8ANXX\n",
      " 85 : P116-1_C6REVANXX-2\n",
      " 86 : P54-8_C81KDANXX-2\n",
      " 87 : P54-8_C81KDANXX\n",
      " 88 : P54-6_C81KDANXX\n",
      " 89 : P81-9_C81KDANXX\n",
      " 90 : P54-9_C81KDANXX\n",
      " 91 : P43-25_C81KDANXX\n",
      " 92 : P90-14_C81KDANXX\n",
      " 93 : P116-1_C6REVANXX\n",
      " 94 : P43-24_C6RNYANXX\n",
      " 95 : P120-1_C6RNYANXX\n",
      " 96 : P118-1_C6RNYANXX\n",
      " 97 : P119-1_C6RNYANXX\n",
      " 98 : P54-7_C6RNYANXX\n",
      " 99 : P43-23_C6RNYANXX\n",
      "100 : P43-22_C6RNYANXX\n",
      "101 : P43-21_C6RNYANXX\n",
      "102 : P43-20_C6RNYANXX\n",
      "103 : Linsley_P91\n",
      "104 : P89-13-C6REVANXX_noTrinity\n",
      "105 : P89-12-C6REVANXX_noTrinity\n",
      "106 : P89-11-C6REVANXX_noTrinity\n",
      "107 : P89-10-C6REVANXX_noTrinity\n",
      "108 : P89-8-C6REVANXX_noTrinity\n",
      "109 : P89-6-C6REVANXX_noTrinity\n",
      "110 : P89-7_C6VC6ANXX_2\n",
      "111 : P89-9_C6VC6ANXX_2\n",
      "112 : P89-9_C6REVANXX\n",
      "113 : P89-7_C6REVANXX\n",
      "114 : P89-5_C6REVANXX\n",
      "115 : Linsley_P48P91\n",
      "116 : P90-13_C6NRPANXX\n",
      "117 : P90-13_C6LKTANXX\n",
      "118 : Linsley_P54_2\n",
      "119 : P91-13_C6VF8ANXX\n",
      "120 : P91-12_C6VF8ANXX\n",
      "121 : P91-11_C6VF8ANXX\n",
      "122 : P90-13_C6VF8ANXX\n",
      "123 : P54-4_C6VC6ANXX\n",
      "124 : P54-3_C6VC6ANXX\n",
      "125 : P89-9_C6VC6ANXX\n",
      "126 : P89-7_C6VC6ANXX\n",
      "127 : P43-18_C6VC6ANXX\n",
      "128 : P117-2_C6VC6ANXX\n",
      "129 : P117-1_C6VC6ANXX\n",
      "130 : P117-3_C6VC6ANXX\n",
      "131 : P111-2_C6VC6ANXX\n",
      "132 : P90-14_C6VC6ANXX\n",
      "133 : P85_MAIT_Sample_58\n",
      "134 : Linsley_C1_IL7R\n",
      "135 : P115-1_HMMF2ADXX\n",
      "136 : P43-17_HVHTMADXX\n",
      "137 : P43-19_HVHTMADXX\n",
      "138 : P85-7_HVHTMADXX\n",
      "139 : P54-5_HVHTMADXX\n",
      "140 : P85-6_C6VC8ANXX\n",
      "141 : P85-5_C6VC8ANXX\n",
      "142 : Linsley_Placebo_new\n",
      "143 : P54-2_HMMCMADXX\n",
      "144 : P69-6_C6VG0ANXX\n",
      "145 : P109-1_C6VG0ANXX\n",
      "146 : P91-10_C6VG0ANXX\n",
      "147 : P81-8_C6VG0ANXX\n",
      "148 : P43-13_C6VG0ANXX\n",
      "149 : P43-12_C6VG0ANXX\n",
      "150 : P14-12_C6VG0ANXX\n",
      "151 : P54-2_HJVF3ADXX\n",
      "Type the number of the History you wish to select: 7\n"
     ]
    }
   ],
   "source": [
    "hi = history_ops.HistoryInspector(sm.gi)"
   ]
  },
  {
   "cell_type": "code",
   "execution_count": 5,
   "metadata": {
    "collapsed": true
   },
   "outputs": [],
   "source": [
    "hi.build_dataset_graph()"
   ]
  },
  {
   "cell_type": "code",
   "execution_count": 6,
   "metadata": {
    "collapsed": false
   },
   "outputs": [],
   "source": [
    "import re\n",
    "fastqc = [d for d in hi.show_datasets() if re.search('FastQC', d.get('name'))]"
   ]
  },
  {
   "cell_type": "code",
   "execution_count": 7,
   "metadata": {
    "collapsed": false
   },
   "outputs": [],
   "source": [
    "import os\n",
    "outdir = 'test'\n",
    "if not os.path.isdir(outdir):\n",
    "    os.makedirs(outdir)"
   ]
  },
  {
   "cell_type": "code",
   "execution_count": 8,
   "metadata": {
    "collapsed": false
   },
   "outputs": [
    {
     "data": {
      "text/plain": [
       "'http://srvgalaxy02/datasets/c068275338524efe/display?to_ext=html'"
      ]
     },
     "execution_count": 8,
     "metadata": {},
     "output_type": "execute_result"
    }
   ],
   "source": [
    "fastqc_file = fastqc[0].get('id')\n",
    "file_url = ('{0}/datasets/{1}/display?to_ext=html').format(sm.server, fastqc_file)\n",
    "file_url"
   ]
  },
  {
   "cell_type": "code",
   "execution_count": 42,
   "metadata": {
    "collapsed": false
   },
   "outputs": [],
   "source": [
    "r = sm.gs.get(file_url, verify=sm.gi.verify)\n",
    "outfile = os.path.join(outdir, 'qcR1_fastqc.zip')\n",
    "with open(outfile, 'wb') as f:\n",
    "    f.write(r.content)"
   ]
  },
  {
   "cell_type": "code",
   "execution_count": 45,
   "metadata": {
    "collapsed": false
   },
   "outputs": [
    {
     "ename": "KeyError",
     "evalue": "\"There is no item named 'fastqc_raw_data.txt' in the archive\"",
     "output_type": "error",
     "traceback": [
      "\u001b[0;31m---------------------------------------------------------------------------\u001b[0m",
      "\u001b[0;31mKeyError\u001b[0m                                  Traceback (most recent call last)",
      "\u001b[0;32m<ipython-input-45-398dc3295e72>\u001b[0m in \u001b[0;36m<module>\u001b[0;34m()\u001b[0m\n\u001b[1;32m      3\u001b[0m     \u001b[0mqc_list\u001b[0m \u001b[0;34m=\u001b[0m \u001b[0mqc_zip\u001b[0m\u001b[0;34m.\u001b[0m\u001b[0mnamelist\u001b[0m\u001b[0;34m(\u001b[0m\u001b[0;34m)\u001b[0m\u001b[0;34m\u001b[0m\u001b[0m\n\u001b[1;32m      4\u001b[0m     \u001b[0mdata\u001b[0m \u001b[0;34m=\u001b[0m \u001b[0;34m[\u001b[0m\u001b[0mf\u001b[0m \u001b[0;32mfor\u001b[0m \u001b[0mf\u001b[0m \u001b[0;32min\u001b[0m \u001b[0mqc_list\u001b[0m \u001b[0;32mif\u001b[0m \u001b[0mre\u001b[0m\u001b[0;34m.\u001b[0m\u001b[0msearch\u001b[0m\u001b[0;34m(\u001b[0m\u001b[0;34m'fastqc_data'\u001b[0m\u001b[0;34m,\u001b[0m \u001b[0mf\u001b[0m\u001b[0;34m)\u001b[0m\u001b[0;34m]\u001b[0m\u001b[0;34m[\u001b[0m\u001b[0;36m0\u001b[0m\u001b[0;34m]\u001b[0m\u001b[0;34m\u001b[0m\u001b[0m\n\u001b[0;32m----> 5\u001b[0;31m     \u001b[0;32mwith\u001b[0m \u001b[0mqc_zip\u001b[0m\u001b[0;34m.\u001b[0m\u001b[0mopen\u001b[0m\u001b[0;34m(\u001b[0m\u001b[0;34m'fastqc_raw_data.txt'\u001b[0m\u001b[0;34m)\u001b[0m \u001b[0;32mas\u001b[0m \u001b[0mnd\u001b[0m\u001b[0;34m:\u001b[0m\u001b[0;34m\u001b[0m\u001b[0m\n\u001b[0m\u001b[1;32m      6\u001b[0m         \u001b[0mnd\u001b[0m\u001b[0;34m.\u001b[0m\u001b[0mwrite\u001b[0m\u001b[0;34m(\u001b[0m\u001b[0mdata\u001b[0m\u001b[0;34m.\u001b[0m\u001b[0mread\u001b[0m\u001b[0;34m(\u001b[0m\u001b[0;34m)\u001b[0m\u001b[0;34m)\u001b[0m\u001b[0;34m\u001b[0m\u001b[0m\n\u001b[1;32m      7\u001b[0m \u001b[0;31m#     contents = qc_zip.open(real_zip)\u001b[0m\u001b[0;34m\u001b[0m\u001b[0;34m\u001b[0m\u001b[0m\n",
      "\u001b[0;32m/Users/jaeddy/anaconda/envs/bripipetools/lib/python2.7/zipfile.pyc\u001b[0m in \u001b[0;36mopen\u001b[0;34m(self, name, mode, pwd)\u001b[0m\n\u001b[1;32m    959\u001b[0m             \u001b[0;32melse\u001b[0m\u001b[0;34m:\u001b[0m\u001b[0;34m\u001b[0m\u001b[0m\n\u001b[1;32m    960\u001b[0m                 \u001b[0;31m# Get info object for name\u001b[0m\u001b[0;34m\u001b[0m\u001b[0;34m\u001b[0m\u001b[0m\n\u001b[0;32m--> 961\u001b[0;31m                 \u001b[0mzinfo\u001b[0m \u001b[0;34m=\u001b[0m \u001b[0mself\u001b[0m\u001b[0;34m.\u001b[0m\u001b[0mgetinfo\u001b[0m\u001b[0;34m(\u001b[0m\u001b[0mname\u001b[0m\u001b[0;34m)\u001b[0m\u001b[0;34m\u001b[0m\u001b[0m\n\u001b[0m\u001b[1;32m    962\u001b[0m \u001b[0;34m\u001b[0m\u001b[0m\n\u001b[1;32m    963\u001b[0m             \u001b[0mzef_file\u001b[0m\u001b[0;34m.\u001b[0m\u001b[0mseek\u001b[0m\u001b[0;34m(\u001b[0m\u001b[0mzinfo\u001b[0m\u001b[0;34m.\u001b[0m\u001b[0mheader_offset\u001b[0m\u001b[0;34m,\u001b[0m \u001b[0;36m0\u001b[0m\u001b[0;34m)\u001b[0m\u001b[0;34m\u001b[0m\u001b[0m\n",
      "\u001b[0;32m/Users/jaeddy/anaconda/envs/bripipetools/lib/python2.7/zipfile.pyc\u001b[0m in \u001b[0;36mgetinfo\u001b[0;34m(self, name)\u001b[0m\n\u001b[1;32m    907\u001b[0m         \u001b[0;32mif\u001b[0m \u001b[0minfo\u001b[0m \u001b[0;32mis\u001b[0m \u001b[0mNone\u001b[0m\u001b[0;34m:\u001b[0m\u001b[0;34m\u001b[0m\u001b[0m\n\u001b[1;32m    908\u001b[0m             raise KeyError(\n\u001b[0;32m--> 909\u001b[0;31m                 'There is no item named %r in the archive' % name)\n\u001b[0m\u001b[1;32m    910\u001b[0m \u001b[0;34m\u001b[0m\u001b[0m\n\u001b[1;32m    911\u001b[0m         \u001b[0;32mreturn\u001b[0m \u001b[0minfo\u001b[0m\u001b[0;34m\u001b[0m\u001b[0m\n",
      "\u001b[0;31mKeyError\u001b[0m: \"There is no item named 'fastqc_raw_data.txt' in the archive\""
     ]
    }
   ],
   "source": [
    "import zipfile\n",
    "with zipfile.ZipFile(outfile) as qc_zip:\n",
    "    qc_list = qc_zip.namelist()\n",
    "    data = [f for f in qc_list if re.search('fastqc_data', f)][0]\n",
    "    qz_zip.write('fastqc_raw_data.txt')\n",
    "    \n",
    "    with qc_zip.open('fastqc_raw_data.txt') as nd:\n",
    "        nd.write(data.read())\n",
    "#     contents = qc_zip.open(real_zip)\n",
    "#     with open(new_outfile, 'wb') as nf:\n",
    "#         nf.write(contents.read())\n",
    "    "
   ]
  },
  {
   "cell_type": "code",
   "execution_count": 41,
   "metadata": {
    "collapsed": false
   },
   "outputs": [
    {
     "ename": "TypeError",
     "evalue": "'int' object is not callable",
     "output_type": "error",
     "traceback": [
      "\u001b[0;31m---------------------------------------------------------------------------\u001b[0m",
      "\u001b[0;31mTypeError\u001b[0m                                 Traceback (most recent call last)",
      "\u001b[0;32m<ipython-input-41-c8193515a10e>\u001b[0m in \u001b[0;36m<module>\u001b[0;34m()\u001b[0m\n\u001b[1;32m      1\u001b[0m \u001b[0mzf\u001b[0m \u001b[0;34m=\u001b[0m \u001b[0mzipfile\u001b[0m\u001b[0;34m.\u001b[0m\u001b[0mZipFile\u001b[0m\u001b[0;34m(\u001b[0m\u001b[0mnew_outfile\u001b[0m\u001b[0;34m)\u001b[0m\u001b[0;34m\u001b[0m\u001b[0m\n\u001b[0;32m----> 2\u001b[0;31m \u001b[0mzf\u001b[0m\u001b[0;34m.\u001b[0m\u001b[0mstart_dir\u001b[0m\u001b[0;34m(\u001b[0m\u001b[0;34m)\u001b[0m\u001b[0;34m\u001b[0m\u001b[0m\n\u001b[0m",
      "\u001b[0;31mTypeError\u001b[0m: 'int' object is not callable"
     ]
    }
   ],
   "source": [
    "zf = zipfile.ZipFile(new_outfile)\n",
    "zf.write()"
   ]
  },
  {
   "cell_type": "code",
   "execution_count": 21,
   "metadata": {
    "collapsed": false
   },
   "outputs": [
    {
     "data": {
      "text/plain": [
       "{'x-content-type-options': 'nosniff', 'content-disposition': 'attachment; filename=\"FastQC_FastqMcf_on_data_10_and_data_4__reads.html.zip\"', 'Transfer-Encoding': 'chunked', 'Server': 'nginx/1.1.19', 'Connection': 'keep-alive', 'Date': 'Mon, 18 Apr 2016 23:27:39 GMT', 'Content-Type': 'application/x-zip-compressed'}"
      ]
     },
     "execution_count": 21,
     "metadata": {},
     "output_type": "execute_result"
    }
   ],
   "source": [
    "r.headers"
   ]
  },
  {
   "cell_type": "code",
   "execution_count": null,
   "metadata": {
    "collapsed": true
   },
   "outputs": [],
   "source": []
  }
 ],
 "metadata": {
  "kernelspec": {
   "display_name": "Python 2",
   "language": "python",
   "name": "python2"
  },
  "language_info": {
   "codemirror_mode": {
    "name": "ipython",
    "version": 2
   },
   "file_extension": ".py",
   "mimetype": "text/x-python",
   "name": "python",
   "nbconvert_exporter": "python",
   "pygments_lexer": "ipython2",
   "version": "2.7.11"
  }
 },
 "nbformat": 4,
 "nbformat_minor": 0
}
