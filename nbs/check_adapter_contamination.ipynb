{
 "cells": [
  {
   "cell_type": "code",
   "execution_count": 1,
   "metadata": {
    "collapsed": true
   },
   "outputs": [],
   "source": [
    "import sys, os, re, zipfile, StringIO\n",
    "import pandas as pd"
   ]
  },
  {
   "cell_type": "code",
   "execution_count": null,
   "metadata": {
    "collapsed": true
   },
   "outputs": [],
   "source": [
    "def get_project_list(fc_dir):\n",
    "    project_list = [ os.path.join(fc_dir, f) \\\n",
    "                     for f in os.listdir(fc_dir) if re.search('^Project_', f) ]\n",
    "    \n",
    "    return project_list\n",
    "\n",
    "def get_lib_list(qc_dir):\n",
    "        lib_list = [ lib_file \\\n",
    "                     for lib_file in os.listdir(qc_dir) \\\n",
    "                    if 'lib' in lib_file]\n",
    "        lib_list = list(set(lib_list))\n",
    "        lib_list.sort()\n",
    "        return lib_list\n",
    "\n",
    "class FastQCReport(object):\n",
    "    def __init__(self, fastqc_file):\n",
    "        \n",
    "        self.fastqc_file = fastqc_file\n",
    "        \n",
    "    def read_fastqc(fastqc_path):\n",
    "        with zipfile.ZipFile(fastqc_path) as f:\n",
    "            f_src = StringIO.StringIO(f.read('fastqc_data.txt'))\n",
    "            fastqc_lines = f_src.readlines()\n",
    "\n",
    "        return fastqc_lines\n",
    "\n",
    "    def find_adapter_seqs(fastqc_lines, lib):\n",
    "        adapter_lines = [ [lib] + l.strip().split('\\t') for l in fastqc_lines if 'Index' in l ]\n",
    "        if not len(adapter_lines):\n",
    "            adapter_lines = [ [lib, '', '0', '0', ''] ]\n",
    "\n",
    "        return adapter_lines\n",
    "\n",
    "    def count_adapter_seqs(fastqc_lines):\n",
    "        adapter_lines = [l for l in fastqc_lines if 'TruSeq Adapter' in l]\n",
    "        num_adapters = len(adapter_lines)\n",
    "\n",
    "        return num_adapters\n",
    "\n",
    "    def collect_fastqc_data(qc_dir, lib_list):\n",
    "        adapter_list = []\n",
    "        for lib in lib_list:\n",
    "            fastqc_path = os.path.join(qc_dir, lib, 'qcR1.zip')\n",
    "            adapter_lines = find_adapter_seqs(read_fastqc(fastqc_path), lib)\n",
    "            adapter_list += adapter_lines\n",
    "\n",
    "        return adapter_list\n",
    "\n",
    "def summarize_fastqc_data(qc_dir, lib_list):\n",
    "    adapter_count = 0\n",
    "    for lib in lib_list:\n",
    "        fastqc_path = os.path.join(qc_dir, lib, 'qcR1.zip')\n",
    "        num_adapters = count_adapter_seqs(read_fastqc(fastqc_path))\n",
    "        if num_adapters:\n",
    "            adapter_count += 1\n",
    "    \n",
    "    return (len(lib_list), adapter_count))"
   ]
  },
  {
   "cell_type": "code",
   "execution_count": 2,
   "metadata": {
    "collapsed": true
   },
   "outputs": [],
   "source": [
    "fastqc_file = \"/Volumes/genomics/Illumina/160307_D00565_0103_BC893JANXX/Project_P90-17Processed_160310/QC/lib11034_C893JANXX/qcR1.zip\""
   ]
  },
  {
   "cell_type": "code",
   "execution_count": 3,
   "metadata": {
    "collapsed": true
   },
   "outputs": [],
   "source": [
    "def read_fastqc(fastqc_path):\n",
    "        with zipfile.ZipFile(fastqc_path) as f:\n",
    "            f_src = StringIO.StringIO(f.read('fastqc_data.txt'))\n",
    "            fastqc_lines = f_src.readlines()\n",
    "\n",
    "        return fastqc_lines\n",
    "\n",
    "fastqc_lines = read_fastqc(fastqc_file)"
   ]
  },
  {
   "cell_type": "code",
   "execution_count": 61,
   "metadata": {
    "collapsed": false
   },
   "outputs": [],
   "source": [
    "def find_modules(fastqc_lines):\n",
    "    module_pos = {}\n",
    "    for idx, l in enumerate(fastqc_lines):\n",
    "        if re.search('^>>', l):\n",
    "            if 'END' not in l:\n",
    "                module_name = l.lstrip('>>').rstrip().split('\\t')[0]\n",
    "                module_pos.setdefault(module_name, []).append(idx)\n",
    "            else:\n",
    "                module_pos.setdefault(module_name, []).append(idx)\n",
    "    return module_pos\n",
    "\n",
    "def get_module(fastqc_lines, module_pos, module_name):\n",
    "    module_start = module_pos[module_name][0] + 1\n",
    "    module_stop = module_pos[module_name][1]\n",
    "    module_lines = fastqc_lines[module_start:module_stop]\n",
    "    header_line = re.sub('#', '', module_lines[0].lower())\n",
    "    return pd.read_table(StringIO.StringIO(('').join([header_line] \n",
    "                                                     + module_lines[1:])))\n",
    "\n",
    "module = get_module(fastqc_lines, find_modules(fastqc_lines), 'Overrepresented sequences')"
   ]
  },
  {
   "cell_type": "code",
   "execution_count": 159,
   "metadata": {
    "collapsed": false
   },
   "outputs": [
    {
     "data": {
      "text/html": [
       "<div>\n",
       "<table border=\"1\" class=\"dataframe\">\n",
       "  <thead>\n",
       "    <tr style=\"text-align: right;\">\n",
       "      <th></th>\n",
       "      <th>sequence</th>\n",
       "      <th>count</th>\n",
       "      <th>percentage</th>\n",
       "      <th>possible source</th>\n",
       "      <th>seq_type</th>\n",
       "    </tr>\n",
       "  </thead>\n",
       "  <tbody>\n",
       "    <tr>\n",
       "      <th>0</th>\n",
       "      <td>NNNNNNNNNNNNNNNNNNNNNNNNNNNNNNNNNNN</td>\n",
       "      <td>67790</td>\n",
       "      <td>0.494957</td>\n",
       "      <td>No Hit</td>\n",
       "      <td>empty</td>\n",
       "    </tr>\n",
       "    <tr>\n",
       "      <th>1</th>\n",
       "      <td>GGCAGACGTTCGAATGGGTCGTCGCCGCCACGGGGGGCGTGCGATC...</td>\n",
       "      <td>20278</td>\n",
       "      <td>0.148056</td>\n",
       "      <td>No Hit</td>\n",
       "      <td>no hit</td>\n",
       "    </tr>\n",
       "    <tr>\n",
       "      <th>2</th>\n",
       "      <td>GCTCAATCTCGGGTGGCTGAACGCCACTTGTCCCTCTAAGAAGTTG...</td>\n",
       "      <td>14307</td>\n",
       "      <td>0.104460</td>\n",
       "      <td>No Hit</td>\n",
       "      <td>no hit</td>\n",
       "    </tr>\n",
       "    <tr>\n",
       "      <th>3</th>\n",
       "      <td>ACGACTTTTACTTCCTCTAGATAGTCAAGTTCGACCGTCTTCTCAG...</td>\n",
       "      <td>14136</td>\n",
       "      <td>0.103212</td>\n",
       "      <td>No Hit</td>\n",
       "      <td>no hit</td>\n",
       "    </tr>\n",
       "    <tr>\n",
       "      <th>4</th>\n",
       "      <td>GTTCGATTAGTCTTTCGCCCCTATACCCAGGTCGGACGACCGATTT...</td>\n",
       "      <td>13885</td>\n",
       "      <td>0.101379</td>\n",
       "      <td>No Hit</td>\n",
       "      <td>no hit</td>\n",
       "    </tr>\n",
       "  </tbody>\n",
       "</table>\n",
       "</div>"
      ],
      "text/plain": [
       "                                            sequence  count  percentage  \\\n",
       "0                NNNNNNNNNNNNNNNNNNNNNNNNNNNNNNNNNNN  67790    0.494957   \n",
       "1  GGCAGACGTTCGAATGGGTCGTCGCCGCCACGGGGGGCGTGCGATC...  20278    0.148056   \n",
       "2  GCTCAATCTCGGGTGGCTGAACGCCACTTGTCCCTCTAAGAAGTTG...  14307    0.104460   \n",
       "3  ACGACTTTTACTTCCTCTAGATAGTCAAGTTCGACCGTCTTCTCAG...  14136    0.103212   \n",
       "4  GTTCGATTAGTCTTTCGCCCCTATACCCAGGTCGGACGACCGATTT...  13885    0.101379   \n",
       "\n",
       "  possible source seq_type  \n",
       "0          No Hit    empty  \n",
       "1          No Hit   no hit  \n",
       "2          No Hit   no hit  \n",
       "3          No Hit   no hit  \n",
       "4          No Hit   no hit  "
      ]
     },
     "execution_count": 159,
     "metadata": {},
     "output_type": "execute_result"
    }
   ],
   "source": [
    "def check_type(seq, source):\n",
    "    type_dict = {'adapter': 'adapter',\n",
    "                 'primer': 'primer',\n",
    "                  'No': 'no hit'}\n",
    "    \n",
    "    if not re.search('[^N]', seq):\n",
    "        return pd.Series('empty')\n",
    "    else:\n",
    "        for key, value in type_dict.items():\n",
    "            if re.compile(key).search(source):\n",
    "                return pd.Series(value)\n",
    "\n",
    "#     return seq_type\n",
    "\n",
    "# def label_overrep_seqs(module):\n",
    "#     return module.assign(seq_type = lambda x: )\n",
    "\n",
    "# label_overrep_seqs(module)\n",
    "module['seq_type'] = module.apply(lambda x: check_type(x['sequence'], x['possible source']), axis=1)\n",
    "module"
   ]
  },
  {
   "cell_type": "code",
   "execution_count": 52,
   "metadata": {
    "collapsed": false
   },
   "outputs": [
    {
     "data": {
      "text/plain": [
       "'sequence\\tcount\\tpercentage\\tpossible source\\n'"
      ]
     },
     "execution_count": 52,
     "metadata": {},
     "output_type": "execute_result"
    }
   ],
   "source": [
    "re.sub('#', '', module_lines[0].lower())"
   ]
  },
  {
   "cell_type": "code",
   "execution_count": 139,
   "metadata": {
    "collapsed": false
   },
   "outputs": [
    {
     "data": {
      "text/plain": [
       "<_sre.SRE_Match at 0x1082a4100>"
      ]
     },
     "execution_count": 139,
     "metadata": {},
     "output_type": "execute_result"
    }
   ],
   "source": [
    "re.search('[^N]', 'NA')"
   ]
  },
  {
   "cell_type": "code",
   "execution_count": null,
   "metadata": {
    "collapsed": true
   },
   "outputs": [],
   "source": []
  }
 ],
 "metadata": {
  "kernelspec": {
   "display_name": "Python 2",
   "language": "python",
   "name": "python2"
  },
  "language_info": {
   "codemirror_mode": {
    "name": "ipython",
    "version": 2
   },
   "file_extension": ".py",
   "mimetype": "text/x-python",
   "name": "python",
   "nbconvert_exporter": "python",
   "pygments_lexer": "ipython2",
   "version": "2.7.11"
  }
 },
 "nbformat": 4,
 "nbformat_minor": 0
}
