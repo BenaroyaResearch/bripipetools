{
 "cells": [
  {
   "cell_type": "code",
   "execution_count": 25,
   "metadata": {
    "collapsed": true
   },
   "outputs": [],
   "source": [
    "import _mypath\n",
    "from bripipetools.util import string_ops as strings\n",
    "import os, sys, re"
   ]
  },
  {
   "cell_type": "code",
   "execution_count": 5,
   "metadata": {
    "collapsed": false
   },
   "outputs": [
    {
     "name": "stdout",
     "output_type": "stream",
     "text": [
      "Collecting GEOparse\n",
      "  Downloading GEOparse-0.1.5-py2.py3-none-any.whl\n",
      "Collecting pandas>=0.15 (from GEOparse)\n",
      "  Downloading pandas-0.17.1-cp27-none-macosx_10_6_intel.macosx_10_9_intel.macosx_10_9_x86_64.macosx_10_10_intel.macosx_10_10_x86_64.whl (9.0MB)\n",
      "\u001b[K    100% |████████████████████████████████| 9.0MB 75kB/s \n",
      "\u001b[?25hCollecting numpy>=1.7 (from GEOparse)\n",
      "  Downloading numpy-1.10.4-cp27-none-macosx_10_6_intel.macosx_10_9_intel.macosx_10_9_x86_64.macosx_10_10_intel.macosx_10_10_x86_64.whl (3.7MB)\n",
      "\u001b[K    100% |████████████████████████████████| 3.7MB 184kB/s \n",
      "\u001b[?25hCollecting pytz>=2011k (from pandas>=0.15->GEOparse)\n",
      "  Downloading pytz-2015.7-py2.py3-none-any.whl (476kB)\n",
      "\u001b[K    100% |████████████████████████████████| 481kB 1.5MB/s \n",
      "\u001b[?25hCollecting python-dateutil (from pandas>=0.15->GEOparse)\n",
      "  Downloading python_dateutil-2.5.0-py2.py3-none-any.whl (199kB)\n",
      "\u001b[K    100% |████████████████████████████████| 204kB 3.1MB/s \n",
      "\u001b[?25hRequirement already satisfied (use --upgrade to upgrade): six>=1.5 in /Users/jaeddy/anaconda/envs/bripipetools/lib/python2.7/site-packages (from python-dateutil->pandas>=0.15->GEOparse)\n",
      "Installing collected packages: pytz, python-dateutil, numpy, pandas, GEOparse\n",
      "Successfully installed GEOparse-0.1.5 numpy-1.10.4 pandas-0.17.1 python-dateutil-2.5.0 pytz-2015.7\n",
      "^C\n"
     ]
    }
   ],
   "source": [
    "!yes | pip install GEOparse"
   ]
  },
  {
   "cell_type": "code",
   "execution_count": 6,
   "metadata": {
    "collapsed": true
   },
   "outputs": [],
   "source": [
    "import GEOparse"
   ]
  },
  {
   "cell_type": "code",
   "execution_count": 11,
   "metadata": {
    "collapsed": false
   },
   "outputs": [],
   "source": [
    "# create temp directory for storing data\n",
    "tmp_dir = './tmp'\n",
    "if not os.path.isdir(tmp_dir):\n",
    "    os.mkdir('./tmp')"
   ]
  },
  {
   "cell_type": "code",
   "execution_count": 12,
   "metadata": {
    "collapsed": false
   },
   "outputs": [
    {
     "name": "stderr",
     "output_type": "stream",
     "text": [
      "Downloading ftp://ftp.ncbi.nlm.nih.gov/geo/series/GSE71nnn/GSE71698/soft/GSE71698_family.soft.gz to ./tmp/GSE71698.soft.gz\n",
      "Parsing ./tmp/GSE71698.soft.gz:\n",
      " - DATABASE : GeoMiame\n",
      " - SERIES : GSE71698\n",
      " - PLATFORM : GPL11002\n",
      " - PLATFORM : GPL13112\n",
      " - PLATFORM : GPL17021\n",
      " - SAMPLE : GSM1843335\n",
      " - SAMPLE : GSM1843336\n",
      " - SAMPLE : GSM1843337\n",
      " - SAMPLE : GSM1843338\n",
      " - SAMPLE : GSM1843339\n",
      " - SAMPLE : GSM1843340\n",
      " - SAMPLE : GSM1843341\n",
      " - SAMPLE : GSM1843342\n",
      " - SAMPLE : GSM1843343\n",
      " - SAMPLE : GSM1843344\n",
      " - SAMPLE : GSM1843345\n",
      " - SAMPLE : GSM1843346\n",
      " - SAMPLE : GSM1843347\n",
      " - SAMPLE : GSM1843348\n",
      " - SAMPLE : GSM1843349\n",
      " - SAMPLE : GSM1843350\n",
      " - SAMPLE : GSM1843351\n",
      " - SAMPLE : GSM1843352\n",
      " - SAMPLE : GSM1843353\n",
      " - SAMPLE : GSM1843354\n",
      " - SAMPLE : GSM1843355\n",
      " - SAMPLE : GSM1843356\n",
      " - SAMPLE : GSM1843357\n",
      " - SAMPLE : GSM1843358\n",
      " - SAMPLE : GSM1843359\n",
      " - SAMPLE : GSM1843360\n",
      " - SAMPLE : GSM1843361\n",
      " - SAMPLE : GSM1843362\n",
      " - SAMPLE : GSM1843363\n",
      " - SAMPLE : GSM1843364\n",
      " - SAMPLE : GSM1843365\n",
      " - SAMPLE : GSM1843366\n",
      " - SAMPLE : GSM1843367\n",
      " - SAMPLE : GSM1843368\n",
      " - SAMPLE : GSM1843369\n",
      " - SAMPLE : GSM1843370\n",
      " - SAMPLE : GSM1904864\n",
      " - SAMPLE : GSM1904865\n",
      " - SAMPLE : GSM1904866\n",
      " - SAMPLE : GSM1904867\n"
     ]
    }
   ],
   "source": [
    "# download GSE SOFT file\n",
    "acc = 'GSE71698'\n",
    "gse = GEOparse.get_GEO(geo=acc, destdir=tmp_dir)"
   ]
  },
  {
   "cell_type": "code",
   "execution_count": 82,
   "metadata": {
    "collapsed": false
   },
   "outputs": [
    {
     "name": "stdout",
     "output_type": "stream",
     "text": [
      " \n",
      "Found the following supplemenmtary filetypes:\n",
      "  0 : .gc_norm_rpkm.txt.gz\n",
      "  1 : .62M37AAXX_7_20110728a.sorted.cov.all.bw\n",
      "  2 : .sorted.0mer.cov.all.bw\n",
      "  3 : .sorted.cov.all.bw\n",
      "  4 : .rpkm.txt.gz\n",
      "\n",
      "Type the number of the filetype you wish to collect or hit enter to finish: 0\n",
      "\n",
      "Collecting 8 supplementary files with extension '.gc_norm_rpkm.txt.gz'...\n",
      "- Downloading file for GSM1843... done.\n"
     ]
    }
   ],
   "source": [
    "import shutil\n",
    "import urllib2\n",
    "from contextlib import closing\n",
    "\n",
    "def get_supplementary_files(gse):\n",
    "    supp_file_dict = {}\n",
    "\n",
    "    # loop through all GSM samples\n",
    "    for gsm_name, gsm in gse.gsms.iteritems():\n",
    "        \n",
    "        # parse metadata items to find supplementary files\n",
    "        for key, value in gsm.metadata.iteritems(): \n",
    "            if re.search('supplementary_file', key):\n",
    "                # if the supplementary file has a file extension, add to dictionary;\n",
    "                # otherwise, ignore (requires alternative collection)\n",
    "                supp_type = strings.matchdefault('\\..*', os.path.basename(value[0]))\n",
    "                if len(supp_type):\n",
    "                    supp_file_dict.setdefault(supp_type, []).append(value[0])\n",
    "    \n",
    "    return supp_file_dict\n",
    "\n",
    "def select_supplementary_filetype(keys):\n",
    "    print \"\\nFound the following supplemenmtary filetypes:\"\n",
    "    for i, k in enumerate(keys):\n",
    "        print(\"%3d : %s\" % (i, k))\n",
    "\n",
    "    k_i = raw_input(\"\\nType the number of the filetype you wish to collect or hit enter to finish: \")\n",
    "    # TODO: add the option (while loop) to add additional filetypes\n",
    "    if len(k_i):\n",
    "        selected_key = keys[int(k_i)]\n",
    "\n",
    "    return selected_key\n",
    "\n",
    "        \n",
    "def collect_supplementary_files(gse):    \n",
    "    supp_file_dict = get_supplementary_files(gse)\n",
    "    selected_type = select_supplementary_filetype(supp_file_dict.keys())\n",
    "    \n",
    "    supplementary_files = supp_file_dict[selected_type]\n",
    "    print(\"\\nCollecting %d supplementary files with extension '%s'...\" \n",
    "          % (len(supplementary_files), selected_type))\n",
    "    \n",
    "    for supp_f in supplementary_files:\n",
    "        gsm_name = strings.matchdefault('GSM[0-9]+', supp_f)\n",
    "        print('- Downloading file for %s...' % gsm_name),\n",
    "\n",
    "        target_f = os.path.join(tmp_dir, os.path.basename(supp_f))\n",
    "        with closing(urllib2.urlopen(supp_f)) as r:\n",
    "            with open(target_f, 'wb') as f:\n",
    "                shutil.copyfileobj(r, f)\n",
    "        print('done.')\n",
    "        break\n",
    "    \n",
    "collect_supplementary_files(gse)"
   ]
  },
  {
   "cell_type": "code",
   "execution_count": 92,
   "metadata": {
    "collapsed": false
   },
   "outputs": [
    {
     "data": {
      "text/plain": [
       "'GSM1843364'"
      ]
     },
     "execution_count": 92,
     "metadata": {},
     "output_type": "execute_result"
    }
   ],
   "source": [
    "f = 'ftp://ftp.ncbi.nlm.nih.gov/pub/geo/DATA/supplementary/samples/GSM1843nnn/GSM1843364/GSM1843364_11952.gc_norm_rpkm.txt.gz'\n",
    "strings.matchdefault('GSM[0-9]+(?=[^GSM]*$)', f)"
   ]
  },
  {
   "cell_type": "code",
   "execution_count": null,
   "metadata": {
    "collapsed": true
   },
   "outputs": [],
   "source": []
  }
 ],
 "metadata": {
  "kernelspec": {
   "display_name": "Python 2",
   "language": "python",
   "name": "python2"
  },
  "language_info": {
   "codemirror_mode": {
    "name": "ipython",
    "version": 2
   },
   "file_extension": ".py",
   "mimetype": "text/x-python",
   "name": "python",
   "nbconvert_exporter": "python",
   "pygments_lexer": "ipython2",
   "version": "2.7.11"
  }
 },
 "nbformat": 4,
 "nbformat_minor": 0
}
