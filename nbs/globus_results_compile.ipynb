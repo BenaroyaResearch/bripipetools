{
 "cells": [
  {
   "cell_type": "code",
   "execution_count": 4,
   "metadata": {
    "collapsed": true
   },
   "outputs": [],
   "source": [
    "%load_ext autoreload\n",
    "%autoreload 2"
   ]
  },
  {
   "cell_type": "code",
   "execution_count": 5,
   "metadata": {
    "collapsed": false
   },
   "outputs": [],
   "source": [
    "import sys, os, re, argparse, csv\n",
    "import shutil\n",
    "from pprint import pprint"
   ]
  },
  {
   "cell_type": "code",
   "execution_count": 6,
   "metadata": {
    "collapsed": false
   },
   "outputs": [],
   "source": [
    "import _mypath\n",
    "from bripipetools.globusgalaxy import curation"
   ]
  },
  {
   "cell_type": "code",
   "execution_count": 7,
   "metadata": {
    "collapsed": false
   },
   "outputs": [],
   "source": [
    "batch_file = '/Volumes/genomics/Illumina/150615_D00565_0087_AC6VG0ANXX/globus_batch_submission/160412_P43-12_C6VG0ANXX_optimized_nextera_sr_grch38_v0.1_complete.txt'\n",
    "batch_file2 = '/Volumes/genomics/Illumina/150615_D00565_0087_AC6VG0ANXX/globus_batch_submission/160216_P43-12_C6VG0ANXX_optimized_nextera_sr_grch38_v0.1_complete.txt'"
   ]
  },
  {
   "cell_type": "code",
   "execution_count": 121,
   "metadata": {
    "collapsed": false
   },
   "outputs": [],
   "source": [
    "bc = curation.BatchCurator(batch_file)"
   ]
  },
  {
   "cell_type": "code",
   "execution_count": 128,
   "metadata": {
    "collapsed": true
   },
   "outputs": [],
   "source": [
    "from bripipetools.globusgalaxy import postprocessing"
   ]
  },
  {
   "cell_type": "code",
   "execution_count": 129,
   "metadata": {
    "collapsed": true
   },
   "outputs": [],
   "source": [
    "fc_dir = '/Volumes/genomics/Illumina/150615_D00565_0087_AC6VG0ANXX/'\n",
    "goc = postprocessing.GlobusOutputCompiler(fc_dir)"
   ]
  },
  {
   "cell_type": "code",
   "execution_count": 133,
   "metadata": {
    "collapsed": false
   },
   "outputs": [
    {
     "name": "stdout",
     "output_type": "stream",
     "text": [
      "\n",
      "Found Globus Genomics Galaxy batches from the following dates:\n",
      "  0 : 160203\n",
      "  1 : 160216\n",
      "  2 : 160204\n",
      "  3 : 160209\n",
      "  4 : 160411\n",
      "  5 : 160412\n",
      "  6 : 160407\n",
      "Select the date of flowcell batches to compile: 6\n"
     ]
    },
    {
     "data": {
      "text/plain": [
       "['/Volumes/genomics/Illumina/150615_D00565_0087_AC6VG0ANXX/globus_batch_submission/160407_P43-12_C6VG0ANXX_optimized_nextera_sr_grch38_v0.1_complete.txt']"
      ]
     },
     "execution_count": 133,
     "metadata": {},
     "output_type": "execute_result"
    }
   ],
   "source": [
    "goc._select_date_batches()"
   ]
  },
  {
   "cell_type": "code",
   "execution_count": 1,
   "metadata": {
    "collapsed": true
   },
   "outputs": [],
   "source": [
    "import pytest"
   ]
  },
  {
   "cell_type": "code",
   "execution_count": 8,
   "metadata": {
    "collapsed": true
   },
   "outputs": [],
   "source": [
    "from bripipetools.util import ui"
   ]
  },
  {
   "cell_type": "code",
   "execution_count": 10,
   "metadata": {
    "collapsed": false
   },
   "outputs": [
    {
     "name": "stdout",
     "output_type": "stream",
     "text": [
      "Foo?\n",
      "bar\n"
     ]
    },
    {
     "data": {
      "text/plain": [
       "'bar'"
      ]
     },
     "execution_count": 10,
     "metadata": {},
     "output_type": "execute_result"
    }
   ],
   "source": [
    "ui.prompt_raw(\"Foo?\")"
   ]
  },
  {
   "cell_type": "code",
   "execution_count": null,
   "metadata": {
    "collapsed": true
   },
   "outputs": [],
   "source": []
  }
 ],
 "metadata": {
  "kernelspec": {
   "display_name": "Python 2",
   "language": "python",
   "name": "python2"
  },
  "language_info": {
   "codemirror_mode": {
    "name": "ipython",
    "version": 2
   },
   "file_extension": ".py",
   "mimetype": "text/x-python",
   "name": "python",
   "nbconvert_exporter": "python",
   "pygments_lexer": "ipython2",
   "version": "2.7.11"
  }
 },
 "nbformat": 4,
 "nbformat_minor": 0
}
