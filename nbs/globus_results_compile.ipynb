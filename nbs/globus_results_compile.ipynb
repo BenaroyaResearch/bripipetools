{
 "cells": [
  {
   "cell_type": "code",
   "execution_count": 1,
   "metadata": {
    "collapsed": true
   },
   "outputs": [],
   "source": [
    "%load_ext autoreload\n",
    "%autoreload 2"
   ]
  },
  {
   "cell_type": "code",
   "execution_count": 2,
   "metadata": {
    "collapsed": false
   },
   "outputs": [],
   "source": [
    "import sys, os, re, argparse, csv\n",
    "import shutil\n",
    "from pprint import pprint"
   ]
  },
  {
   "cell_type": "code",
   "execution_count": 3,
   "metadata": {
    "collapsed": false
   },
   "outputs": [],
   "source": [
    "import _mypath\n",
    "from bripipetools.globusgalaxy import curation"
   ]
  },
  {
   "cell_type": "code",
   "execution_count": 4,
   "metadata": {
    "collapsed": false
   },
   "outputs": [],
   "source": [
    "batch_file = '/Volumes/genomics/Illumina/150615_D00565_0087_AC6VG0ANXX/globus_batch_submission/160412_P43-12_C6VG0ANXX_optimized_nextera_sr_grch38_v0.1_complete.txt'\n",
    "batch_file2 = '/Volumes/genomics/Illumina/150615_D00565_0087_AC6VG0ANXX/globus_batch_submission/160216_P43-12_C6VG0ANXX_optimized_nextera_sr_grch38_v0.1_complete.txt'"
   ]
  },
  {
   "cell_type": "code",
   "execution_count": 119,
   "metadata": {
    "collapsed": false
   },
   "outputs": [],
   "source": [
    "bc = curation.BatchCurator(batch_file)"
   ]
  },
  {
   "cell_type": "code",
   "execution_count": 120,
   "metadata": {
    "collapsed": false
   },
   "outputs": [
    {
     "name": "stdout",
     "output_type": "stream",
     "text": [
      "\n",
      "Workflow: optimized_nextera_sr_grch38_v0.1_complete\n",
      ">> Compiling ouputs for lib6839_C6VG0ANXX [P43-12] (1 of 1)\n",
      "\n",
      " > Result source: fastqc\n",
      "   - Creating directory /Volumes/genomics/Illumina/150615_D00565_0087_AC6VG0ANXX/Project_P43-12Processed_160412/QC/lib6839_C6VG0ANXX/qcR1\n",
      "   - Creating directory /Volumes/genomics/Illumina/150615_D00565_0087_AC6VG0ANXX/Project_P43-12Processed_160412/QC/lib6839_C6VG0ANXX/qcR1\n",
      "   (file 1 of 2)\n",
      "   - Copying /Volumes/genomics/Illumina/150615_D00565_0087_AC6VG0ANXX/Project_P43-12Processed_160412/QC/lib6839_C6VG0ANXX_fastqc_qc.txt to /Volumes/genomics/Illumina/150615_D00565_0087_AC6VG0ANXX/Project_P43-12Processed_160412/QC/lib6839_C6VG0ANXX/qcR1/fastqc_data.txt\n",
      "   (file 2 of 2)\n",
      "   - Copying /Volumes/genomics/Illumina/150615_D00565_0087_AC6VG0ANXX/Project_P43-12Processed_160412/QC/lib6839_C6VG0ANXX_fastqc_qc.html to /Volumes/genomics/Illumina/150615_D00565_0087_AC6VG0ANXX/Project_P43-12Processed_160412/QC/lib6839_C6VG0ANXX/qcR1/fastqc_report.html\n",
      "   - Zipping up /Volumes/genomics/Illumina/150615_D00565_0087_AC6VG0ANXX/Project_P43-12Processed_160412/QC/lib6839_C6VG0ANXX/qcR1\n",
      " > Result source: fastq\n",
      "   (file 1 of 1)\n",
      "   - Target file /Volumes/genomics/Illumina/150615_D00565_0087_AC6VG0ANXX/Project_P43-12Processed_160412/ already exists\n",
      " > Result source: trimmed_fastq\n",
      "   - Creating directory /Volumes/genomics/Illumina/150615_D00565_0087_AC6VG0ANXX/Project_P43-12Processed_160412/TrimmedFastqs\n",
      "   (file 1 of 1)\n",
      "   - Copying /Volumes/genomics/Illumina/150615_D00565_0087_AC6VG0ANXX/Project_P43-12Processed_160412/trimmed/lib6839_C6VG0ANXX_trimmed.fastq to /Volumes/genomics/Illumina/150615_D00565_0087_AC6VG0ANXX/Project_P43-12Processed_160412/TrimmedFastqs/lib6839_C6VG0ANXX_trimmed.fastq\n",
      " > Result source: picard_markdups\n",
      "   - Creating directory /Volumes/genomics/Illumina/150615_D00565_0087_AC6VG0ANXX/Project_P43-12Processed_160412/metrics/lib6839_C6VG0ANXXMarkDups\n",
      "   (file 1 of 1)\n",
      "   - Copying /Volumes/genomics/Illumina/150615_D00565_0087_AC6VG0ANXX/Project_P43-12Processed_160412/metrics/lib6839_C6VG0ANXX_picard_markdups_metrics.html to /Volumes/genomics/Illumina/150615_D00565_0087_AC6VG0ANXX/Project_P43-12Processed_160412/metrics/lib6839_C6VG0ANXXMarkDups/MarkDups_Dupes_Marked_html.html\n",
      "   - Zipping up /Volumes/genomics/Illumina/150615_D00565_0087_AC6VG0ANXX/Project_P43-12Processed_160412/metrics/lib6839_C6VG0ANXXMarkDups\n",
      " > Result source: picard_align\n",
      "   - Creating directory /Volumes/genomics/Illumina/150615_D00565_0087_AC6VG0ANXX/Project_P43-12Processed_160412/metrics/lib6839_C6VG0ANXX_qc\n",
      "   (file 1 of 1)\n",
      "   - Copying /Volumes/genomics/Illumina/150615_D00565_0087_AC6VG0ANXX/Project_P43-12Processed_160412/metrics/lib6839_C6VG0ANXX_picard_align_metrics.html to /Volumes/genomics/Illumina/150615_D00565_0087_AC6VG0ANXX/Project_P43-12Processed_160412/metrics/lib6839_C6VG0ANXX_qc/Picard_Alignment_Summary_Metrics_html.html\n",
      "   - Zipping up /Volumes/genomics/Illumina/150615_D00565_0087_AC6VG0ANXX/Project_P43-12Processed_160412/metrics/lib6839_C6VG0ANXX_qc\n",
      " > Result source: htseq\n",
      "   (file 1 of 2)\n",
      "   - Copying /Volumes/genomics/Illumina/150615_D00565_0087_AC6VG0ANXX/Project_P43-12Processed_160412/metrics/lib6839_C6VG0ANXX_htseq_metrics.txt to /Volumes/genomics/Illumina/150615_D00565_0087_AC6VG0ANXX/Project_P43-12Processed_160412/metrics/lib6839_C6VG0ANXXmm.txt\n",
      "   (file 2 of 2)\n",
      "   - Copying /Volumes/genomics/Illumina/150615_D00565_0087_AC6VG0ANXX/Project_P43-12Processed_160412/counts/lib6839_C6VG0ANXX_htseq_counts.txt to /Volumes/genomics/Illumina/150615_D00565_0087_AC6VG0ANXX/Project_P43-12Processed_160412/counts/lib6839_C6VG0ANXX_count.txt\n",
      " > Result source: workflow_log\n",
      "   - Creating directory /Volumes/genomics/Illumina/150615_D00565_0087_AC6VG0ANXX/Project_P43-12Processed_160412/logs\n",
      "   (file 1 of 1)\n",
      "   - Copying /Volumes/genomics/Illumina/150615_D00565_0087_AC6VG0ANXX/Project_P43-12Processed_160412/log/lib6839_C6VG0ANXX_workflow_log.txt to /Volumes/genomics/Illumina/150615_D00565_0087_AC6VG0ANXX/Project_P43-12Processed_160412/logs/lib6839_C6VG0ANXX_workflow_log.txt\n",
      " > Result source: picard_rnaseq\n",
      "   - Creating directory /Volumes/genomics/Illumina/150615_D00565_0087_AC6VG0ANXX/Project_P43-12Processed_160412/metrics/lib6839_C6VG0ANXX_al\n",
      "   (file 1 of 1)\n",
      "   - Copying /Volumes/genomics/Illumina/150615_D00565_0087_AC6VG0ANXX/Project_P43-12Processed_160412/metrics/lib6839_C6VG0ANXX_picard_rnaseq_metrics.html to /Volumes/genomics/Illumina/150615_D00565_0087_AC6VG0ANXX/Project_P43-12Processed_160412/metrics/lib6839_C6VG0ANXX_al/RNA_Seq_Metrics_html.html\n",
      "   - Zipping up /Volumes/genomics/Illumina/150615_D00565_0087_AC6VG0ANXX/Project_P43-12Processed_160412/metrics/lib6839_C6VG0ANXX_al\n",
      " > Result source: tophat\n",
      "   (file 1 of 2)\n",
      "   - Copying /Volumes/genomics/Illumina/150615_D00565_0087_AC6VG0ANXX/Project_P43-12Processed_160412/alignments/lib6839_C6VG0ANXX_tophat_alignments.bam to /Volumes/genomics/Illumina/150615_D00565_0087_AC6VG0ANXX/Project_P43-12Processed_160412/alignments/lib6839_C6VG0ANXX.bam\n",
      "   (file 2 of 2)\n",
      "   - Copying /Volumes/genomics/Illumina/150615_D00565_0087_AC6VG0ANXX/Project_P43-12Processed_160412/metrics/lib6839_C6VG0ANXX_tophat_stats_metrics.txt to /Volumes/genomics/Illumina/150615_D00565_0087_AC6VG0ANXX/Project_P43-12Processed_160412/metrics/lib6839_C6VG0ANXXths.txt\n"
     ]
    }
   ],
   "source": [
    "bc.organize_files(dry_run=True)"
   ]
  },
  {
   "cell_type": "code",
   "execution_count": null,
   "metadata": {
    "collapsed": true
   },
   "outputs": [],
   "source": []
  }
 ],
 "metadata": {
  "kernelspec": {
   "display_name": "Python 2",
   "language": "python",
   "name": "python2"
  },
  "language_info": {
   "codemirror_mode": {
    "name": "ipython",
    "version": 2
   },
   "file_extension": ".py",
   "mimetype": "text/x-python",
   "name": "python",
   "nbconvert_exporter": "python",
   "pygments_lexer": "ipython2",
   "version": "2.7.11"
  }
 },
 "nbformat": 4,
 "nbformat_minor": 0
}
