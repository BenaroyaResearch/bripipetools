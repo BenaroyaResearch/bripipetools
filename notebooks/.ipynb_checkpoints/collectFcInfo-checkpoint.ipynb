{
 "metadata": {
  "name": "",
  "signature": "sha256:b4637006094b07159ed761dac96b4b5c02e2abb435f69bec3af4b499438a64d4"
 },
 "nbformat": 3,
 "nbformat_minor": 0,
 "worksheets": []
}