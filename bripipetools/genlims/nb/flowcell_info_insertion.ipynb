{
 "cells": [
  {
   "cell_type": "code",
   "execution_count": 1,
   "metadata": {
    "collapsed": false
   },
   "outputs": [],
   "source": [
    "import os, re, sys\n",
    "from pymongo import MongoClient\n",
    "from pprint import pprint\n",
    "import datetime\n",
    "import json"
   ]
  },
  {
   "cell_type": "code",
   "execution_count": 2,
   "metadata": {
    "collapsed": false
   },
   "outputs": [],
   "source": [
    "client = MongoClient()\n",
    "db = client.tg3"
   ]
  },
  {
   "cell_type": "code",
   "execution_count": 26,
   "metadata": {
    "collapsed": false
   },
   "outputs": [],
   "source": [
    "\n",
    "# wrapper function for regex matching\n",
    "def matchdefault(pattern, string, default=''):\n",
    "    \n",
    "    regex = re.compile(pattern)\n",
    "    match = regex.search(string)\n",
    "    if match is not None:\n",
    "        return match.group()\n",
    "    else:\n",
    "        return default\n",
    "\n",
    "### file/path/string parsing functions ###\n",
    "\n",
    "def get_lib_id(lib_str):\n",
    "    lib_id = matchdefault('lib[1-9]+[0-9]*', lib_str)\n",
    "    \n",
    "    return lib_id\n",
    "\n",
    "def parse_fc_run_id(fc_run_id):\n",
    "    fc_parts = fc_run_id.split('_')\n",
    "\n",
    "    d = datetime.datetime.strptime(fc_parts[0], '%y%m%d')\n",
    "    \n",
    "    date = datetime.date.isoformat(d)\n",
    "    instrument_id = fc_parts[1]\n",
    "    run_num = int(fc_parts[2])\n",
    "    \n",
    "    fc_id = matchdefault('(?<=(_(A|B|D)))([A-Z]|[0-9])*XX', fc_run_id)\n",
    "    fc_pos = matchdefault('.{1}(?=%s)' % fc_id, fc_run_id)\n",
    "\n",
    "    return date, instrument_id, run_num, fc_id, fc_pos\n",
    "    \n",
    "def get_proj_id(proj_str):\n",
    "    proj = matchdefault('P+[0-9]+(-[0-9]+){,1}', proj_str)\n",
    "    proj_id = int(matchdefault('(?<=P)[0-9]+', proj))\n",
    "    subproj_id = int(matchdefault('(?<=-)[0-9]+', proj))\n",
    "    \n",
    "    return proj_id, subproj_id\n",
    "\n",
    "def parse_lib_line(line):\n",
    "    l_parts = line.strip().split('\\t')\n",
    "    \n",
    "    lib_id = get_lib_id(l_parts[0])\n",
    "    \n",
    "    project_id, subproject_id = get_proj_id(l_parts[3])\n",
    "    fastq_dir = l_parts[-1]\n",
    "    \n",
    "    lib_packet = {'project_id': project_id,\n",
    "                  'subproject_id': subproject_id,\n",
    "                  'fastq_dir': fastq_dir}\n",
    "    \n",
    "    flowcell_run_id = l_parts[2]\n",
    "    fc_dir = l_parts[4]\n",
    "    fc_date, instr, run_num, fc_id, fc_pos = parse_fc_run_id(flowcell_run_id)\n",
    "    \n",
    "    flowcell_packet = {'date': fc_date,\n",
    "                       'instrument': instr,\n",
    "                       'run_number': run_num,\n",
    "                       'flowcell_id': fc_id,\n",
    "                       'flowcell_pos': fc_pos,\n",
    "                       'flowcell_dir': fc_dir}\n",
    "    \n",
    "    return lib_id, lib_packet, flowcell_run_id, flowcell_packet\n",
    "\n",
    "### file parsing/annotating functions ###\n",
    "\n",
    "def get_file_type(file_path):\n",
    "    ext = os.path.splitext(file_path)\n",
    "    if 'z' in ext[-1]:\n",
    "        compression = ext[-1].lstrip('.')\n",
    "        ext = os.path.splitext(ext[0])[-1].lstrip('.')\n",
    "    return ext, compression\n",
    "\n",
    "def get_fastq_source(file_path):\n",
    "    lane_id = matchdefault('(?<=_)L00[1-8]', file_path)\n",
    "    read_id = matchdefault('(?<=_)R[1-2]', file_path)\n",
    "    sample_num = int(matchdefault('(?<=_S)[0-9]+', file_path))\n",
    "    return lane_id, read_id, sample_num\n",
    "    \n",
    "def collect_fastq_info(file_path):\n",
    "    file_type,compression = get_file_type(file_path)\n",
    "    \n",
    "    if file_type == 'fastq':\n",
    "        lane_id, read_id, sample_num = get_fastq_source(file_path)\n",
    "    \n",
    "    file_path = re.sub('.*(?=/genomics)', '', file_path)\n",
    "    \n",
    "    return {'path': file_path, 'lane_id': lane_id, \n",
    "            'read_id': read_id, 'sample_number': sample_num}\n",
    "\n",
    "\n",
    "# describe raw files for current lib\n",
    "def get_lib_fastqs(fastq_dir):\n",
    "    # check if logged into server or accessing mounted volume\n",
    "    if not os.path.isdir(fastq_dir):\n",
    "        fastq_dir = re.sub('mnt', 'Volumes', fastq_dir)\n",
    "        \n",
    "    return [collect_fastq_info(os.path.join(fastq_dir, f))\n",
    "            for f in os.listdir(fastq_dir)]\n",
    "\n",
    "# read and extract info from library list file\n",
    "def read_lib_list(lib_list_file):\n",
    "    lib_dict = {}\n",
    "    fc_dict = {}\n",
    "    with open(lib_list_file) as f:\n",
    "        for i, l in enumerate(f):\n",
    "            if i > 0:\n",
    "                lib_id, lib_packet, fc_run_id, fc_packet = parse_lib_line(l)\n",
    "                lib_packet['run_id'] = fc_run_id\n",
    "                lib_packet['run_tag'] = fc_packet.get('flowcell_id')\n",
    "                        \n",
    "                lib_dict.setdefault(lib_id, []).append(lib_packet)\n",
    "\n",
    "                if fc_run_id not in fc_dict:\n",
    "                    fc_dict[fc_run_id] = fc_packet\n",
    "                    \n",
    "    return fc_dict, lib_dict"
   ]
  },
  {
   "cell_type": "code",
   "execution_count": 4,
   "metadata": {
    "collapsed": false
   },
   "outputs": [],
   "source": [
    "def to_camel_case(snake_str):\n",
    "    components = snake_str.split('_')\n",
    "    return components[0] + \"\".join(x.title() for x in components[1:])\n",
    "\n",
    "def convert_dict_keys(obj):\n",
    "    if isinstance(obj, list):\n",
    "        new_obj = [ convert_dict_keys(i) for i in obj ]\n",
    "    elif isinstance(obj, dict):\n",
    "        new_obj = { to_camel_case(k): convert_dict_keys(obj[k]) \\\n",
    "                    for k in obj }\n",
    "    else:\n",
    "        new_obj = obj\n",
    "    return new_obj\n",
    "\n",
    "def merge_two_dicts(x, y):\n",
    "    '''Given two dicts, merge them into a new dict as a shallow copy.'''\n",
    "    z = x.copy()\n",
    "    z.update(y)\n",
    "    return z\n",
    "\n",
    "def lib_dict_to_db(lib_dict):\n",
    "    lib_db = [ merge_two_dicts({'_id': i}, convert_dict_keys(lib_dict[i])) \\\n",
    "               for i in lib_dict ]\n",
    "    return lib_db\n",
    "\n",
    "def fc_dict_to_db(fc_dict):\n",
    "    fc_db = [ merge_two_dicts({'_id': i}, convert_dict_keys(fc_dict[i])) \\\n",
    "              for i in fc_dict ]\n",
    "    return fc_db"
   ]
  },
  {
   "cell_type": "code",
   "execution_count": 7,
   "metadata": {
    "collapsed": false
   },
   "outputs": [
    {
     "data": {
      "text/plain": [
       "{'_id': 'lib10320_C81LMANXX',\n",
       " 'parentId': 'lib10320',\n",
       " 'procedureId': None,\n",
       " 'rawData': [{'laneId': 'L003',\n",
       "   'path': '/genomics/Illumina/160122_D00565_0101_BC81LMANXX/Unaligned/P54-18-28092065/lib10320-32561562/1-930954-44-C03_S68_L003_R1_001.fastq.gz',\n",
       "   'readId': 'R1',\n",
       "   'sampleNumber': 68}],\n",
       " 'runId': '160122_D00565_0101_BC81LMANXX',\n",
       " 'type': 'sequenced library'}"
      ]
     },
     "execution_count": 7,
     "metadata": {},
     "output_type": "execute_result"
    }
   ],
   "source": [
    "def to_camel_case(snake_str):\n",
    "    if not re.search('^_', snake_str):\n",
    "        components = snake_str.split('_')\n",
    "        return components[0] + \"\".join(x.title() for x in components[1:])\n",
    "    else:\n",
    "        return snake_str\n",
    "\n",
    "def convert_keys(obj):\n",
    "    if isinstance(obj, list):\n",
    "        return [convert_keys(i) for i in obj]\n",
    "    elif isinstance(obj, dict):\n",
    "        return {to_camel_case(k): convert_keys(obj[k])\n",
    "                for k in obj}\n",
    "    else:\n",
    "        return obj\n",
    "\n",
    "class TG3Object(dict):\n",
    "    '''\n",
    "    Generic functions for objects in TG3 collections.\n",
    "    '''\n",
    "    \n",
    "    def __init__(self, _id=None, type=None):\n",
    "        \n",
    "        self._id = _id\n",
    "        self.type = type\n",
    "\n",
    "    def to_db(self):\n",
    "        return convert_keys(self.__dict__)\n",
    "        \n",
    "    \n",
    "class Sample(TG3Object):\n",
    "    '''\n",
    "    GenLIMS object in the 'samples' collection\n",
    "    '''\n",
    "    \n",
    "    def __init__(self, *args, **kwargs):\n",
    "        if 'protocol_id' in kwargs:\n",
    "            self.procedure_id = kwargs.pop('procedure_id')\n",
    "        else:\n",
    "            self.procedure_id = None\n",
    "        TG3Object.__init__(self, *args, **kwargs)\n",
    "        \n",
    "        \n",
    "class SequencedLibrarySample(Sample):\n",
    "    '''\n",
    "    GenLIMS object in 'samples' collection of type 'sequenced library'\n",
    "    '''\n",
    "    \n",
    "    def __init__(self, *args, **kwargs):\n",
    "        if 'parent_id' in kwargs:\n",
    "            self.parent_id = kwargs.pop('parent_id')\n",
    "        else:\n",
    "            self.parent_id = None\n",
    "        Sample.__init__(self, *args, **kwargs)\n",
    "        \n",
    "        # overwrite sample type\n",
    "        self.type = 'sequenced library'\n",
    "    \n",
    "    def _init_from_lib_packet(self, lib_id, lib_packet):\n",
    "        self.parent_id = lib_id\n",
    "        self.run_id = lib_packet.get('run_id')\n",
    "        self._id = '%s_%s' % (lib_id, lib_packet.get('run_tag'))\n",
    "        \n",
    "        self._get_raw_data(lib_packet)\n",
    "        \n",
    "    def _get_raw_data(self, lib_packet):\n",
    "        self.raw_data = get_lib_fastqs(lib_packet.get('fastq_dir'))\n",
    "    \n",
    "# def create_seq_lib_object(lib_dict_item):\n",
    "#     seq_lib_dict = {}\n",
    "#     for lib in lib_dict:\n",
    "#         for run in lib_dict[lib]:\n",
    "#             seq_lib_id = lib + '_' + run.get('run_id')\n",
    "#             print seq_lib_id\n",
    "o = SequencedLibrarySample()\n",
    "o._init_from_lib_packet(lib_id, lib_packet)\n",
    "o.to_db()"
   ]
  },
  {
   "cell_type": "code",
   "execution_count": 14,
   "metadata": {
    "collapsed": false
   },
   "outputs": [],
   "source": [
    "!grep 160122 ../data/lib_list_master.txt > ../data/lib_list_160122.txt"
   ]
  },
  {
   "cell_type": "code",
   "execution_count": 51,
   "metadata": {
    "collapsed": false
   },
   "outputs": [
    {
     "data": {
      "text/plain": [
       "{'fastq_dir': '/mnt/genomics/Illumina/160122_D00565_0101_BC81LMANXX/Unaligned/P54-18-28092065/lib10320-32561562',\n",
       " 'project_id': 54,\n",
       " 'run_id': '160122_D00565_0101_BC81LMANXX',\n",
       " 'run_tag': 'C81LMANXX',\n",
       " 'subproject_id': 18}"
      ]
     },
     "execution_count": 51,
     "metadata": {},
     "output_type": "execute_result"
    }
   ],
   "source": [
    "lib_list_file = \"../data/lib_list_160122.txt\"\n",
    "fc_dict, lib_dict = read_lib_list(lib_list_file)\n",
    "lib_id = 'lib10320'\n",
    "lib_packet = lib_dict[lib_id][0]\n",
    "lib_packet"
   ]
  },
  {
   "cell_type": "code",
   "execution_count": 52,
   "metadata": {
    "collapsed": false
   },
   "outputs": [
    {
     "data": {
      "text/plain": [
       "{'date': '2016-01-22',\n",
       " 'flowcell_dir': '/mnt/genomics/Illumina',\n",
       " 'flowcell_id': 'C81LMANXX',\n",
       " 'flowcell_pos': 'B',\n",
       " 'instrument': 'D00565',\n",
       " 'run_number': 101}"
      ]
     },
     "execution_count": 52,
     "metadata": {},
     "output_type": "execute_result"
    }
   ],
   "source": [
    "fc_dict\n",
    "fc_id = '160122_D00565_0101_BC81LMANXX'\n",
    "fc_packet = fc_dict[fc_id]\n",
    "fc_packet"
   ]
  },
  {
   "cell_type": "code",
   "execution_count": 53,
   "metadata": {
    "collapsed": false
   },
   "outputs": [
    {
     "name": "stdout",
     "output_type": "stream",
     "text": [
      "/mnt/genomics/Illumina\n",
      "/Volumes/genomics/Illumina/160122_D00565_0101_BC81LMANXX/runParameters.xml\n",
      "{'EnableCameraLogging': 'false', 'Index': 'HiSeq v4 Dual Index', 'TemplateCycleCount': '5', 'AlignToPhiX': '', 'RunStartDate': '160122', 'UseExistingRecipe': 'false', 'TileWidth': '2048', 'SelectedSections': '', 'EnableLft': 'true', 'RecipeFragmentVersion': '1.5.21.0', 'Flowcell': 'HiSeq Flow Cell v4', 'EnableBasecalling': 'true', 'SlideHolder': 'HiSeq Flow Cell Holder', 'CPLDVersion': '3.0.0', 'NumSwaths': '3', 'WashBarcode': 'C81A1ANXX', 'SelectedSurface': 'BothLaneSurfaces', 'PeriodicSave': 'Save All Thumbnails', 'Sbs': 'HiSeq SBS Kit v4', 'ScanID': '-999', 'NumTilesPerSwath': '16', 'ReagentKits': '', 'ScanNumber': '101', 'RunMode': 'RapidHighOutput', 'ReagentBottles': '', 'Barcode': 'C81LMANXX', 'Read1': '58', 'KeepIntensityFiles': 'false', 'Read2': '0', 'SampleSheet': 'Z:\\\\Illumina HiSeq2500\\\\BaseSpace Sample Sheets\\\\2016Jan21_BC81LMANXX_V4HO_P54-17-18-19_P82-4_P66-3_P127-1_P117-4_P116-2_BS_SampleSheet.csv', 'RunID': '160122_D00565_0101_BC81LMANXX', 'ImageWidth': '2048', 'RapidRunChemistry': 'None', 'EnableNotifications': 'false', 'IntegrationMode': 'BaseSpace', 'CameraFirmware': '2.01-F20-R02', 'EnableAnalysis': 'true', 'ApplicationName': 'HiSeq Control Software', 'Username': 'sbsuser', 'ComputerName': 'HWI-D00565', 'ApplicationVersion': '2.2.58', 'BaseSpaceSettings': '', 'MockRun': 'false', 'CameraDriver': '6.45.20.3690', 'FirstBaseConfirmation': 'false', 'ResumeCycle': '0', 'AreaPerPixelmm2': '1.40625E-07', 'ScannerID': 'D00565', 'FPGAVersion': '7.9.7', 'RemapQScores': 'v8bins', 'FCPosition': 'B', 'ClusteringChoice': 'None', 'RTAVersion': '1.18.64', 'ExperimentName': 'P54-17-18-19_P82-4_P66-3_P127-1_P117-4_P116-2', 'FPGADynamicFocusSettings': '', 'PromptForPeReagents': 'false', 'SupportMultipleSurfacesInUI': 'true', 'WorkFlowType': 'DUALINDEX', 'NumAnalysisThreads': '8', 'EnableAutoCenter': 'true', 'IndexRead2': '8', 'Resume': 'false', 'IndexRead1': '8', 'PerformPreRunFluidicsCheck': 'false', 'AutoTiltOnce': 'true', 'TempFolder': 'E:\\\\Illumina\\\\HiSeqTemp\\\\160122_D00565_0101_BC81LMANXX', 'LaneLength': '60', 'Reads': '', 'SwathScanMode': 'AutoSwath', 'AdapterPlate': 'HiSeq Adapter Plate', 'ServiceRun': 'false', 'PairEndFC': 'false', 'FocusMethod': 'DynamicITF', 'Rehyb': 'None', 'CompressBcls': 'true', 'OutputFolder': 'Y:\\\\Illumina', 'TileHeight': '10000', 'ChemistryVersion': 'Illumina,Bruno Fluidics Controller,0,v2.0340', 'ImageHeight': '160000'}\n"
     ]
    },
    {
     "data": {
      "text/plain": [
       "{'_id': '160122_D00565_0101_BC81LMANXX',\n",
       " 'parent_id': None,\n",
       " 'procedure_id': None,\n",
       " 'raw_data': [{'lane_id': 'L003',\n",
       "   'path': '/genomics/Illumina/160122_D00565_0101_BC81LMANXX/Unaligned/P54-18-28092065/lib10320-32561562/1-930954-44-C03_S68_L003_R1_001.fastq.gz',\n",
       "   'read_id': 'R1',\n",
       "   'sample_number': 68}],\n",
       " 'type': 'flowcell'}"
      ]
     },
     "execution_count": 53,
     "metadata": {},
     "output_type": "execute_result"
    }
   ],
   "source": [
    "import xml.etree.ElementTree as et\n",
    "import glob\n",
    "\n",
    "def find_dir(top_dir, dir_name, max_depth):\n",
    "    for d in range(1, max_depth + 1):\n",
    "        max_glob = \"/\".join(\"*\" * d)\n",
    "        top_glob = os.path.join(top_dir, max_glob)\n",
    "        for f in glob.glob(top_glob):\n",
    "            if dir_name in f:\n",
    "                return f\n",
    "                break\n",
    "                \n",
    "def read_fc_run_params(run_params_file):\n",
    "    tree = et.parse(run_params_file)\n",
    "    return {param.tag: param.text.rstrip() for param in tree.getroot()[0]\n",
    "            if param.text is not None}\n",
    "\n",
    "def get_fc_protocol(param_dict):\n",
    "    fc_version = matchdefault('v[0-9]+', param_dict.get('Flowcell'))\n",
    "    print fc_version\n",
    "\n",
    "    \n",
    "class Run(TG3Object):\n",
    "    '''\n",
    "    GenLIMS object in the 'runs' collection\n",
    "    '''\n",
    "    \n",
    "    def __init__(self, *args, **kwargs):\n",
    "        if 'protocol_id' in kwargs:\n",
    "            self.procedure_id = kwargs.pop('procedure_id')\n",
    "        else:\n",
    "            self.procedure_id = None\n",
    "        TG3Object.__init__(self, *args, **kwargs)\n",
    "        \n",
    "        \n",
    "class FlowcellRun(Run):\n",
    "    '''\n",
    "    GenLIMS object in 'runs' collection of type 'flowcell'\n",
    "    '''\n",
    "    \n",
    "    def __init__(self, *args, **kwargs):\n",
    "        if 'parent_id' in kwargs:\n",
    "            self.parent_id = kwargs.pop('parent_id')\n",
    "        else:\n",
    "            self.parent_id = None\n",
    "        Run.__init__(self, *args, **kwargs)\n",
    "        \n",
    "        # overwrite sample type\n",
    "        self.type = 'flowcell'\n",
    "    \n",
    "    def _init_from_fc_packet(self, fc_run_id, fc_packet):\n",
    "        self._id = fc_run_id\n",
    "        \n",
    "        fc_dir = fc_packet.pop('flowcell_dir')\n",
    "        for k, v in fc_packet.items():\n",
    "            self.update({k: v})\n",
    "        \n",
    "        self._get_fc_params(fc_dir)\n",
    "        \n",
    "    def _get_fc_params(self, fc_dir):\n",
    "        root_dir = find_dir('/', 'genomics', 3)\n",
    "        local_fc_dir = re.sub('.*genomics', root_dir, fc_dir)\n",
    "        print fc_dir\n",
    "        run_params_file = os.path.join(local_fc_dir, self._id, 'runParameters.xml')\n",
    "        print run_params_file\n",
    "        \n",
    "        print(read_fc_run_params(run_params_file))\n",
    "        \n",
    "        self.raw_data = get_lib_fastqs(lib_packet.get('fastq_dir'))\n",
    "# param_dict = read_run_params(runparams_file)\n",
    "# get_fc_protocol(param_dict)\n",
    "\n",
    "r = FlowcellRun()\n",
    "r._init_from_fc_packet(fc_id, fc_packet)\n",
    "r.__dict__"
   ]
  },
  {
   "cell_type": "code",
   "execution_count": 30,
   "metadata": {
    "collapsed": false
   },
   "outputs": [
    {
     "data": {
      "text/plain": [
       "'/Volumes/genomics/Illumina'"
      ]
     },
     "execution_count": 30,
     "metadata": {},
     "output_type": "execute_result"
    }
   ],
   "source": [
    "root_dir = find_dir('/', 'genomics', 3)\n",
    "fc_dir = '/mnt/genomics/Illumina'\n",
    "re.sub('.*genomics', root_dir, fc_dir)"
   ]
  },
  {
   "cell_type": "code",
   "execution_count": 33,
   "metadata": {
    "collapsed": false
   },
   "outputs": [
    {
     "name": "stdout",
     "output_type": "stream",
     "text": [
      "{\n",
      "    \"_id\": \"lib10205\", \n",
      "    \"assays\": [\n",
      "        {\n",
      "            \"assayId\": \"C81A1ANXX\", \n",
      "            \"rawData\": [\n",
      "                {\n",
      "                    \"compression\": \"gz\", \n",
      "                    \"laneId\": 7, \n",
      "                    \"path\": \"/genomics/Illumina/151216_D00565_0100_AC81A1ANXX/Unaligned/P43-36-27317307/lib10205-31660697/PA342-17_S271_L007_R1_001.fastq.gz\", \n",
      "                    \"readId\": 1, \n",
      "                    \"type\": \"fastq\"\n",
      "                }\n",
      "            ]\n",
      "        }\n",
      "    ], \n",
      "    \"projectId\": 43, \n",
      "    \"subprojectId\": 36\n",
      "}\n"
     ]
    }
   ],
   "source": [
    "print json.dumps(lib_dict_to_db(lib_dict)[1], indent=4, sort_keys=True)"
   ]
  },
  {
   "cell_type": "code",
   "execution_count": 36,
   "metadata": {
    "collapsed": false
   },
   "outputs": [],
   "source": [
    "lib10000 = [lib for lib in lib_dict_to_db(lib_dict) if lib['_id'] == 'lib10000']"
   ]
  },
  {
   "cell_type": "code",
   "execution_count": 37,
   "metadata": {
    "collapsed": false
   },
   "outputs": [
    {
     "name": "stdout",
     "output_type": "stream",
     "text": [
      "[\n",
      "    {\n",
      "        \"_id\": \"lib10000\", \n",
      "        \"assays\": [\n",
      "            {\n",
      "                \"assayId\": \"C81A1ANXX\", \n",
      "                \"rawData\": [\n",
      "                    {\n",
      "                        \"compression\": \"gz\", \n",
      "                        \"laneId\": 1, \n",
      "                        \"path\": \"/genomics/Illumina/151216_D00565_0100_AC81A1ANXX/Unaligned/P43-29-27330309/lib10000-31653654/1D-HC29-C04_S27_L001_R1_001.fastq.gz\", \n",
      "                        \"readId\": 1, \n",
      "                        \"type\": \"fastq\"\n",
      "                    }\n",
      "                ]\n",
      "            }\n",
      "        ], \n",
      "        \"projectId\": 43, \n",
      "        \"subprojectId\": 29\n",
      "    }\n",
      "]\n"
     ]
    }
   ],
   "source": [
    "print json.dumps(lib10000, indent=4, sort_keys=True)"
   ]
  },
  {
   "cell_type": "code",
   "execution_count": 31,
   "metadata": {
    "collapsed": false
   },
   "outputs": [
    {
     "name": "stdout",
     "output_type": "stream",
     "text": [
      "{\n",
      "    \"_id\": \"C81A1ANXX\", \n",
      "    \"date\": \"2015-12-16\", \n",
      "    \"instrumentId\": \"D00565\", \n",
      "    \"lanes\": [\n",
      "        {\n",
      "            \"laneId\": 1, \n",
      "            \"libraries\": [\n",
      "                {\n",
      "                    \"libId\": \"lib9974\"\n",
      "                }, \n",
      "                {\n",
      "                    \"libId\": \"lib10000\"\n",
      "                }\n",
      "            ]\n",
      "        }, \n",
      "        {\n",
      "            \"laneId\": 2, \n",
      "            \"libraries\": [\n",
      "                {\n",
      "                    \"libId\": \"lib10032\"\n",
      "                }, \n",
      "                {\n",
      "                    \"libId\": \"lib10039\"\n",
      "                }\n",
      "            ]\n",
      "        }, \n",
      "        {\n",
      "            \"laneId\": 3, \n",
      "            \"libraries\": [\n",
      "                {\n",
      "                    \"libId\": \"lib10091\"\n",
      "                }, \n",
      "                {\n",
      "                    \"libId\": \"lib10086\"\n",
      "                }\n",
      "            ]\n",
      "        }, \n",
      "        {\n",
      "            \"laneId\": 4, \n",
      "            \"libraries\": [\n",
      "                {\n",
      "                    \"libId\": \"lib10121\"\n",
      "                }, \n",
      "                {\n",
      "                    \"libId\": \"lib10104\"\n",
      "                }\n",
      "            ]\n",
      "        }, \n",
      "        {\n",
      "            \"laneId\": 5, \n",
      "            \"libraries\": [\n",
      "                {\n",
      "                    \"libId\": \"lib10240\"\n",
      "                }, \n",
      "                {\n",
      "                    \"libId\": \"lib10226\"\n",
      "                }\n",
      "            ]\n",
      "        }, \n",
      "        {\n",
      "            \"laneId\": 6, \n",
      "            \"libraries\": [\n",
      "                {\n",
      "                    \"libId\": \"lib10129\"\n",
      "                }, \n",
      "                {\n",
      "                    \"libId\": \"lib10128\"\n",
      "                }\n",
      "            ]\n",
      "        }, \n",
      "        {\n",
      "            \"laneId\": 7, \n",
      "            \"libraries\": [\n",
      "                {\n",
      "                    \"libId\": \"lib10174\"\n",
      "                }, \n",
      "                {\n",
      "                    \"libId\": \"lib10171\"\n",
      "                }\n",
      "            ]\n",
      "        }, \n",
      "        {\n",
      "            \"laneId\": 8, \n",
      "            \"libraries\": []\n",
      "        }\n",
      "    ], \n",
      "    \"runId\": 100, \n",
      "    \"type\": \"flowcell\"\n",
      "}\n"
     ]
    }
   ],
   "source": [
    "print json.dumps(fc_dict_to_db(fc_dict)[0], indent=4, sort_keys=True)"
   ]
  },
  {
   "cell_type": "code",
   "execution_count": 201,
   "metadata": {
    "collapsed": false
   },
   "outputs": [
    {
     "data": {
      "text/plain": [
       "[{'lane_id': 1},\n",
       " {'lane_id': 2},\n",
       " {'lane_id': 3},\n",
       " {'lane_id': 4},\n",
       " {'lane_id': 5},\n",
       " {'lane_id': 6},\n",
       " {'lane_id': 7},\n",
       " {'lane_id': 8}]"
      ]
     },
     "execution_count": 201,
     "metadata": {},
     "output_type": "execute_result"
    }
   ],
   "source": [
    "[ {'lane_id': l} for l in range(1, 9) ]"
   ]
  },
  {
   "cell_type": "code",
   "execution_count": null,
   "metadata": {
    "collapsed": false
   },
   "outputs": [],
   "source": []
  }
 ],
 "metadata": {
  "kernelspec": {
   "display_name": "Python 2",
   "language": "python",
   "name": "python2"
  },
  "language_info": {
   "codemirror_mode": {
    "name": "ipython",
    "version": 2
   },
   "file_extension": ".py",
   "mimetype": "text/x-python",
   "name": "python",
   "nbconvert_exporter": "python",
   "pygments_lexer": "ipython2",
   "version": "2.7.11"
  }
 },
 "nbformat": 4,
 "nbformat_minor": 0
}
