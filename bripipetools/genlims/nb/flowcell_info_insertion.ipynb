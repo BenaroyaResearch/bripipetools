{
 "cells": [
  {
   "cell_type": "code",
   "execution_count": 1,
   "metadata": {
    "collapsed": false
   },
   "outputs": [],
   "source": [
    "import os, re, sys\n",
    "from pymongo import MongoClient\n",
    "from pprint import pprint\n",
    "import datetime\n",
    "import json\n",
    "import xml.etree.ElementTree as et\n",
    "import glob"
   ]
  },
  {
   "cell_type": "code",
   "execution_count": 2,
   "metadata": {
    "collapsed": false
   },
   "outputs": [],
   "source": [
    "client = MongoClient()\n",
    "db = client.tg3"
   ]
  },
  {
   "cell_type": "code",
   "execution_count": 3,
   "metadata": {
    "collapsed": false
   },
   "outputs": [],
   "source": [
    "\n",
    "# wrapper function for regex matching\n",
    "def matchdefault(pattern, string, default=''):\n",
    "    \n",
    "    regex = re.compile(pattern)\n",
    "    match = regex.search(string)\n",
    "    if match is not None:\n",
    "        return match.group()\n",
    "    else:\n",
    "        return default\n",
    "\n",
    "### file/path/string parsing functions ###\n",
    "\n",
    "def get_lib_id(lib_str):\n",
    "    lib_id = matchdefault('lib[1-9]+[0-9]*', lib_str)\n",
    "    \n",
    "    return lib_id\n",
    "\n",
    "def parse_fc_run_id(fc_run_id):\n",
    "    fc_parts = fc_run_id.split('_')\n",
    "\n",
    "    d = datetime.datetime.strptime(fc_parts[0], '%y%m%d')\n",
    "    \n",
    "    date = datetime.date.isoformat(d)\n",
    "    instrument_id = fc_parts[1]\n",
    "    run_num = int(fc_parts[2])\n",
    "    \n",
    "    fc_id = matchdefault('(?<=(_(A|B|D)))([A-Z]|[0-9])*XX', fc_run_id)\n",
    "    fc_pos = matchdefault('.{1}(?=%s)' % fc_id, fc_run_id)\n",
    "\n",
    "    return date, instrument_id, run_num, fc_id, fc_pos\n",
    "    \n",
    "def get_proj_id(proj_str):\n",
    "    proj = matchdefault('P+[0-9]+(-[0-9]+){,1}', proj_str)\n",
    "    proj_id = int(matchdefault('(?<=P)[0-9]+', proj))\n",
    "    subproj_id = int(matchdefault('(?<=-)[0-9]+', proj))\n",
    "    \n",
    "    return proj_id, subproj_id\n",
    "\n",
    "def parse_lib_line(line):\n",
    "    l_parts = line.strip().split('\\t')\n",
    "    \n",
    "    lib_id = get_lib_id(l_parts[0])\n",
    "    \n",
    "    project_id, subproject_id = get_proj_id(l_parts[3])\n",
    "    fastq_dir = l_parts[-1]\n",
    "    \n",
    "    lib_packet = {'project_id': project_id,\n",
    "                  'subproject_id': subproject_id,\n",
    "                  'fastq_dir': fastq_dir}\n",
    "    \n",
    "    flowcell_run_id = l_parts[2]\n",
    "    fc_dir = l_parts[4]\n",
    "    fc_date, instr, run_num, fc_id, fc_pos = parse_fc_run_id(flowcell_run_id)\n",
    "    \n",
    "    flowcell_packet = {'date': fc_date,\n",
    "                       'instrument': instr,\n",
    "                       'run_number': run_num,\n",
    "                       'flowcell_id': fc_id,\n",
    "                       'flowcell_pos': fc_pos,\n",
    "                       'flowcell_dir': fc_dir}\n",
    "    \n",
    "    return lib_id, lib_packet, flowcell_run_id, flowcell_packet\n",
    "\n",
    "### file parsing/annotating functions ###\n",
    "\n",
    "def get_file_type(file_path):\n",
    "    ext = os.path.splitext(file_path)\n",
    "    if 'z' in ext[-1]:\n",
    "        compression = ext[-1].lstrip('.')\n",
    "        ext = os.path.splitext(ext[0])[-1].lstrip('.')\n",
    "    return ext, compression\n",
    "\n",
    "def get_fastq_source(file_path):\n",
    "    lane_id = matchdefault('(?<=_)L00[1-8]', file_path)\n",
    "    read_id = matchdefault('(?<=_)R[1-2]', file_path)\n",
    "    sample_num = int(matchdefault('(?<=_S)[0-9]+', file_path))\n",
    "    return lane_id, read_id, sample_num\n",
    "    \n",
    "def collect_fastq_info(file_path):\n",
    "    file_type,compression = get_file_type(file_path)\n",
    "    \n",
    "    if file_type == 'fastq':\n",
    "        lane_id, read_id, sample_num = get_fastq_source(file_path)\n",
    "    \n",
    "    file_path = re.sub('.*(?=/genomics)', '', file_path)\n",
    "    \n",
    "    return {'path': file_path, 'lane_id': lane_id, \n",
    "            'read_id': read_id, 'sample_number': sample_num}\n",
    "\n",
    "\n",
    "# describe raw files for current lib\n",
    "def get_lib_fastqs(fastq_dir):\n",
    "    # check if logged into server or accessing mounted volume\n",
    "    if not os.path.isdir(fastq_dir):\n",
    "        fastq_dir = re.sub('mnt', 'Volumes', fastq_dir)\n",
    "        \n",
    "    return [collect_fastq_info(os.path.join(fastq_dir, f))\n",
    "            for f in os.listdir(fastq_dir)]\n",
    "\n",
    "# read and extract info from library list file\n",
    "def read_lib_list(lib_list_file):\n",
    "    lib_dict = {}\n",
    "    fc_dict = {}\n",
    "    with open(lib_list_file) as f:\n",
    "        for i, l in enumerate(f):\n",
    "            if i > 0:\n",
    "                lib_id, lib_packet, fc_run_id, fc_packet = parse_lib_line(l)\n",
    "                lib_packet['run_id'] = fc_run_id\n",
    "                lib_packet['run_tag'] = fc_packet.get('flowcell_id')\n",
    "                        \n",
    "                lib_dict.setdefault(lib_id, []).append(lib_packet)\n",
    "\n",
    "                if fc_run_id not in fc_dict:\n",
    "                    fc_dict[fc_run_id] = fc_packet\n",
    "                    \n",
    "    return fc_dict, lib_dict"
   ]
  },
  {
   "cell_type": "code",
   "execution_count": 4,
   "metadata": {
    "collapsed": false
   },
   "outputs": [],
   "source": []
  },
  {
   "cell_type": "code",
   "execution_count": 114,
   "metadata": {
    "collapsed": false
   },
   "outputs": [],
   "source": [
    "def to_camel_case(snake_str):\n",
    "    if not re.search('^_', snake_str):\n",
    "        components = snake_str.split('_')\n",
    "        return components[0] + \"\".join(x.title() for x in components[1:])\n",
    "    else:\n",
    "        return snake_str\n",
    "\n",
    "def convert_keys(obj):\n",
    "    if isinstance(obj, list):\n",
    "        return [convert_keys(i) for i in obj]\n",
    "    elif isinstance(obj, dict):\n",
    "        return {to_camel_case(k): convert_keys(obj[k])\n",
    "                for k in obj}\n",
    "    else:\n",
    "        return obj\n",
    "                   \n",
    "def read_fc_run_params(run_params_file):\n",
    "    tree = et.parse(run_params_file)\n",
    "    return {param.tag: param.text.rstrip() for param in tree.getroot()[0]\n",
    "            if param.text is not None}\n",
    "\n",
    "\n",
    "class TG3Object(dict):\n",
    "    '''\n",
    "    Generic functions for objects in TG3 collections.\n",
    "    '''\n",
    "    \n",
    "    def __init__(self, _id=None, type=None):\n",
    "        \n",
    "        self._id = _id\n",
    "        self.type = type\n",
    "\n",
    "    def to_db(self):\n",
    "        return convert_keys(self.__dict__)\n",
    "\n",
    "\n",
    "\n",
    "def find_dir(top_dir, dir_name, max_depth):\n",
    "    for d in range(1, max_depth + 1):\n",
    "        max_glob = \"/\".join(\"*\" * d)\n",
    "        top_glob = os.path.join(top_dir, max_glob)\n",
    "        for f in glob.glob(top_glob):\n",
    "            if dir_name in f:\n",
    "                return f\n",
    "                break\n",
    "\n",
    "    \n",
    "class Run(TG3Object):\n",
    "    '''\n",
    "    GenLIMS object in the 'runs' collection\n",
    "    '''\n",
    "    \n",
    "    def __init__(self, *args, **kwargs):\n",
    "        if 'protocol_id' in kwargs:\n",
    "            self.protocol_id = kwargs.pop('procedure_id')\n",
    "        else:\n",
    "            self.protocol_id = None\n",
    "        TG3Object.__init__(self, *args, **kwargs)\n",
    "\n",
    "\n",
    "class FlowcellRun(Run):\n",
    "    '''\n",
    "    GenLIMS object in 'runs' collection of type 'flowcell'\n",
    "    '''\n",
    "    \n",
    "    def __init__(self, *args, **kwargs):\n",
    "        Run.__init__(self, *args, **kwargs)\n",
    "        \n",
    "        # overwrite sample type\n",
    "        self.type = 'flowcell'\n",
    "    \n",
    "    def _init_from_fc_packet(self, fc_run_id, fc_packet):\n",
    "        self._id = fc_run_id\n",
    "        \n",
    "        fc_dir = fc_packet.pop('flowcell_dir')\n",
    "        for k, v in fc_packet.items():\n",
    "            setattr(self, k, v)\n",
    "        \n",
    "        self._get_fc_params(fc_dir)\n",
    "        self._get_fc_protocol()\n",
    "        \n",
    "    def _get_fc_params(self, fc_dir):\n",
    "        root_dir = find_dir('/', 'genomics', 3)\n",
    "        local_fc_dir = re.sub('.*genomics', root_dir, fc_dir)\n",
    "        run_params_file = os.path.join(local_fc_dir, self._id, 'runParameters.xml')\n",
    "        \n",
    "        self.parameters = read_fc_run_params(run_params_file)\n",
    "                \n",
    "    def _get_fc_protocol(self):\n",
    "\n",
    "        instrument_dict = {'D00565': 'HiSeq2500',\n",
    "                           'H135': 'HiScanSQ'}\n",
    "        \n",
    "        fc_param = self.parameters.get('Flowcell')\n",
    "        is_rapid = 'rapid' in fc_param.lower()\n",
    "        version = matchdefault('v[0-9]+', fc_param)\n",
    "        if is_rapid:\n",
    "            self.protocol_id = '_'.join([instrument_dict[r.instrument], \n",
    "                                     'rapid', version])\n",
    "        else:\n",
    "            self.protocol_id = '_'.join([instrument_dict[r.instrument], \n",
    "                                      version])\n",
    "\n",
    "    \n",
    "class Sample(TG3Object):\n",
    "    '''\n",
    "    GenLIMS object in the 'samples' collection\n",
    "    '''\n",
    "    \n",
    "    def __init__(self, *args, **kwargs):\n",
    "        if 'protocol_id' in kwargs:\n",
    "            self.protocol_id = kwargs.pop('protocol_id')\n",
    "        else:\n",
    "            self.protocol_id = None\n",
    "        TG3Object.__init__(self, *args, **kwargs)\n",
    "        \n",
    "        \n",
    "class SequencedLibrarySample(Sample):\n",
    "    '''\n",
    "    GenLIMS object in 'samples' collection of type 'sequenced library'\n",
    "    '''\n",
    "    \n",
    "    def __init__(self, *args, **kwargs):\n",
    "        if 'parent_id' in kwargs:\n",
    "            self.parent_id = kwargs.pop('parent_id')\n",
    "        else:\n",
    "            self.parent_id = None\n",
    "        Sample.__init__(self, *args, **kwargs)\n",
    "        \n",
    "        # overwrite sample type\n",
    "        self.type = 'sequenced library'\n",
    "    \n",
    "    def _init_from_lib_packet(self, lib_id, lib_packet):\n",
    "        self.parent_id = lib_id\n",
    "        self.run_id = lib_packet.get('run_id')\n",
    "        self._id = '%s_%s' % (lib_id, lib_packet.get('run_tag'))\n",
    "        \n",
    "        self._get_raw_data(lib_packet)\n",
    "        \n",
    "    def _get_raw_data(self, lib_packet):\n",
    "        self.raw_data = get_lib_fastqs(lib_packet.get('fastq_dir'))\n",
    "    \n"
   ]
  },
  {
   "cell_type": "code",
   "execution_count": 6,
   "metadata": {
    "collapsed": false
   },
   "outputs": [],
   "source": [
    "!grep 160122 ../data/lib_list_master.txt > ../data/lib_list_160122.txt"
   ]
  },
  {
   "cell_type": "code",
   "execution_count": 93,
   "metadata": {
    "collapsed": false
   },
   "outputs": [
    {
     "name": "stdout",
     "output_type": "stream",
     "text": [
      "{'160122_D00565_0101_BC81LMANXX': {'run_number': 101, 'flowcell_pos': 'B', 'flowcell_dir': '/mnt/genomics/Illumina', 'instrument': 'D00565', 'flowcell_id': 'C81LMANXX', 'date': '2016-01-22'}}\n",
      "{'run_number': 101, 'flowcell_pos': 'B', 'flowcell_dir': '/mnt/genomics/Illumina', 'instrument': 'D00565', 'flowcell_id': 'C81LMANXX', 'date': '2016-01-22'}\n"
     ]
    },
    {
     "data": {
      "text/plain": [
       "{'fastq_dir': '/mnt/genomics/Illumina/160122_D00565_0101_BC81LMANXX/Unaligned/P54-18-28092065/lib10320-32561562',\n",
       " 'project_id': 54,\n",
       " 'run_id': '160122_D00565_0101_BC81LMANXX',\n",
       " 'run_tag': 'C81LMANXX',\n",
       " 'subproject_id': 18}"
      ]
     },
     "execution_count": 93,
     "metadata": {},
     "output_type": "execute_result"
    }
   ],
   "source": [
    "lib_list_file = \"../data/lib_list_160122.txt\"\n",
    "fc_dict, lib_dict = read_lib_list(lib_list_file)\n",
    "\n",
    "print fc_dict\n",
    "\n",
    "fc_id = '160122_D00565_0101_BC81LMANXX'\n",
    "fc_packet = fc_dict[fc_id]\n",
    "print fc_packet\n",
    "\n",
    "lib_id = 'lib10320'\n",
    "lib_packet = lib_dict[lib_id][0]\n",
    "lib_packet\n",
    "\n"
   ]
  },
  {
   "cell_type": "code",
   "execution_count": 95,
   "metadata": {
    "collapsed": false
   },
   "outputs": [
    {
     "name": "stdout",
     "output_type": "stream",
     "text": [
      "[('160122_D00565_0101_BC81LMANXX', {'run_number': 101, 'flowcell_pos': 'B', 'flowcell_dir': '/mnt/genomics/Illumina', 'instrument': 'D00565', 'flowcell_id': 'C81LMANXX', 'date': '2016-01-22'})]\n"
     ]
    }
   ],
   "source": [
    "print fc_dict.items()"
   ]
  },
  {
   "cell_type": "code",
   "execution_count": 121,
   "metadata": {
    "collapsed": false
   },
   "outputs": [
    {
     "name": "stdout",
     "output_type": "stream",
     "text": [
      "{'160122_D00565_0101_BC81LMANXX': {'run_number': 101, 'flowcell_pos': 'B', 'flowcell_dir': '/mnt/genomics/Illumina', 'instrument': 'D00565', 'flowcell_id': 'C81LMANXX', 'date': '2016-01-22'}}\n"
     ]
    }
   ],
   "source": [
    "def create_lib_list_objects(lib_list_file):\n",
    "    fc_dict, lib_dict = read_lib_list(lib_list_file)\n",
    "    print fc_dict\n",
    "    \n",
    "    runs_collection = []\n",
    "    protocol_dict = {}\n",
    "    for fc_id, fc_packet in fc_dict.items():\n",
    "        run_obj = FlowcellRun()\n",
    "        run_obj._init_from_fc_packet(fc_id, fc_packet)\n",
    "        if run_obj._id not in protocol_dict:\n",
    "            protocol_dict[run_obj._id] = run_obj.protocol_id\n",
    "        \n",
    "        runs_collection.append(run_obj.to_db())\n",
    "        \n",
    "    \n",
    "    count = 0\n",
    "    samples_collection = []\n",
    "    for lib_id, lib_packet in lib_dict.items():\n",
    "        for p_i in lib_packet:\n",
    "            lib_run_id = p_i.get('run_id')\n",
    "            lib_protocol = protocol_dict.get(lib_run_id, None)\n",
    "            seq_lib_obj = SequencedLibrarySample(protocol_id = lib_protocol)\n",
    "            seq_lib_obj._init_from_lib_packet(lib_id, p_i)\n",
    "\n",
    "            samples_collection.append(seq_lib_obj.to_db())\n",
    "        count += 1\n",
    "        if count > 1:\n",
    "            break\n",
    "    \n",
    "    return runs_collection, samples_collection\n",
    "\n",
    "runs_collection, samples_collection = create_lib_list_objects(lib_list_file)"
   ]
  },
  {
   "cell_type": "raw",
   "metadata": {},
   "source": [
    "print fc_dict"
   ]
  },
  {
   "cell_type": "code",
   "execution_count": 123,
   "metadata": {
    "collapsed": false
   },
   "outputs": [
    {
     "name": "stdout",
     "output_type": "stream",
     "text": [
      "[\n",
      "    {\n",
      "        \"_id\": \"lib10473_C81LMANXX\", \n",
      "        \"parentId\": \"lib10473\", \n",
      "        \"protocolId\": \"HiSeq2500_v4\", \n",
      "        \"rawData\": [\n",
      "            {\n",
      "                \"laneId\": \"L004\", \n",
      "                \"path\": \"/genomics/Illumina/160122_D00565_0101_BC81LMANXX/Unaligned/P127-1-28085060/lib10473-32550613/10202-mono_S125_L004_R1_001.fastq.gz\", \n",
      "                \"readId\": \"R1\", \n",
      "                \"sampleNumber\": 125\n",
      "            }\n",
      "        ], \n",
      "        \"runId\": \"160122_D00565_0101_BC81LMANXX\", \n",
      "        \"type\": \"sequenced library\"\n",
      "    }, \n",
      "    {\n",
      "        \"_id\": \"lib10472_C81LMANXX\", \n",
      "        \"parentId\": \"lib10472\", \n",
      "        \"protocolId\": \"HiSeq2500_v4\", \n",
      "        \"rawData\": [\n",
      "            {\n",
      "                \"laneId\": \"L004\", \n",
      "                \"path\": \"/genomics/Illumina/160122_D00565_0101_BC81LMANXX/Unaligned/P127-1-28085060/lib10472-32558547/10202-Bcell_S124_L004_R1_001.fastq.gz\", \n",
      "                \"readId\": \"R1\", \n",
      "                \"sampleNumber\": 124\n",
      "            }\n",
      "        ], \n",
      "        \"runId\": \"160122_D00565_0101_BC81LMANXX\", \n",
      "        \"type\": \"sequenced library\"\n",
      "    }\n",
      "]\n"
     ]
    }
   ],
   "source": [
    "print json.dumps(samples_collection, indent=4, sort_keys=True)"
   ]
  },
  {
   "cell_type": "code",
   "execution_count": 125,
   "metadata": {
    "collapsed": false
   },
   "outputs": [
    {
     "name": "stdout",
     "output_type": "stream",
     "text": [
      "lib10477\tlib10477-32561551\t160122_D00565_0101_BC81LMANXX\tP127-1-28085060\t/mnt/genomics/Illumina\t/mnt/genomics/Illumina/160122_D00565_0101_BC81LMANXX/Unaligned/P127-1-28085060/lib10477-32561551\r\n",
      "lib10476\tlib10476-32554572\t160122_D00565_0101_BC81LMANXX\tP127-1-28085060\t/mnt/genomics/Illumina\t/mnt/genomics/Illumina/160122_D00565_0101_BC81LMANXX/Unaligned/P127-1-28085060/lib10476-32554572\r\n",
      "lib10470\tlib10470-32560546\t160122_D00565_0101_BC81LMANXX\tP127-1-28085060\t/mnt/genomics/Illumina\t/mnt/genomics/Illumina/160122_D00565_0101_BC81LMANXX/Unaligned/P127-1-28085060/lib10470-32560546\r\n",
      "lib10473\tlib10473-32550613\t160122_D00565_0101_BC81LMANXX\tP127-1-28085060\t/mnt/genomics/Illumina\t/mnt/genomics/Illumina/160122_D00565_0101_BC81LMANXX/Unaligned/P127-1-28085060/lib10473-32550613\r\n",
      "lib10472\tlib10472-32558547\t160122_D00565_0101_BC81LMANXX\tP127-1-28085060\t/mnt/genomics/Illumina\t/mnt/genomics/Illumina/160122_D00565_0101_BC81LMANXX/Unaligned/P127-1-28085060/lib10472-32558547\r\n",
      "lib10471\tlib10471-32557549\t160122_D00565_0101_BC81LMANXX\tP127-1-28085060\t/mnt/genomics/Illumina\t/mnt/genomics/Illumina/160122_D00565_0101_BC81LMANXX/Unaligned/P127-1-28085060/lib10471-32557549\r\n",
      "lib10474\tlib10474-32562550\t160122_D00565_0101_BC81LMANXX\tP127-1-28085060\t/mnt/genomics/Illumina\t/mnt/genomics/Illumina/160122_D00565_0101_BC81LMANXX/Unaligned/P127-1-28085060/lib10474-32562550\r\n",
      "lib10475\tlib10475-32554571\t160122_D00565_0101_BC81LMANXX\tP127-1-28085060\t/mnt/genomics/Illumina\t/mnt/genomics/Illumina/160122_D00565_0101_BC81LMANXX/Unaligned/P127-1-28085060/lib10475-32554571\r\n",
      "lib10478\tlib10478-32557548\t160122_D00565_0101_BC81LMANXX\tP127-1-28085060\t/mnt/genomics/Illumina\t/mnt/genomics/Illumina/160122_D00565_0101_BC81LMANXX/Unaligned/P127-1-28085060/lib10478-32557548\r\n",
      "lib10479\tlib10479-32553590\t160122_D00565_0101_BC81LMANXX\tP127-1-28085060\t/mnt/genomics/Illumina\t/mnt/genomics/Illumina/160122_D00565_0101_BC81LMANXX/Unaligned/P127-1-28085060/lib10479-32553590\r\n"
     ]
    }
   ],
   "source": [
    "!grep lib1047 ../data/lib_list_160122.txt"
   ]
  },
  {
   "cell_type": "code",
   "execution_count": 37,
   "metadata": {
    "collapsed": false
   },
   "outputs": [
    {
     "name": "stdout",
     "output_type": "stream",
     "text": [
      "[\n",
      "    {\n",
      "        \"_id\": \"lib10000\", \n",
      "        \"assays\": [\n",
      "            {\n",
      "                \"assayId\": \"C81A1ANXX\", \n",
      "                \"rawData\": [\n",
      "                    {\n",
      "                        \"compression\": \"gz\", \n",
      "                        \"laneId\": 1, \n",
      "                        \"path\": \"/genomics/Illumina/151216_D00565_0100_AC81A1ANXX/Unaligned/P43-29-27330309/lib10000-31653654/1D-HC29-C04_S27_L001_R1_001.fastq.gz\", \n",
      "                        \"readId\": 1, \n",
      "                        \"type\": \"fastq\"\n",
      "                    }\n",
      "                ]\n",
      "            }\n",
      "        ], \n",
      "        \"projectId\": 43, \n",
      "        \"subprojectId\": 29\n",
      "    }\n",
      "]\n"
     ]
    }
   ],
   "source": [
    "print json.dumps(lib10000, indent=4, sort_keys=True)"
   ]
  },
  {
   "cell_type": "code",
   "execution_count": 31,
   "metadata": {
    "collapsed": false
   },
   "outputs": [
    {
     "name": "stdout",
     "output_type": "stream",
     "text": [
      "{\n",
      "    \"_id\": \"C81A1ANXX\", \n",
      "    \"date\": \"2015-12-16\", \n",
      "    \"instrumentId\": \"D00565\", \n",
      "    \"lanes\": [\n",
      "        {\n",
      "            \"laneId\": 1, \n",
      "            \"libraries\": [\n",
      "                {\n",
      "                    \"libId\": \"lib9974\"\n",
      "                }, \n",
      "                {\n",
      "                    \"libId\": \"lib10000\"\n",
      "                }\n",
      "            ]\n",
      "        }, \n",
      "        {\n",
      "            \"laneId\": 2, \n",
      "            \"libraries\": [\n",
      "                {\n",
      "                    \"libId\": \"lib10032\"\n",
      "                }, \n",
      "                {\n",
      "                    \"libId\": \"lib10039\"\n",
      "                }\n",
      "            ]\n",
      "        }, \n",
      "        {\n",
      "            \"laneId\": 3, \n",
      "            \"libraries\": [\n",
      "                {\n",
      "                    \"libId\": \"lib10091\"\n",
      "                }, \n",
      "                {\n",
      "                    \"libId\": \"lib10086\"\n",
      "                }\n",
      "            ]\n",
      "        }, \n",
      "        {\n",
      "            \"laneId\": 4, \n",
      "            \"libraries\": [\n",
      "                {\n",
      "                    \"libId\": \"lib10121\"\n",
      "                }, \n",
      "                {\n",
      "                    \"libId\": \"lib10104\"\n",
      "                }\n",
      "            ]\n",
      "        }, \n",
      "        {\n",
      "            \"laneId\": 5, \n",
      "            \"libraries\": [\n",
      "                {\n",
      "                    \"libId\": \"lib10240\"\n",
      "                }, \n",
      "                {\n",
      "                    \"libId\": \"lib10226\"\n",
      "                }\n",
      "            ]\n",
      "        }, \n",
      "        {\n",
      "            \"laneId\": 6, \n",
      "            \"libraries\": [\n",
      "                {\n",
      "                    \"libId\": \"lib10129\"\n",
      "                }, \n",
      "                {\n",
      "                    \"libId\": \"lib10128\"\n",
      "                }\n",
      "            ]\n",
      "        }, \n",
      "        {\n",
      "            \"laneId\": 7, \n",
      "            \"libraries\": [\n",
      "                {\n",
      "                    \"libId\": \"lib10174\"\n",
      "                }, \n",
      "                {\n",
      "                    \"libId\": \"lib10171\"\n",
      "                }\n",
      "            ]\n",
      "        }, \n",
      "        {\n",
      "            \"laneId\": 8, \n",
      "            \"libraries\": []\n",
      "        }\n",
      "    ], \n",
      "    \"runId\": 100, \n",
      "    \"type\": \"flowcell\"\n",
      "}\n"
     ]
    }
   ],
   "source": [
    "print json.dumps(fc_dict_to_db(fc_dict)[0], indent=4, sort_keys=True)"
   ]
  },
  {
   "cell_type": "code",
   "execution_count": 201,
   "metadata": {
    "collapsed": false
   },
   "outputs": [
    {
     "data": {
      "text/plain": [
       "[{'lane_id': 1},\n",
       " {'lane_id': 2},\n",
       " {'lane_id': 3},\n",
       " {'lane_id': 4},\n",
       " {'lane_id': 5},\n",
       " {'lane_id': 6},\n",
       " {'lane_id': 7},\n",
       " {'lane_id': 8}]"
      ]
     },
     "execution_count": 201,
     "metadata": {},
     "output_type": "execute_result"
    }
   ],
   "source": [
    "[ {'lane_id': l} for l in range(1, 9) ]"
   ]
  },
  {
   "cell_type": "code",
   "execution_count": null,
   "metadata": {
    "collapsed": false
   },
   "outputs": [],
   "source": []
  }
 ],
 "metadata": {
  "kernelspec": {
   "display_name": "Python 2",
   "language": "python",
   "name": "python2"
  },
  "language_info": {
   "codemirror_mode": {
    "name": "ipython",
    "version": 2
   },
   "file_extension": ".py",
   "mimetype": "text/x-python",
   "name": "python",
   "nbconvert_exporter": "python",
   "pygments_lexer": "ipython2",
   "version": "2.7.11"
  }
 },
 "nbformat": 4,
 "nbformat_minor": 0
}
