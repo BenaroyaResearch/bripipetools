{
 "cells": [
  {
   "cell_type": "code",
   "execution_count": 1,
   "metadata": {
    "collapsed": false
   },
   "outputs": [],
   "source": [
    "import sys\n",
    "sys.path.insert(0, '../../../../bripipetools/')\n",
    "from bripipetools.genlims import db_import\n",
    "db_import = reload(db_import)"
   ]
  },
  {
   "cell_type": "code",
   "execution_count": 2,
   "metadata": {
    "collapsed": false
   },
   "outputs": [],
   "source": [
    "lib_list_file = \"../data/lib_list_151216.txt\"\n",
    "lli = db_import.LibListImporter(lib_list_file)\n",
    "_, _ = lli.get_fc_run_info()\n",
    "lli.write_to_json('../data/lib_list_import')"
   ]
  },
  {
   "cell_type": "code",
   "execution_count": 3,
   "metadata": {
    "collapsed": false
   },
   "outputs": [
    {
     "name": "stdout",
     "output_type": "stream",
     "text": [
      "[\r\n",
      "    {\r\n",
      "        \"_id\": \"151216_D00565_0100_AC81A1ANXX\",\r\n",
      "        \"date\": \"2015-12-16\",\r\n",
      "        \"flowcellId\": \"C81A1ANXX\",\r\n",
      "        \"flowcellPos\": \"A\",\r\n",
      "        \"instrument\": \"D00565\",\r\n",
      "        \"parameters\": {\r\n",
      "            \"AdapterPlate\": \"HiSeq Adapter Plate\",\r\n",
      "            \"AlignToPhiX\": \"\",\r\n",
      "            \"ApplicationName\": \"HiSeq Control Software\",\r\n",
      "            \"ApplicationVersion\": \"2.2.58\",\r\n",
      "            \"AreaPerPixelmm2\": \"1.40625E-07\",\r\n",
      "            \"AutoTiltOnce\": \"true\",\r\n",
      "            \"Barcode\": \"C81A1ANXX\",\r\n",
      "            \"BaseSpaceSettings\": \"\",\r\n",
      "            \"CPLDVersion\": \"3.0.0\",\r\n",
      "            \"CameraDriver\": \"6.45.20.3690\",\r\n",
      "            \"CameraFirmware\": \"2.01-F20-R02\",\r\n",
      "            \"ChemistryVersion\": \"Illumina,Bruno Fluidics Controller,0,v2.0340\",\r\n",
      "            \"ClusteringChoice\": \"None\",\r\n",
      "            \"CompressBcls\": \"true\",\r\n",
      "            \"ComputerName\": \"HWI-D00565\",\r\n",
      "            \"EnableAnalysis\": \"true\",\r\n",
      "            \"EnableAutoCenter\": \"true\",\r\n",
      "            \"EnableBasecalling\": \"true\",\r\n",
      "            \"EnableCameraLogging\": \"false\",\r\n",
      "            \"EnableLft\": \"true\",\r\n",
      "            \"EnableNotifications\": \"false\",\r\n",
      "            \"ExperimentName\": \"2015Dec15_AC81A1ANXX_V4HO_P43-29-30-31-32-33-34-36_P54-16_P85-8-9-10_P122-1_P121-2\",\r\n",
      "            \"FCPosition\": \"A\",\r\n",
      "            \"FPGADynamicFocusSettings\": \"\",\r\n",
      "            \"FPGAVersion\": \"7.9.7\",\r\n",
      "            \"FirstBaseConfirmation\": \"true\",\r\n",
      "            \"Flowcell\": \"HiSeq Flow Cell v4\",\r\n",
      "            \"FocusMethod\": \"DynamicITF\",\r\n",
      "            \"ImageHeight\": \"160000\",\r\n",
      "            \"ImageWidth\": \"2048\",\r\n",
      "            \"Index\": \"HiSeq v4 Dual Index\",\r\n",
      "            \"IndexRead1\": \"8\",\r\n",
      "            \"IndexRead2\": \"8\",\r\n",
      "            \"IntegrationMode\": \"BaseSpace\",\r\n",
      "            \"KeepIntensityFiles\": \"false\",\r\n",
      "            \"LaneLength\": \"60\",\r\n",
      "            \"MockRun\": \"false\",\r\n",
      "            \"NumAnalysisThreads\": \"8\",\r\n",
      "            \"NumSwaths\": \"3\",\r\n",
      "            \"NumTilesPerSwath\": \"16\",\r\n",
      "            \"OutputFolder\": \"Y:\\\\Illumina\",\r\n",
      "            \"PairEndFC\": \"false\",\r\n",
      "            \"PerformPreRunFluidicsCheck\": \"false\",\r\n",
      "            \"PeriodicSave\": \"Save All Thumbnails\",\r\n",
      "            \"PromptForPeReagents\": \"false\",\r\n",
      "            \"RTAVersion\": \"1.18.64\",\r\n",
      "            \"RapidRunChemistry\": \"None\",\r\n",
      "            \"Read1\": \"58\",\r\n",
      "            \"Read2\": \"0\",\r\n",
      "            \"Reads\": \"\",\r\n",
      "            \"ReagentBottles\": \"\",\r\n",
      "            \"ReagentKits\": \"\",\r\n",
      "            \"RecipeFragmentVersion\": \"1.5.21.0\",\r\n",
      "            \"Rehyb\": \"None\",\r\n",
      "            \"RemapQScores\": \"v8bins\",\r\n",
      "            \"Resume\": \"false\",\r\n",
      "            \"ResumeCycle\": \"0\",\r\n",
      "            \"RunID\": \"151216_D00565_0100_AC81A1ANXX\",\r\n",
      "            \"RunMode\": \"RapidHighOutput\",\r\n",
      "            \"RunStartDate\": \"151216\",\r\n",
      "            \"SampleSheet\": \"Z:\\\\Illumina HiSeq2500\\\\BaseSpace Sample Sheets\\\\2015Dec15_AC81A1ANXX_V4HO_P43-29-31-32-33-34-36_P54-16_P85-8-9-10_P122_P121-2_SampleSheet.csv\",\r\n",
      "            \"Sbs\": \"HiSeq SBS Kit v4\",\r\n",
      "            \"ScanID\": \"-999\",\r\n",
      "            \"ScanNumber\": \"100\",\r\n",
      "            \"ScannerID\": \"D00565\",\r\n",
      "            \"SelectedSections\": \"\",\r\n",
      "            \"SelectedSurface\": \"BothLaneSurfaces\",\r\n",
      "            \"ServiceRun\": \"false\",\r\n",
      "            \"SlideHolder\": \"HiSeq Flow Cell Holder\",\r\n",
      "            \"SupportMultipleSurfacesInUI\": \"true\",\r\n",
      "            \"SwathScanMode\": \"AutoSwath\",\r\n",
      "            \"TempFolder\": \"D:\\\\Illumina\\\\HiSeqTemp\\\\151216_D00565_0100_AC81A1ANXX\",\r\n",
      "            \"TemplateCycleCount\": \"5\",\r\n",
      "            \"TileHeight\": \"10000\",\r\n",
      "            \"TileWidth\": \"2048\",\r\n",
      "            \"UseExistingRecipe\": \"false\",\r\n",
      "            \"Username\": \"sbsuser\",\r\n",
      "            \"WashBarcode\": \"C81MLANXX\",\r\n",
      "            \"WorkFlowType\": \"DUALINDEX\"\r\n",
      "        },\r\n",
      "        \"protocolId\": \"HiSeq2500_v4\",\r\n",
      "        \"runNumber\": 100,\r\n",
      "        \"type\": \"flowcell\"\r\n",
      "    }\r\n",
      "]\r\n"
     ]
    }
   ],
   "source": [
    "!python -m json.tool ../data/lib_list_import_fc_runs.json"
   ]
  },
  {
   "cell_type": "code",
   "execution_count": null,
   "metadata": {
    "collapsed": true
   },
   "outputs": [],
   "source": []
  }
 ],
 "metadata": {
  "kernelspec": {
   "display_name": "Python 2",
   "language": "python",
   "name": "python2"
  },
  "language_info": {
   "codemirror_mode": {
    "name": "ipython",
    "version": 2
   },
   "file_extension": ".py",
   "mimetype": "text/x-python",
   "name": "python",
   "nbconvert_exporter": "python",
   "pygments_lexer": "ipython2",
   "version": "2.7.11"
  }
 },
 "nbformat": 4,
 "nbformat_minor": 0
}
