{
 "metadata": {
  "name": "",
  "signature": "sha256:fff74794c3d38b4db11308c3ab8a14b2daf5ef21668e01b913fcc79d97cb976f"
 },
 "nbformat": 3,
 "nbformat_minor": 0,
 "worksheets": [
  {
   "cells": [
    {
     "cell_type": "code",
     "collapsed": false,
     "input": [
      "import os, re, sys\n",
      "from pymongo import MongoClient\n",
      "from pprint import pprint"
     ],
     "language": "python",
     "metadata": {},
     "outputs": [],
     "prompt_number": 1
    },
    {
     "cell_type": "code",
     "collapsed": false,
     "input": [
      "client = MongoClient()\n",
      "db = client.tg3"
     ],
     "language": "python",
     "metadata": {},
     "outputs": [],
     "prompt_number": 2
    },
    {
     "cell_type": "code",
     "collapsed": false,
     "input": [
      "# list all projects and subprojects\n",
      "project_list = db.projects.find()\n",
      "\n"
     ],
     "language": "python",
     "metadata": {},
     "outputs": [],
     "prompt_number": 3
    },
    {
     "cell_type": "code",
     "collapsed": false,
     "input": [
      "# get project P43\n",
      "p_id = 48\n",
      "p = db.projects.find_one({\"_id\": p_id})\n",
      "p"
     ],
     "language": "python",
     "metadata": {},
     "outputs": [
      {
       "metadata": {},
       "output_type": "pyout",
       "prompt_number": 99,
       "text": [
        "{u'_id': 48,\n",
        " u'dateCreated': datetime.datetime(2012, 9, 27, 20, 8, 12),\n",
        " u'dmID': None,\n",
        " u'internalIndex': 48,\n",
        " u'isActive': True,\n",
        " u'lastUpdated': datetime.datetime(2012, 9, 27, 20, 8, 58),\n",
        " u'projectBackground': u'',\n",
        " u'projectGoals': u'',\n",
        " u'projectIRB': None,\n",
        " u'projectMethods': u'',\n",
        " u'projectResults': u'',\n",
        " u'projectTitle': u'Pilot Sing Cell C1 Profiling',\n",
        " u'projectType': u'Experiment',\n",
        " u'searchId': u'p48',\n",
        " u'subprojects': [{u'dateCreated': datetime.datetime(2012, 9, 27, 20, 8, 12),\n",
        "   u'experimentName': u'Pilot Sing Cell C1 Profiling',\n",
        "   u'projectType': u'Experiment',\n",
        "   u'subprojectId': 0}]}"
       ]
      }
     ],
     "prompt_number": 99
    },
    {
     "cell_type": "code",
     "collapsed": false,
     "input": [
      "# parse subproject experiment name to extract experiment type\n",
      "def get_experiment_type(experiment_name):\n",
      "    e_type_dict = {'microarray': 'microarray',\n",
      "                   'fluidigm': 'fluidigm',\n",
      "                   'c1': 'sc_rnaseq',\n",
      "                   'bulk': 'bulk_rnaseq'}\n",
      "    \n",
      "    e_type_match = [ e_type_dict[t] \\\n",
      "                     for t in e_type_dict \\\n",
      "                     if re.search(t, experiment_name.lower()) ]\n",
      "    if len(e_type_match):\n",
      "        e_type = e_type_match[0]\n",
      "    else:\n",
      "        e_type = 'unknown'\n",
      "    return e_type\n",
      "\n",
      "# parse subproject experiment name to extract month (and year, if available)\n",
      "def get_experiment_date(experiment_name):\n",
      "    m_dict = {'jan': 1, 'feb': 2, 'mar': 3, 'apr': 4, 'may': 5, 'jun': 6,\n",
      "              'jul': 7, 'aug': 8, 'sep': 9, 'oct': 10, 'nov': 11, 'dec': 12}\n",
      "    \n",
      "    e_month_match = [ m_dict[m] for m in m_dict if re.search(m, experiment_name.lower()) ]\n",
      "    if len(e_month_match):\n",
      "        e_month = e_month_match[0]\n",
      "    else:\n",
      "        e_month = 'unknown'\n",
      "        \n",
      "    e_year_match = re.search('[0-9]{4}', experiment_name)\n",
      "    if e_year_match is not None:\n",
      "        e_year = int(e_year_match.group())\n",
      "    else:\n",
      "        e_year = 'unknown'\n",
      "    \n",
      "    return(e_month, e_year)"
     ],
     "language": "python",
     "metadata": {},
     "outputs": [],
     "prompt_number": 48
    },
    {
     "cell_type": "code",
     "collapsed": false,
     "input": [],
     "language": "python",
     "metadata": {},
     "outputs": [],
     "prompt_number": 25
    },
    {
     "cell_type": "code",
     "collapsed": false,
     "input": [
      "s = p.get('subprojects')[15]\n",
      "print s.get('experimentName')\n",
      "print get_experiment_type(s.get('experimentName'))\n",
      "print get_experiment_date(s.get('experimentName'))"
     ],
     "language": "python",
     "metadata": {},
     "outputs": [
      {
       "output_type": "stream",
       "stream": "stdout",
       "text": [
        "renamed bulk from Nov25_2014\n",
        "bulk_rnaseq\n",
        "(11, 2014)\n"
       ]
      }
     ],
     "prompt_number": 57
    },
    {
     "cell_type": "code",
     "collapsed": false,
     "input": [
      "# pull out subproject info\n",
      "subproject_dict = { s.get('subprojectId'): \\\n",
      "                    {'experimentType': get_experiment_type(s.get('experimentName')),\n",
      "                     'experimentDate': \n",
      "                     {'month': get_experiment_date(s.get('experimentName'))[0],\n",
      "                      'year': get_experiment_date(s.get('experimentName'))[1]}} \\\n",
      "                    for s in p.get('subprojects') }"
     ],
     "language": "python",
     "metadata": {},
     "outputs": [],
     "prompt_number": 74
    },
    {
     "cell_type": "code",
     "collapsed": false,
     "input": [
      "subproject_dict"
     ],
     "language": "python",
     "metadata": {},
     "outputs": [
      {
       "metadata": {},
       "output_type": "pyout",
       "prompt_number": 75,
       "text": [
        "{0: {'experimentDate': {'month': 'unknown', 'year': 'unknown'},\n",
        "  'experimentType': 'unknown'},\n",
        " 1: {'experimentDate': {'month': 6, 'year': 2012},\n",
        "  'experimentType': 'microarray'},\n",
        " 2: {'experimentDate': {'month': 11, 'year': 2012},\n",
        "  'experimentType': 'fluidigm'},\n",
        " 3: {'experimentDate': {'month': 3, 'year': 2013},\n",
        "  'experimentType': 'microarray'},\n",
        " 4: {'experimentDate': {'month': 5, 'year': 2013},\n",
        "  'experimentType': 'fluidigm'},\n",
        " 5: {'experimentDate': {'month': 4, 'year': 2014},\n",
        "  'experimentType': 'sc_rnaseq'},\n",
        " 6: {'experimentDate': {'month': 8, 'year': 2014},\n",
        "  'experimentType': 'sc_rnaseq'},\n",
        " 7: {'experimentDate': {'month': 11, 'year': 2014},\n",
        "  'experimentType': 'fluidigm'},\n",
        " 8: {'experimentDate': {'month': 11, 'year': 2014},\n",
        "  'experimentType': 'sc_rnaseq'},\n",
        " 9: {'experimentDate': {'month': 11, 'year': 2014},\n",
        "  'experimentType': 'sc_rnaseq'},\n",
        " 10: {'experimentDate': {'month': 2, 'year': 2015},\n",
        "  'experimentType': 'unknown'},\n",
        " 11: {'experimentDate': {'month': 2, 'year': 2015},\n",
        "  'experimentType': 'fluidigm'},\n",
        " 12: {'experimentDate': {'month': 3, 'year': 2015},\n",
        "  'experimentType': 'bulk_rnaseq'},\n",
        " 13: {'experimentDate': {'month': 3, 'year': 'unknown'},\n",
        "  'experimentType': 'sc_rnaseq'},\n",
        " 14: {'experimentDate': {'month': 3, 'year': 'unknown'},\n",
        "  'experimentType': 'fluidigm'},\n",
        " 15: {'experimentDate': {'month': 11, 'year': 2014},\n",
        "  'experimentType': 'bulk_rnaseq'},\n",
        " 16: {'experimentDate': {'month': 4, 'year': 2015},\n",
        "  'experimentType': 'unknown'},\n",
        " 17: {'experimentDate': {'month': 6, 'year': 2015},\n",
        "  'experimentType': 'bulk_rnaseq'},\n",
        " 18: {'experimentDate': {'month': 6, 'year': 2015},\n",
        "  'experimentType': 'sc_rnaseq'},\n",
        " 19: {'experimentDate': {'month': 7, 'year': 2015},\n",
        "  'experimentType': 'bulk_rnaseq'},\n",
        " 20: {'experimentDate': {'month': 8, 'year': 2015},\n",
        "  'experimentType': 'sc_rnaseq'},\n",
        " 21: {'experimentDate': {'month': 8, 'year': 2015},\n",
        "  'experimentType': 'sc_rnaseq'},\n",
        " 22: {'experimentDate': {'month': 8, 'year': 2015},\n",
        "  'experimentType': 'sc_rnaseq'},\n",
        " 23: {'experimentDate': {'month': 8, 'year': 2015},\n",
        "  'experimentType': 'sc_rnaseq'},\n",
        " 24: {'experimentDate': {'month': 8, 'year': 2015},\n",
        "  'experimentType': 'bulk_rnaseq'},\n",
        " 25: {'experimentDate': {'month': 9, 'year': 2015},\n",
        "  'experimentType': 'bulk_rnaseq'},\n",
        " 26: {'experimentDate': {'month': 11, 'year': 2015},\n",
        "  'experimentType': 'fluidigm'},\n",
        " 27: {'experimentDate': {'month': 'unknown', 'year': 'unknown'},\n",
        "  'experimentType': 'sc_rnaseq'},\n",
        " 28: {'experimentDate': {'month': 11, 'year': 2015},\n",
        "  'experimentType': 'sc_rnaseq'},\n",
        " 29: {'experimentDate': {'month': 11, 'year': 2015},\n",
        "  'experimentType': 'sc_rnaseq'},\n",
        " 30: {'experimentDate': {'month': 11, 'year': 2015},\n",
        "  'experimentType': 'bulk_rnaseq'},\n",
        " 31: {'experimentDate': {'month': 12, 'year': 2015},\n",
        "  'experimentType': 'sc_rnaseq'},\n",
        " 32: {'experimentDate': {'month': 12, 'year': 2015},\n",
        "  'experimentType': 'sc_rnaseq'},\n",
        " 33: {'experimentDate': {'month': 12, 'year': 2015},\n",
        "  'experimentType': 'bulk_rnaseq'},\n",
        " 34: {'experimentDate': {'month': 12, 'year': 2015},\n",
        "  'experimentType': 'sc_rnaseq'},\n",
        " 35: {'experimentDate': {'month': 12, 'year': 2015},\n",
        "  'experimentType': 'sc_rnaseq'},\n",
        " 36: {'experimentDate': {'month': 12, 'year': 2015},\n",
        "  'experimentType': 'bulk_rnaseq'},\n",
        " 37: {'experimentDate': {'month': 12, 'year': 2015},\n",
        "  'experimentType': 'sc_rnaseq'}}"
       ]
      }
     ],
     "prompt_number": 75
    },
    {
     "cell_type": "code",
     "collapsed": false,
     "input": [
      "# guess experiment year based on year of preceding subproject\n",
      "def infer_experiment_year(subproject_dict):\n",
      "    for s in subproject_dict:\n",
      "        if s is not 0 and subproject_dict[s]['experimentDate']['year'] is 'unknown':\n",
      "            e_year_guess = subproject_dict[s - 1]['experimentDate']['year']\n",
      "            subproject_dict[s]['experimentDate']['year'] = e_year_guess\n",
      "    return subproject_dict"
     ],
     "language": "python",
     "metadata": {},
     "outputs": [],
     "prompt_number": 79
    },
    {
     "cell_type": "code",
     "collapsed": false,
     "input": [
      "def get_fc_id(fc_str):\n",
      "    fc_str = re.sub('EXTERNAL_[A-B]', 'EXTERNAL_', fc_str)\n",
      "    fc_re = re.compile('((?<=(EXTERNAL_))|(?<=(_[A-B]))).*XX')\n",
      "    fc_match = fc_re.search(fc_str)\n",
      "    if fc_match is not None:\n",
      "        fcId = fc_match.group()\n",
      "    else:\n",
      "        print fc_str\n",
      "\n",
      "    return fcId\n",
      "\n",
      "# read and extract info from library list file\n",
      "def read_lib_list(lib_list_file):\n",
      "    with open(lib_list_file) as f:\n",
      "        lib_list_lines = f.readlines()\n",
      "\n",
      "    lib_fastq_dict = {}\n",
      "    for l in lib_list_lines[1:]:\n",
      "        l_parts = l.strip().split('\\t')\n",
      "        \n",
      "        lib_id_match = re.search('[1-9]+[0-9]*', l_parts[0])\n",
      "        if lib_id_match is not None:\n",
      "            lib_fastq_dict[lib_id_match.group()] = \\\n",
      "                {'flowcellRun': \n",
      "                     {'year': 2000 + int(l_parts[2][0:2]),\n",
      "                      'flowcellId': get_fc_id(l_parts[2])}, \n",
      "                 'projectName': l_parts[3],\n",
      "                 'fastqPath': l_parts[-1]}\n",
      "        else:\n",
      "            print l_parts[0]\n",
      "    \n",
      "    return lib_fastq_dict"
     ],
     "language": "python",
     "metadata": {},
     "outputs": [],
     "prompt_number": 117
    },
    {
     "cell_type": "code",
     "collapsed": false,
     "input": [
      "lib_list_file = \"../data/lib_list_master.txt\"\n",
      "lib_list_lines = read_lib_list(lib_list_file)"
     ],
     "language": "python",
     "metadata": {},
     "outputs": [],
     "prompt_number": 83
    },
    {
     "cell_type": "code",
     "collapsed": false,
     "input": [
      "read_lib_list(lib_list_file)"
     ],
     "language": "python",
     "metadata": {},
     "outputs": [
      {
       "ename": "AttributeError",
       "evalue": "'NoneType' object has no attribute 'group'",
       "output_type": "pyerr",
       "traceback": [
        "\u001b[0;31m---------------------------------------------------------------------------\u001b[0m\n\u001b[0;31mAttributeError\u001b[0m                            Traceback (most recent call last)",
        "\u001b[0;32m<ipython-input-118-d9f74fb64477>\u001b[0m in \u001b[0;36m<module>\u001b[0;34m()\u001b[0m\n\u001b[0;32m----> 1\u001b[0;31m \u001b[0mread_lib_list\u001b[0m\u001b[0;34m(\u001b[0m\u001b[0mlib_list_file\u001b[0m\u001b[0;34m)\u001b[0m\u001b[0;34m\u001b[0m\u001b[0m\n\u001b[0m",
        "\u001b[0;32m<ipython-input-117-995523a40ed2>\u001b[0m in \u001b[0;36mread_lib_list\u001b[0;34m(lib_list_file)\u001b[0m\n\u001b[1;32m     20\u001b[0m             lib_fastq_dict[lib_id_match.group()] =                 {'flowcellRun': \n\u001b[1;32m     21\u001b[0m                      {'year': 2000 + int(l_parts[2][0:2]),\n\u001b[0;32m---> 22\u001b[0;31m                       'flowcellId': get_fc_id(l_parts[2])}, \n\u001b[0m\u001b[1;32m     23\u001b[0m                  \u001b[0;34m'projectName'\u001b[0m\u001b[0;34m:\u001b[0m \u001b[0ml_parts\u001b[0m\u001b[0;34m[\u001b[0m\u001b[0;36m3\u001b[0m\u001b[0;34m]\u001b[0m\u001b[0;34m,\u001b[0m\u001b[0;34m\u001b[0m\u001b[0m\n\u001b[1;32m     24\u001b[0m                  'fastqPath': l_parts[-1]}\n",
        "\u001b[0;32m<ipython-input-117-995523a40ed2>\u001b[0m in \u001b[0;36mget_fc_id\u001b[0;34m(fcStr)\u001b[0m\n\u001b[1;32m      3\u001b[0m     \u001b[0mfcRe\u001b[0m \u001b[0;34m=\u001b[0m \u001b[0mre\u001b[0m\u001b[0;34m.\u001b[0m\u001b[0mcompile\u001b[0m\u001b[0;34m(\u001b[0m\u001b[0;34m'((?<=(EXTERNAL_))|(?<=(_[A-B]))).*XX'\u001b[0m\u001b[0;34m)\u001b[0m\u001b[0;34m\u001b[0m\u001b[0m\n\u001b[1;32m      4\u001b[0m     \u001b[0;32mif\u001b[0m \u001b[0mfcRe\u001b[0m \u001b[0;32mis\u001b[0m \u001b[0;32mnot\u001b[0m \u001b[0mNone\u001b[0m\u001b[0;34m:\u001b[0m\u001b[0;34m\u001b[0m\u001b[0m\n\u001b[0;32m----> 5\u001b[0;31m         \u001b[0mfcId\u001b[0m \u001b[0;34m=\u001b[0m \u001b[0mfcRe\u001b[0m\u001b[0;34m.\u001b[0m\u001b[0msearch\u001b[0m\u001b[0;34m(\u001b[0m\u001b[0mfcStr\u001b[0m\u001b[0;34m)\u001b[0m\u001b[0;34m.\u001b[0m\u001b[0mgroup\u001b[0m\u001b[0;34m(\u001b[0m\u001b[0;34m)\u001b[0m\u001b[0;34m\u001b[0m\u001b[0m\n\u001b[0m\u001b[1;32m      6\u001b[0m \u001b[0;34m\u001b[0m\u001b[0m\n\u001b[1;32m      7\u001b[0m     \u001b[0;32mreturn\u001b[0m \u001b[0mfcId\u001b[0m\u001b[0;34m\u001b[0m\u001b[0m\n",
        "\u001b[0;31mAttributeError\u001b[0m: 'NoneType' object has no attribute 'group'"
       ]
      }
     ],
     "prompt_number": 118
    },
    {
     "cell_type": "code",
     "collapsed": false,
     "input": [
      "{ s.get('subprojectId'): s.get('experimentName') for s in p.get('subprojects')}"
     ],
     "language": "python",
     "metadata": {},
     "outputs": [
      {
       "metadata": {},
       "output_type": "pyout",
       "prompt_number": 60,
       "text": [
        "{0: u'Eric Wambre',\n",
        " 1: u'Jun2012 Microarray',\n",
        " 2: u'Nov2012 Fluidigm',\n",
        " 3: u'Mar2013 Microarray',\n",
        " 4: u'May2013 Fluidigm',\n",
        " 5: u'Apr2014 (C1)Nextera Library Sequencing',\n",
        " 6: u'Aug2014 (C1)',\n",
        " 7: u'Nov2014 Fluidigm',\n",
        " 8: u'C1 Nov2014',\n",
        " 9: u'C1 Nov_25_2014',\n",
        " 10: u'ITN Grass allergy Feb2015',\n",
        " 11: u'Feb27-2015 Cells Direct Fluidigm',\n",
        " 12: u'Mar19-May7 2015 2015 Bulk',\n",
        " 13: u'Mar25 direct C1 capture',\n",
        " 14: u'Mar25 Cells Direct Fluidigm',\n",
        " 15: u'renamed bulk from Nov25_2014',\n",
        " 16: u'ITN-Cells Direct-Grass allergy April2015',\n",
        " 17: u'Bulk 03June2015',\n",
        " 18: u'10Jun2015 C1 directsort',\n",
        " 19: u'7July2015 bulk',\n",
        " 20: u'20Aug2015 C1',\n",
        " 21: u'25Aug2015 C1',\n",
        " 22: u'26Aug2015 C1',\n",
        " 23: u'27Aug2015 C1',\n",
        " 24: u'27Aug2015 Bulk',\n",
        " 25: u'16Sep 2015 Bulk',\n",
        " 26: u'11Nov2015 Cell Direct Fluidigm',\n",
        " 27: u'C1- PA#229',\n",
        " 28: u'C1 HC26 19Nov2015',\n",
        " 29: u'C1 Nov. 24, 2015',\n",
        " 30: u'Bulk Nov. 25, 2015',\n",
        " 31: u'02Dec2015 C1',\n",
        " 32: u'03Dec2015 C1',\n",
        " 33: u'03Dec2015 Bulk',\n",
        " 34: u'09Dec2015 C1',\n",
        " 35: u'C1 10Dec2015',\n",
        " 36: u'Bulk 10Dec2015',\n",
        " 37: u'C1 17Dec2015'}"
       ]
      }
     ],
     "prompt_number": 60
    },
    {
     "cell_type": "code",
     "collapsed": false,
     "input": [
      "def listdir_re(path, regex):\n",
      "    file_list = [ os.path.join(dp, f) \\\n",
      "                  for dp,dn,fn in os.walk(path) \\\n",
      "                  for f in fn if re.search(regex, f) ]\n",
      "    return file_list"
     ],
     "language": "python",
     "metadata": {},
     "outputs": [],
     "prompt_number": 5
    },
    {
     "cell_type": "code",
     "collapsed": true,
     "input": [
      "project_dir = \"/Volumes/DFS_Chaussabel_LabShare/Projects/\"\n",
      "lib_prep_files = listdir_re(project_dir, '(L|l)ibrary.*xls')"
     ],
     "language": "python",
     "metadata": {},
     "outputs": [],
     "prompt_number": 6
    },
    {
     "cell_type": "code",
     "collapsed": false,
     "input": [
      "date_str = 'Mar2014'"
     ],
     "language": "python",
     "metadata": {},
     "outputs": [],
     "prompt_number": 113
    },
    {
     "cell_type": "code",
     "collapsed": false,
     "input": [
      "re.search('[0-9]{4}', date_str).group()"
     ],
     "language": "python",
     "metadata": {},
     "outputs": [
      {
       "metadata": {},
       "output_type": "pyout",
       "prompt_number": 114,
       "text": [
        "'2014'"
       ]
      }
     ],
     "prompt_number": 114
    },
    {
     "cell_type": "code",
     "collapsed": false,
     "input": [
      "lib_id = \"lib10\"\n",
      "lib = db.samples.find_one({\"_id\": lib_id})\n",
      "cdna = db.samples.find_one({\"_id\": lib.get(\"parentId\")})\n",
      "sample = db.samples.find_one({\"_id\": cdna.get(\"parentId\")})"
     ],
     "language": "python",
     "metadata": {},
     "outputs": [],
     "prompt_number": 96
    },
    {
     "cell_type": "code",
     "collapsed": false,
     "input": [
      "lib"
     ],
     "language": "python",
     "metadata": {},
     "outputs": [
      {
       "metadata": {},
       "output_type": "pyout",
       "prompt_number": 97,
       "text": [
        "{u'_id': u'lib10',\n",
        " u'barcode': None,\n",
        " u'concentration': 30.799999237060547,\n",
        " u'dateCreated': datetime.datetime(2011, 9, 27, 21, 33, 1),\n",
        " u'internalIndex': 10,\n",
        " u'lastUpdated': datetime.datetime(2011, 11, 3, 19, 8, 58),\n",
        " u'libraryId': u'lib10',\n",
        " u'libraryIndex': 7,\n",
        " u'notes': None,\n",
        " u'nqConcentration': None,\n",
        " u'nqMolarity': None,\n",
        " u'parentId': u'grRNA982',\n",
        " u'peak': None,\n",
        " u'processingDate': None,\n",
        " u'processing_date': None,\n",
        " u'projectId': 28,\n",
        " u'projectName': u'RRMS-CIS-NMO',\n",
        " u'purity': 0.0,\n",
        " u'qpcrConcentration': None,\n",
        " u'removed': False,\n",
        " u'researcher': None,\n",
        " u'sampleId': u'S3366',\n",
        " u'size': 267,\n",
        " u'storage': None,\n",
        " u'type': u'library'}"
       ]
      }
     ],
     "prompt_number": 97
    },
    {
     "cell_type": "code",
     "collapsed": false,
     "input": [
      "p48_lids = db.samples.find()"
     ],
     "language": "python",
     "metadata": {},
     "outputs": []
    },
    {
     "cell_type": "code",
     "collapsed": false,
     "input": [
      "x = '1512'"
     ],
     "language": "python",
     "metadata": {},
     "outputs": [],
     "prompt_number": 110
    },
    {
     "cell_type": "code",
     "collapsed": false,
     "input": [
      "x[0:2]"
     ],
     "language": "python",
     "metadata": {},
     "outputs": [
      {
       "metadata": {},
       "output_type": "pyout",
       "prompt_number": 112,
       "text": [
        "'15'"
       ]
      }
     ],
     "prompt_number": 112
    },
    {
     "cell_type": "code",
     "collapsed": false,
     "input": [],
     "language": "python",
     "metadata": {},
     "outputs": []
    }
   ],
   "metadata": {}
  }
 ]
}