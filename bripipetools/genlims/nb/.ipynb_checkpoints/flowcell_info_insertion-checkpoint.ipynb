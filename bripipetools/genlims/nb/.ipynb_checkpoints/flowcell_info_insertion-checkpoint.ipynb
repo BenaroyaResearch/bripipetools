{
 "cells": [
  {
   "cell_type": "code",
   "execution_count": 1,
   "metadata": {
    "collapsed": false
   },
   "outputs": [],
   "source": [
    "import os, re, sys\n",
    "from pymongo import MongoClient\n",
    "from pprint import pprint\n",
    "import datetime\n",
    "import json"
   ]
  },
  {
   "cell_type": "code",
   "execution_count": 2,
   "metadata": {
    "collapsed": false
   },
   "outputs": [],
   "source": [
    "client = MongoClient()\n",
    "db = client.tg3"
   ]
  },
  {
   "cell_type": "code",
   "execution_count": 93,
   "metadata": {
    "collapsed": false
   },
   "outputs": [],
   "source": [
    "# wrapper function for regex matching\n",
    "def match_or_empty(string, pattern):\n",
    "    regex = re.compile(pattern)\n",
    "    match = regex.search(string)\n",
    "    if match is not None:\n",
    "        return match.group()\n",
    "    else:\n",
    "        return ''\n",
    "    \n",
    "# wrapper function for regex matching\n",
    "def matchdefault(pattern, string, default=''):\n",
    "    match = re.search(pattern, string)\n",
    "    if match is not None:\n",
    "        return match.group()\n",
    "    else:\n",
    "        return default\n",
    "\n",
    "### file/path/string parsing functions ###\n",
    "\n",
    "def get_lib_id(lib_str):\n",
    "    lib_id = match_or_empty(lib_str, 'lib[1-9]+[0-9]*')\n",
    "    \n",
    "    return lib_id\n",
    "\n",
    "def parse_fc_str(fc_str):\n",
    "    fc_parts = fc_str.split('_')\n",
    "\n",
    "    d = datetime.datetime.strptime(fc_parts[0], '%y%m%d')\n",
    "    \n",
    "    date = datetime.date.isoformat(d)\n",
    "    instrument_id = fc_parts[1]\n",
    "    run_id = int(fc_parts[2])\n",
    "    \n",
    "    fc_id = match_or_empty(fc_str, '(?<=(_(A|B|D)))([A-Z]|[0-9])*XX')\n",
    "\n",
    "    return date, instrument_id, run_id, fc_id\n",
    "    \n",
    "    \n",
    "def get_proj_id(proj_str):\n",
    "    proj = match_or_empty(proj_str, 'P+[0-9]+(-[0-9]+){,1}')\n",
    "    proj_id = int(match_or_empty(proj, '(?<=P)[0-9]+'))\n",
    "    subproj_id = int(match_or_empty(proj, '(?<=-)[0-9]+'))\n",
    "    \n",
    "    return proj_id, subproj_id\n",
    "\n",
    "def parse_lib_line(line):\n",
    "    l_parts = line.strip().split('\\t')\n",
    "    \n",
    "    lib_id = get_lib_id(l_parts[0])\n",
    "    \n",
    "    project_id, subproject_id = get_proj_id(l_parts[3])\n",
    "    fastq_dir = l_parts[-1]\n",
    "    \n",
    "    lib_packet = {'project_id': project_id,\n",
    "                  'subproject_id': subproject_id,\n",
    "                  'fastq_dir': fastq_dir}\n",
    "    \n",
    "    flowcell_str = l_parts[2]\n",
    "    fc_date, instr, run_num, flowcell_id = parse_fc_str(flowcell_str)\n",
    "    \n",
    "    flowcell_packet = {'date': fc_date,\n",
    "                       'instrument': instr,\n",
    "                       'run_number': run_num}\n",
    "    \n",
    "    return lib_id, lib_packet, flowcell_id, flowcell_packet\n",
    "\n",
    "### file parsing/annotating functions ###\n",
    "\n",
    "def get_file_type(file_path):\n",
    "    ext = os.path.splitext(file_path)\n",
    "    if 'z' in ext[-1]:\n",
    "        compression = ext[-1].lstrip('.')\n",
    "        ext = os.path.splitext(ext[0])[-1].lstrip('.')\n",
    "    return ext, compression\n",
    "\n",
    "def get_fastq_source(file_path):\n",
    "    lane_id = matchdefault('(?<=_)L00[1-8]', file_path)\n",
    "    read_id = matchdefault('(?<=_)R[1-2]', file_path)\n",
    "    return lane_id, read_id\n",
    "    \n",
    "def collect_fastq_info(file_path):\n",
    "    file_type,compression = get_file_type(file_path)\n",
    "    \n",
    "    if file_type == 'fastq':\n",
    "        lane_id, read_id = get_fastq_source(file_path)\n",
    "    \n",
    "    file_path = re.sub('.*(?=/genomics)', '', file_path)\n",
    "    \n",
    "    return {'path': file_path, 'lane_id': lane_id, 'read_id': read_id}\n",
    "\n",
    "\n",
    "# describe raw files for current lib\n",
    "def get_lib_fastqs(fastq_dir):\n",
    "    # check if logged into server or accessing mounted volume\n",
    "    if not os.path.isdir(fastq_dir):\n",
    "        fastq_dir = re.sub('mnt', 'Volumes', fastq_dir)\n",
    "        \n",
    "    return [collect_fastq_info(os.path.join(fastq_dir, f))\n",
    "            for f in os.listdir(fastq_dir)]\n",
    "\n",
    "# read and extract info from library list file\n",
    "def read_lib_list(lib_list_file):\n",
    "    lib_dict = {}\n",
    "    fc_dict = {}\n",
    "    with open(lib_list_file) as f:\n",
    "        for i, l in enumerate(f):\n",
    "            if i > 0:\n",
    "                lib_id, lib_packet, fc_id, fc_packet = parse_lib_line(l)\n",
    "                lib_packet['run_id'] = fc_id\n",
    "                        \n",
    "                lib_dict.setdefault(lib_id, []).append(lib_packet)\n",
    "\n",
    "                if fc_id not in fc_dict:\n",
    "                    fc_dict[fc_id] = fc_packet\n",
    "                    \n",
    "    return fc_dict, lib_dict"
   ]
  },
  {
   "cell_type": "code",
   "execution_count": 17,
   "metadata": {
    "collapsed": false
   },
   "outputs": [],
   "source": [
    "def to_camel_case(snake_str):\n",
    "    components = snake_str.split('_')\n",
    "    return components[0] + \"\".join(x.title() for x in components[1:])\n",
    "\n",
    "def convert_dict_keys(obj):\n",
    "    if isinstance(obj, list):\n",
    "        new_obj = [ convert_dict_keys(i) for i in obj ]\n",
    "    elif isinstance(obj, dict):\n",
    "        new_obj = { to_camel_case(k): convert_dict_keys(obj[k]) \\\n",
    "                    for k in obj }\n",
    "    else:\n",
    "        new_obj = obj\n",
    "    return new_obj\n",
    "\n",
    "def merge_two_dicts(x, y):\n",
    "    '''Given two dicts, merge them into a new dict as a shallow copy.'''\n",
    "    z = x.copy()\n",
    "    z.update(y)\n",
    "    return z\n",
    "\n",
    "def lib_dict_to_db(lib_dict):\n",
    "    lib_db = [ merge_two_dicts({'_id': i}, convert_dict_keys(lib_dict[i])) \\\n",
    "               for i in lib_dict ]\n",
    "    return lib_db\n",
    "\n",
    "def fc_dict_to_db(fc_dict):\n",
    "    fc_db = [ merge_two_dicts({'_id': i}, convert_dict_keys(fc_dict[i])) \\\n",
    "              for i in fc_dict ]\n",
    "    return fc_db"
   ]
  },
  {
   "cell_type": "code",
   "execution_count": 5,
   "metadata": {
    "collapsed": false
   },
   "outputs": [],
   "source": [
    "!grep 160122 ../data/lib_list_master.txt > ../data/lib_list_160122.txt"
   ]
  },
  {
   "cell_type": "code",
   "execution_count": 162,
   "metadata": {
    "collapsed": false
   },
   "outputs": [
    {
     "data": {
      "text/plain": [
       "{'_id': 'lib10320_C81LMANXX',\n",
       " 'parentId': 'lib10320',\n",
       " 'procedureId': None,\n",
       " 'rawData': [{'laneId': 'L003',\n",
       "   'path': '/genomics/Illumina/160122_D00565_0101_BC81LMANXX/Unaligned/P54-18-28092065/lib10320-32561562/1-930954-44-C03_S68_L003_R1_001.fastq.gz',\n",
       "   'readId': 'R1'}],\n",
       " 'runId': 'C81LMANXX',\n",
       " 'type': None}"
      ]
     },
     "execution_count": 162,
     "metadata": {},
     "output_type": "execute_result"
    }
   ],
   "source": [
    "def to_camel_case(snake_str):\n",
    "    if not re.search('^_', snake_str):\n",
    "        components = snake_str.split('_')\n",
    "        return components[0] + \"\".join(x.title() for x in components[1:])\n",
    "    else:\n",
    "        return snake_str\n",
    "\n",
    "def convert_keys(obj):\n",
    "    if isinstance(obj, list):\n",
    "        return [convert_keys(i) for i in obj]\n",
    "    elif isinstance(obj, dict):\n",
    "        return {to_camel_case(k): convert_keys(obj[k])\n",
    "                for k in obj}\n",
    "    else:\n",
    "        return obj\n",
    "\n",
    "class TG3Object(dict):\n",
    "    '''\n",
    "    Generic functions for objects in TG3 collections.\n",
    "    '''\n",
    "    \n",
    "    def __init__(self, _id=None, type=None):\n",
    "        \n",
    "        self._id = _id\n",
    "        self.type = type\n",
    "\n",
    "    def to_db(self):\n",
    "        return convert_keys(self.__dict__)\n",
    "        \n",
    "    \n",
    "class Sample(TG3Object):\n",
    "    '''\n",
    "    GenLIMS object in the 'samples' collection\n",
    "    '''\n",
    "    \n",
    "    def __init__(self, *args, **kwargs):\n",
    "        if 'procedure_id' in kwargs:\n",
    "            self.procedure_id = kwargs.pop('procedure_id')\n",
    "        else:\n",
    "            self.procedure_id = None\n",
    "        TG3Object.__init__(self, *args, **kwargs)\n",
    "        \n",
    "        \n",
    "class SequencedLibrarySample(Sample):\n",
    "    '''\n",
    "    GenLIMS object in 'samples' collection of type 'sequenced library'\n",
    "    '''\n",
    "    \n",
    "    def __init__(self, *args, **kwargs):\n",
    "        if 'parent_id' in kwargs:\n",
    "            self.parent_id = kwargs.pop('parent_id')\n",
    "        else:\n",
    "            self.parent_id = None\n",
    "        Sample.__init__(self, *args, **kwargs)\n",
    "    \n",
    "    def _init_from_library(self, lib_id, lib_packet):\n",
    "        self.parent_id = lib_id\n",
    "        self.run_id = lib_packet.get('run_id')\n",
    "        self._id = lib_id + '_' + lib_packet.get('run_id')\n",
    "        \n",
    "        self._get_raw_data(lib_packet)\n",
    "        \n",
    "    def _get_raw_data(self, lib_packet):\n",
    "        self.raw_data = get_lib_fastqs(lib_packet.get('fastq_dir'))\n",
    "    \n",
    "# def create_seq_lib_object(lib_dict_item):\n",
    "#     seq_lib_dict = {}\n",
    "#     for lib in lib_dict:\n",
    "#         for run in lib_dict[lib]:\n",
    "#             seq_lib_id = lib + '_' + run.get('run_id')\n",
    "#             print seq_lib_id\n",
    "o = SequencedLibrarySample()\n",
    "o._init_from_library(lib_id, lib_packet)\n",
    "o.to_db()"
   ]
  },
  {
   "cell_type": "code",
   "execution_count": 160,
   "metadata": {
    "collapsed": false
   },
   "outputs": [
    {
     "data": {
      "text/plain": [
       "{'fastq_dir': '/mnt/genomics/Illumina/160122_D00565_0101_BC81LMANXX/Unaligned/P54-18-28092065/lib10320-32561562',\n",
       " 'project_id': 54,\n",
       " 'run_id': 'C81LMANXX',\n",
       " 'subproject_id': 18}"
      ]
     },
     "execution_count": 160,
     "metadata": {},
     "output_type": "execute_result"
    }
   ],
   "source": [
    "lib_packet"
   ]
  },
  {
   "cell_type": "code",
   "execution_count": 14,
   "metadata": {
    "collapsed": false
   },
   "outputs": [],
   "source": [
    "lib_list_file = \"../data/lib_list_160122.txt\"\n",
    "with open(lib_list_file) as f:\n",
    "    ll = f.readlines()"
   ]
  },
  {
   "cell_type": "code",
   "execution_count": 63,
   "metadata": {
    "collapsed": false
   },
   "outputs": [
    {
     "data": {
      "text/plain": [
       "[{'lane_id': 'L001',\n",
       "  'path': '/genomics/Illumina/160122_D00565_0101_BC81LMANXX/Unaligned/P54-17-28096068/lib10397-32552614/927495-25_S5_L001_R1_001.fastq.gz',\n",
       "  'read_id': 'R1'},\n",
       " {'lane_id': 'L002',\n",
       "  'path': '/genomics/Illumina/160122_D00565_0101_BC81LMANXX/Unaligned/P54-17-28096068/lib10397-32552614/927495-25_S5_L002_R1_001.fastq.gz',\n",
       "  'read_id': 'R1'}]"
      ]
     },
     "execution_count": 63,
     "metadata": {},
     "output_type": "execute_result"
    }
   ],
   "source": [
    "lib_id, lib_packet, fc_id, fc_packet = parse_lib_line(ll[0])\n",
    "get_lib_fastqs(lib_packet.get('fastq_dir'))\n",
    "# fastq_dir = lib_packet.get('fastq_dir')\n",
    "# if not os.path.isdir(fastq_dir):\n",
    "#     fastq_dir = re.sub('mnt', 'Volumes', fastq_dir)\n",
    "# fq = [os.path.join(fastq_dir, f) for f in os.listdir(fastq_dir)][0]\n",
    "# get_fastq_source(fq)"
   ]
  },
  {
   "cell_type": "code",
   "execution_count": 99,
   "metadata": {
    "collapsed": false
   },
   "outputs": [],
   "source": [
    "fc_dict, lib_dict = read_lib_list(lib_list_file)"
   ]
  },
  {
   "cell_type": "code",
   "execution_count": 133,
   "metadata": {
    "collapsed": false
   },
   "outputs": [
    {
     "data": {
      "text/plain": [
       "{'fastq_dir': '/mnt/genomics/Illumina/160122_D00565_0101_BC81LMANXX/Unaligned/P54-18-28092065/lib10320-32561562',\n",
       " 'project_id': 54,\n",
       " 'run_id': 'C81LMANXX',\n",
       " 'subproject_id': 18}"
      ]
     },
     "execution_count": 133,
     "metadata": {},
     "output_type": "execute_result"
    }
   ],
   "source": [
    "lib_id = 'lib10320'\n",
    "lib_packet = lib_dict[lib_id][0]\n",
    "lib_packet"
   ]
  },
  {
   "cell_type": "code",
   "execution_count": 212,
   "metadata": {
    "collapsed": false
   },
   "outputs": [
    {
     "data": {
      "text/plain": [
       "[7]"
      ]
     },
     "execution_count": 212,
     "metadata": {},
     "output_type": "execute_result"
    }
   ],
   "source": [
    "[ f.get('lane_id') for f in raw_files ]"
   ]
  },
  {
   "cell_type": "code",
   "execution_count": 33,
   "metadata": {
    "collapsed": false
   },
   "outputs": [
    {
     "name": "stdout",
     "output_type": "stream",
     "text": [
      "{\n",
      "    \"_id\": \"lib10205\", \n",
      "    \"assays\": [\n",
      "        {\n",
      "            \"assayId\": \"C81A1ANXX\", \n",
      "            \"rawData\": [\n",
      "                {\n",
      "                    \"compression\": \"gz\", \n",
      "                    \"laneId\": 7, \n",
      "                    \"path\": \"/genomics/Illumina/151216_D00565_0100_AC81A1ANXX/Unaligned/P43-36-27317307/lib10205-31660697/PA342-17_S271_L007_R1_001.fastq.gz\", \n",
      "                    \"readId\": 1, \n",
      "                    \"type\": \"fastq\"\n",
      "                }\n",
      "            ]\n",
      "        }\n",
      "    ], \n",
      "    \"projectId\": 43, \n",
      "    \"subprojectId\": 36\n",
      "}\n"
     ]
    }
   ],
   "source": [
    "print json.dumps(lib_dict_to_db(lib_dict)[1], indent=4, sort_keys=True)"
   ]
  },
  {
   "cell_type": "code",
   "execution_count": 36,
   "metadata": {
    "collapsed": false
   },
   "outputs": [],
   "source": [
    "lib10000 = [lib for lib in lib_dict_to_db(lib_dict) if lib['_id'] == 'lib10000']"
   ]
  },
  {
   "cell_type": "code",
   "execution_count": 37,
   "metadata": {
    "collapsed": false
   },
   "outputs": [
    {
     "name": "stdout",
     "output_type": "stream",
     "text": [
      "[\n",
      "    {\n",
      "        \"_id\": \"lib10000\", \n",
      "        \"assays\": [\n",
      "            {\n",
      "                \"assayId\": \"C81A1ANXX\", \n",
      "                \"rawData\": [\n",
      "                    {\n",
      "                        \"compression\": \"gz\", \n",
      "                        \"laneId\": 1, \n",
      "                        \"path\": \"/genomics/Illumina/151216_D00565_0100_AC81A1ANXX/Unaligned/P43-29-27330309/lib10000-31653654/1D-HC29-C04_S27_L001_R1_001.fastq.gz\", \n",
      "                        \"readId\": 1, \n",
      "                        \"type\": \"fastq\"\n",
      "                    }\n",
      "                ]\n",
      "            }\n",
      "        ], \n",
      "        \"projectId\": 43, \n",
      "        \"subprojectId\": 29\n",
      "    }\n",
      "]\n"
     ]
    }
   ],
   "source": [
    "print json.dumps(lib10000, indent=4, sort_keys=True)"
   ]
  },
  {
   "cell_type": "code",
   "execution_count": 31,
   "metadata": {
    "collapsed": false
   },
   "outputs": [
    {
     "name": "stdout",
     "output_type": "stream",
     "text": [
      "{\n",
      "    \"_id\": \"C81A1ANXX\", \n",
      "    \"date\": \"2015-12-16\", \n",
      "    \"instrumentId\": \"D00565\", \n",
      "    \"lanes\": [\n",
      "        {\n",
      "            \"laneId\": 1, \n",
      "            \"libraries\": [\n",
      "                {\n",
      "                    \"libId\": \"lib9974\"\n",
      "                }, \n",
      "                {\n",
      "                    \"libId\": \"lib10000\"\n",
      "                }\n",
      "            ]\n",
      "        }, \n",
      "        {\n",
      "            \"laneId\": 2, \n",
      "            \"libraries\": [\n",
      "                {\n",
      "                    \"libId\": \"lib10032\"\n",
      "                }, \n",
      "                {\n",
      "                    \"libId\": \"lib10039\"\n",
      "                }\n",
      "            ]\n",
      "        }, \n",
      "        {\n",
      "            \"laneId\": 3, \n",
      "            \"libraries\": [\n",
      "                {\n",
      "                    \"libId\": \"lib10091\"\n",
      "                }, \n",
      "                {\n",
      "                    \"libId\": \"lib10086\"\n",
      "                }\n",
      "            ]\n",
      "        }, \n",
      "        {\n",
      "            \"laneId\": 4, \n",
      "            \"libraries\": [\n",
      "                {\n",
      "                    \"libId\": \"lib10121\"\n",
      "                }, \n",
      "                {\n",
      "                    \"libId\": \"lib10104\"\n",
      "                }\n",
      "            ]\n",
      "        }, \n",
      "        {\n",
      "            \"laneId\": 5, \n",
      "            \"libraries\": [\n",
      "                {\n",
      "                    \"libId\": \"lib10240\"\n",
      "                }, \n",
      "                {\n",
      "                    \"libId\": \"lib10226\"\n",
      "                }\n",
      "            ]\n",
      "        }, \n",
      "        {\n",
      "            \"laneId\": 6, \n",
      "            \"libraries\": [\n",
      "                {\n",
      "                    \"libId\": \"lib10129\"\n",
      "                }, \n",
      "                {\n",
      "                    \"libId\": \"lib10128\"\n",
      "                }\n",
      "            ]\n",
      "        }, \n",
      "        {\n",
      "            \"laneId\": 7, \n",
      "            \"libraries\": [\n",
      "                {\n",
      "                    \"libId\": \"lib10174\"\n",
      "                }, \n",
      "                {\n",
      "                    \"libId\": \"lib10171\"\n",
      "                }\n",
      "            ]\n",
      "        }, \n",
      "        {\n",
      "            \"laneId\": 8, \n",
      "            \"libraries\": []\n",
      "        }\n",
      "    ], \n",
      "    \"runId\": 100, \n",
      "    \"type\": \"flowcell\"\n",
      "}\n"
     ]
    }
   ],
   "source": [
    "print json.dumps(fc_dict_to_db(fc_dict)[0], indent=4, sort_keys=True)"
   ]
  },
  {
   "cell_type": "code",
   "execution_count": 201,
   "metadata": {
    "collapsed": false
   },
   "outputs": [
    {
     "data": {
      "text/plain": [
       "[{'lane_id': 1},\n",
       " {'lane_id': 2},\n",
       " {'lane_id': 3},\n",
       " {'lane_id': 4},\n",
       " {'lane_id': 5},\n",
       " {'lane_id': 6},\n",
       " {'lane_id': 7},\n",
       " {'lane_id': 8}]"
      ]
     },
     "execution_count": 201,
     "metadata": {},
     "output_type": "execute_result"
    }
   ],
   "source": [
    "[ {'lane_id': l} for l in range(1, 9) ]"
   ]
  },
  {
   "cell_type": "code",
   "execution_count": null,
   "metadata": {
    "collapsed": false
   },
   "outputs": [],
   "source": []
  }
 ],
 "metadata": {
  "kernelspec": {
   "display_name": "Python 2",
   "language": "python",
   "name": "python2"
  },
  "language_info": {
   "codemirror_mode": {
    "name": "ipython",
    "version": 2
   },
   "file_extension": ".py",
   "mimetype": "text/x-python",
   "name": "python",
   "nbconvert_exporter": "python",
   "pygments_lexer": "ipython2",
   "version": "2.7.11"
  }
 },
 "nbformat": 4,
 "nbformat_minor": 0
}
