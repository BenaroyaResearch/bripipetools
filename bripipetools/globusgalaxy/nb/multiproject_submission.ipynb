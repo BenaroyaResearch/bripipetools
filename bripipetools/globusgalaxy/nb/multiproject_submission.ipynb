{
 "cells": [
  {
   "cell_type": "code",
   "execution_count": 1,
   "metadata": {
    "collapsed": true
   },
   "outputs": [],
   "source": [
    "import sys, os, re, argparse, time"
   ]
  },
  {
   "cell_type": "code",
   "execution_count": 2,
   "metadata": {
    "collapsed": true
   },
   "outputs": [],
   "source": [
    "flowcell_dir = \"/Volumes/genomics/Illumina/150615_D00565_0087_AC6VG0ANXX/\""
   ]
  },
  {
   "cell_type": "code",
   "execution_count": 3,
   "metadata": {
    "collapsed": true
   },
   "outputs": [],
   "source": [
    "workflow_dir = \"/Volumes/genomics/galaxy_workflows/\""
   ]
  },
  {
   "cell_type": "code",
   "execution_count": 7,
   "metadata": {
    "collapsed": false
   },
   "outputs": [],
   "source": [
    "def build_submit_dict(flowcell_dir, workflow_dir):\n",
    "    \n",
    "    flowcell_projects = [os.path.join(flowcell_dir, 'Unaligned', p)\n",
    "                     for p in os.listdir(os.path.join(flowcell_dir, 'Unaligned'))\n",
    "                     if '.' not in p]\n",
    "    \n",
    "    workflow_choices = [os.path.join(workflow_dir, f)\n",
    "                    for f in os.listdir(workflow_dir) if 'Galaxy-API' not in f]\n",
    "    \n",
    "    ps_cont = True\n",
    "    submit_dict = {}\n",
    "    while ps_cont:\n",
    "        print \"\\nFound the following projects:\"\n",
    "        for i, p in enumerate(flowcell_projects):\n",
    "            print \"%3d : %s\" % (i, os.path.basename(p))\n",
    "\n",
    "        p_i = raw_input(\"\\nType the number of the project you wish to select or hit enter to finish: \")\n",
    "\n",
    "        if len(p_i):\n",
    "            selected_project = flowcell_projects[int(p_i)]\n",
    "\n",
    "            for j, w in enumerate(workflow_choices):\n",
    "                print \"%3d : %s\" % (j, os.path.basename(w))\n",
    "            w_j = raw_input(\"\\nSelect the number of the workflow to use for project %s: \" \n",
    "                            % os.path.basename(selected_project))\n",
    "            selected_workflow = workflow_choices[int(w_j)]\n",
    "\n",
    "            submit_dict.setdefault(selected_workflow, []).append(selected_project)\n",
    "        else:\n",
    "            ps_cont = False\n",
    "    \n",
    "    return submit_dict"
   ]
  },
  {
   "cell_type": "code",
   "execution_count": 46,
   "metadata": {
    "collapsed": true
   },
   "outputs": [],
   "source": [
    "# Parse flowcell folder from filepath part to get flowcell ID\n",
    "def get_fc_tag(fc_str):\n",
    "    fc_str = re.sub('EXTERNAL_[A-B]', 'EXTERNAL_', fc_str)\n",
    "    fc_re = re.compile('((?<=(EXTERNAL_))|(?<=(_[A-B]))).*XX')\n",
    "    fc_tag = '_' + fc_re.search(fc_str).group()\n",
    "\n",
    "    return fc_tag\n",
    "\n",
    "# Parse project folder from filepath part to get project ID\n",
    "def get_proj(proj_str):\n",
    "    proj_re = re.compile('P+[0-9]+(-[0-9]+){,1}')\n",
    "    proj = proj_re.search(proj_str).group()\n",
    "\n",
    "    return proj\n",
    "\n",
    "# Break unaligned filepath into relevant parts and parse to get flowcell and\n",
    "# project IDs\n",
    "def parse_unaligned_path(unaligned_dir):\n",
    "    path_parts = re.split('/Unaligned/', unaligned_dir)\n",
    "    fc_str = re.split('/', path_parts[0])[-1]\n",
    "\n",
    "    proj_str = path_parts[-1]\n",
    "\n",
    "    fc_tag = get_fc_tag(fc_str)\n",
    "    proj = get_proj(proj_str)\n",
    "\n",
    "    return (fc_tag, proj)\n",
    "\n",
    "def get_unique_keys(keys, idfun=None):\n",
    "    if idfun is None:\n",
    "        def idfun(x): return x\n",
    "    seen = {}\n",
    "    result = []\n",
    "    for item in keys:\n",
    "        marker = idfun(item)\n",
    "        if marker in seen: continue\n",
    "        seen[marker] = 1\n",
    "        result.append(item)\n",
    "    return result\n",
    "\n",
    "# Parse workflow template to get keys for parameters as well as all other\n",
    "# metadata/comment lines from the template file\n",
    "def parse_workflow_template(batch_workflow_template):\n",
    "    template_lines = file(batch_workflow_template).readlines()\n",
    "    header_line = [line for line in template_lines if 'SampleName' in line][0]\n",
    "    headers = header_line.rstrip('\\t').split('\\t')\n",
    "    header_keys = [header.split('##')[0] for header in headers]\n",
    "    param_names = [header.split('::')[-1] for header in headers]\n",
    "    lane_order = [re.search('[1-9]', p).group() \\\n",
    "                  for p in param_names if re.search('from_path[1-8]', p) ]\n",
    "\n",
    "    return get_unique_keys(header_keys), lane_order, template_lines\n",
    "\n",
    "# Replace root directory with /~/ for compatibility with Globus transfer\n",
    "def format_endpoint_dir(local_dir):\n",
    "    endpoint_dir = re.sub('.*(?=(/genomics))', '/~', local_dir)\n",
    "\n",
    "    return endpoint_dir\n",
    "\n",
    "# Specify appropriate reference/annotation files for corresponding parameters\n",
    "def build_ref_path(param, build = 'GRCh38'):\n",
    "    ref_dict = {}\n",
    "    ref_dict['GRCh38'] = dict([('gtf', 'Homo_sapiens.GRCh38.77.gtf'),\n",
    "                              ('refflat', 'Homo_sapiens.GRCh38.77.refflat.txt'),\n",
    "                              ('ribosomal_intervals',\n",
    "                               'Homo_sapiens.GRCh38.77.ribosomalIntervalsWheaderV2.txt'),\n",
    "                               ('adapters', 'smarter_adapter_seqs_3p_5p.fasta')])\n",
    "    ref_type = re.sub('^annotation_', '', param)\n",
    "    ref_path = 'library::annotation::' + ref_dict[build].get(ref_type)\n",
    "\n",
    "    return ref_path\n",
    "\n",
    "# Create label for processed output folder\n",
    "def prep_output_directory(unaligned_dir, proj):\n",
    "    path_parts = re.split('/Unaligned/', unaligned_dir)\n",
    "    fc_dir = path_parts[0]\n",
    "\n",
    "    date_tag = time.strftime(\"%y%m%d\", time.gmtime())\n",
    "\n",
    "    target_dir = '%s/Project_%sProcessed_%s' % (fc_dir, proj, date_tag)\n",
    "    fastq_dir = os.path.join(target_dir, 'inputFastqs')\n",
    "    if not os.path.isdir(fastq_dir):\n",
    "        os.makedirs(fastq_dir)\n",
    "\n",
    "    return (target_dir, date_tag)\n",
    "\n",
    "# Create output subdirectories for each Workflow result type\n",
    "def prep_output_subdir(target_dir, result_type):\n",
    "\n",
    "    result_subdir = os.path.join(target_dir, result_type)\n",
    "\n",
    "    if not os.path.isdir(result_subdir):\n",
    "        os.makedirs(result_subdir)\n",
    "\n",
    "    return result_subdir\n",
    "\n",
    "# Parse library folder from filepath to get library ID (libID)\n",
    "def parse_lib_path(lib_dir):\n",
    "    lib_id = re.search('lib[0-9]+', lib_dir).group()\n",
    "\n",
    "    return lib_id\n",
    "\n",
    "# Get the location of the gzipped FASTQ file for the current lib and lane\n",
    "def get_lane_fastq(lib_dir, lane):\n",
    "    lane_re = re.compile('L00' + lane)\n",
    "    lane_fastq = [os.path.join(lib_dir, fastq)\n",
    "                  for fastq in os.listdir(lib_dir)\n",
    "                  if lane_re.search(fastq)]\n",
    "    if len(lane_fastq):\n",
    "        lane_fastq = lane_fastq[0]\n",
    "    # create empty file if no FASTQ exists for current lane\n",
    "    else:\n",
    "        empty_fastq = 'empty_L00' + lane + '.fastq.gz'\n",
    "        lane_fastq = os.path.join(lib_dir, empty_fastq)\n",
    "\n",
    "        if not os.path.exists(lane_fastq):\n",
    "            open(lane_fastq, 'a').close()\n",
    "\n",
    "    return format_endpoint_dir(lane_fastq)\n",
    "\n",
    "# Create output file path corresponding to the current parameter / result type\n",
    "def build_result_path(lib, target_dir, param):\n",
    "    result_types = ['trimmed', 'counts', 'alignments', 'metrics',\n",
    "                   'QC', 'Trinity', 'log']\n",
    "    result_type = [r_type for r_type in result_types\n",
    "                   if r_type.lower() in param][0]\n",
    "\n",
    "    result_subdir = prep_output_subdir(target_dir, result_type)\n",
    "\n",
    "    out_file = re.sub('_out$', '', param)\n",
    "    out_file = re.sub('_(?=([a-z]+$))', '.', out_file)\n",
    "    out_file = lib + '_' + out_file\n",
    "\n",
    "    result_path = os.path.join(format_endpoint_dir(result_subdir), out_file)\n",
    "\n",
    "    return result_path\n",
    "\n",
    "# Fill in parameter values for current lib based on the keys from the template\n",
    "def build_lib_param_list(lib, endpoint, target_dir, header_keys, lane_order, fc_tag):\n",
    "    lib_params = []\n",
    "    lib_id = parse_lib_path(lib)\n",
    "    target_lib = lib_id + fc_tag\n",
    "\n",
    "    for param in header_keys:\n",
    "        if 'SampleName' in param:\n",
    "            lib_params.append(target_lib)\n",
    "        elif 'fastq_in' in param:\n",
    "            lib_params.append(endpoint)\n",
    "            for lane in lane_order:\n",
    "                lib_params.append(get_lane_fastq(lib, lane))\n",
    "        elif 'annotation' in param:\n",
    "            ref_path = build_ref_path(param)\n",
    "            lib_params.append(ref_path)\n",
    "        elif 'out' in param:\n",
    "            if re.search('^fastq_out', param):\n",
    "                final_fastq = '%s_R1-final.fastq.gz' % target_lib\n",
    "                result_path = os.path.join(format_endpoint_dir(target_dir),\n",
    "                                          'inputFastqs', final_fastq)\n",
    "            else:\n",
    "                result_path = build_result_path(target_lib, target_dir, param)\n",
    "            lib_params.append(endpoint)\n",
    "            lib_params.append(result_path)\n",
    "\n",
    "    return lib_params\n",
    "\n",
    "\n",
    "def get_project_params(endpoint, header_keys, lane_order, unaligned_dir, \n",
    "                       project_lines=None):\n",
    "    if project_lines is None:\n",
    "        project_lines = []\n",
    "\n",
    "    fc_tag,proj = parse_unaligned_path(unaligned_dir)\n",
    "    \n",
    "    unaligned_libs = [os.path.join(unaligned_dir, entry)\n",
    "                      for entry in os.listdir(unaligned_dir)\n",
    "                      if os.path.isdir(os.path.join(unaligned_dir, entry))]\n",
    "\n",
    "    # temp kluge to select just one lib\n",
    "#     unaligned_libs = [ lib for lib in unaligned_libs if re.search('lib6(830|922)', lib) ] # for P43-12\n",
    "    unaligned_libs = [ lib for lib in unaligned_libs if re.search('lib6(830|822)', lib) ] # for P43-12/13\n",
    "    # unalignedLibs = [ lib for lib in unalignedLibs if re.search('lib66(05|20)', lib) ] # for P109-1\n",
    "    print len(unaligned_libs)\n",
    "\n",
    "    target_dir,date_tag = prep_output_directory(unaligned_dir, proj)\n",
    "\n",
    "    for lib in unaligned_libs:\n",
    "        if \"Undetermined\" not in lib:\n",
    "            lib_params = build_lib_param_list(lib, endpoint, target_dir,\n",
    "                                              header_keys, lane_order, fc_tag)\n",
    "            project_lines.append(('\\t').join(lib_params) + '\\n')\n",
    "            \n",
    "    return (proj, fc_tag, project_lines, date_tag)\n",
    "    \n",
    "\n",
    "# Parse template and fill in appropriate parameter values for all project libs\n",
    "def create_workflow_file(endpoint, workflow_template, project_list):\n",
    "    header_keys,lane_order,template_lines = parse_workflow_template(workflow_template)\n",
    "    workflow_lines = template_lines\n",
    "    \n",
    "    proj_list = []\n",
    "    for unaligned_project in project_list:\n",
    "        proj,fc_tag,proj_lines,date_tag = get_project_params(endpoint, header_keys, \n",
    "                                                             lane_order, unaligned_project)\n",
    "        proj_list.append(proj)\n",
    "        workflow_lines += proj_lines\n",
    "        \n",
    "    \n",
    "    submit_tag = '%s_%s%s' % (date_tag, ('_').join(proj_list), fc_tag) \n",
    "    proj_line_num = [idx for idx,line in enumerate(template_lines)\n",
    "                    if 'Project Name' in line][0]\n",
    "    workflow_lines[proj_line_num] = re.sub('<Your_project_name>', submit_tag,\n",
    "                                           template_lines[proj_line_num])\n",
    "    workflow_lines[-1] = re.sub('\\t$', '\\n', workflow_lines[-1])\n",
    "\n",
    "    return (workflow_lines, submit_tag)\n",
    "\n",
    "# Write completed batch workflow to file and return formatted path\n",
    "def write_batch_workflow(workflow_lines, flowcell_dir, workflow_template, submit_tag):\n",
    "    \n",
    "    target_dir = os.path.join(flowcell_dir, 'globus_batch_submission')\n",
    "    if not os.path.isdir(target_dir):\n",
    "        os.makedirs(target_dir)\n",
    "    \n",
    "    template_file = os.path.basename(workflow_template)\n",
    "    workflow_file = submit_tag + '_' + template_file\n",
    "    workflow_path = os.path.join(target_dir, workflow_file)\n",
    "\n",
    "    w_file = open(workflow_path, 'w')\n",
    "    w_file.writelines(workflow_lines)\n",
    "    w_file.close()\n",
    "\n",
    "    print \"Batch file path: \\n%s\" % format_endpoint_dir(workflow_path)"
   ]
  },
  {
   "cell_type": "code",
   "execution_count": 35,
   "metadata": {
    "collapsed": false
   },
   "outputs": [
    {
     "name": "stdout",
     "output_type": "stream",
     "text": [
      "\n",
      "Found the following projects:\n",
      "  0 : P109-1-21113094\n",
      "  1 : P91-10-23227209\n",
      "  2 : P14-12-23221204\n",
      "  3 : P69-6-23217200_L004\n",
      "  4 : P81-8-23231210\n",
      "  5 : P43-12-23224208\n",
      "  6 : P43-13-23232210\n",
      "  7 : P69-6-23217200\n",
      "\n",
      "Type the number of the project you wish to select or hit enter to finish: 5\n",
      "  0 : nextera_sr_grch38_v0.1_complete_plus_trinity.txt\n",
      "  1 : truseq_unstrand_sr_grch38_v0.1_complete.txt\n",
      "\n",
      "Select the number of the workflow to use for project P43-12-23224208: 0\n",
      "\n",
      "Found the following projects:\n",
      "  0 : P109-1-21113094\n",
      "  1 : P91-10-23227209\n",
      "  2 : P14-12-23221204\n",
      "  3 : P69-6-23217200_L004\n",
      "  4 : P81-8-23231210\n",
      "  5 : P43-12-23224208\n",
      "  6 : P43-13-23232210\n",
      "  7 : P69-6-23217200\n",
      "\n",
      "Type the number of the project you wish to select or hit enter to finish: 6\n",
      "  0 : nextera_sr_grch38_v0.1_complete_plus_trinity.txt\n",
      "  1 : truseq_unstrand_sr_grch38_v0.1_complete.txt\n",
      "\n",
      "Select the number of the workflow to use for project P43-13-23232210: 0\n",
      "\n",
      "Found the following projects:\n",
      "  0 : P109-1-21113094\n",
      "  1 : P91-10-23227209\n",
      "  2 : P14-12-23221204\n",
      "  3 : P69-6-23217200_L004\n",
      "  4 : P81-8-23231210\n",
      "  5 : P43-12-23224208\n",
      "  6 : P43-13-23232210\n",
      "  7 : P69-6-23217200\n",
      "\n",
      "Type the number of the project you wish to select or hit enter to finish: \n"
     ]
    }
   ],
   "source": [
    "submit_dict = build_submit_dict(flowcell_dir, workflow_dir)"
   ]
  },
  {
   "cell_type": "code",
   "execution_count": 47,
   "metadata": {
    "collapsed": false
   },
   "outputs": [
    {
     "name": "stdout",
     "output_type": "stream",
     "text": [
      "1\n",
      "1\n",
      "Batch file path: \n",
      "/~/genomics/Illumina/150615_D00565_0087_AC6VG0ANXX/globus_batch_submission/160203_P43-12_P43-13_C6VG0ANXX_nextera_sr_grch38_v0.1_complete_plus_trinity.txt\n"
     ]
    }
   ],
   "source": [
    "for w in submit_dict:\n",
    "    workflow_lines,submit_tag = create_workflow_file('jeddy#srvgridftp01', \n",
    "                                                                w, submit_dict[w])\n",
    "    write_batch_workflow(workflow_lines, flowcell_dir, w, submit_tag)"
   ]
  },
  {
   "cell_type": "code",
   "execution_count": 36,
   "metadata": {
    "collapsed": false
   },
   "outputs": [],
   "source": [
    "unaligned_dir = os.path.join(flowcell_dir, 'Unaligned', 'P43-12-23224208')"
   ]
  },
  {
   "cell_type": "code",
   "execution_count": 37,
   "metadata": {
    "collapsed": true
   },
   "outputs": [],
   "source": [
    "unaligned_libs = [os.path.join(unaligned_dir, entry)\n",
    "                      for entry in os.listdir(unaligned_dir)\n",
    "                      if os.path.isdir(os.path.join(unaligned_dir, entry))]"
   ]
  },
  {
   "cell_type": "code",
   "execution_count": 16,
   "metadata": {
    "collapsed": false
   },
   "outputs": [
    {
     "data": {
      "text/plain": [
       "0"
      ]
     },
     "execution_count": 16,
     "metadata": {},
     "output_type": "execute_result"
    }
   ],
   "source": [
    "sum(os.path.getsize(f) for f in os.listdir(unaligned_libs[0]) if os.path.isfile(f))"
   ]
  },
  {
   "cell_type": "code",
   "execution_count": 25,
   "metadata": {
    "collapsed": false
   },
   "outputs": [
    {
     "data": {
      "text/plain": [
       "[16971474420]"
      ]
     },
     "execution_count": 25,
     "metadata": {},
     "output_type": "execute_result"
    }
   ],
   "source": [
    "[sum(os.path.getsize(os.path.join(p, f)) \n",
    " for p in unaligned_libs\n",
    " for f in os.listdir(p))]"
   ]
  },
  {
   "cell_type": "code",
   "execution_count": 38,
   "metadata": {
    "collapsed": false
   },
   "outputs": [
    {
     "data": {
      "text/plain": [
       "[('/Volumes/genomics/Illumina/150615_D00565_0087_AC6VG0ANXX/Unaligned/P43-12-23224208/lib6831-25921999',\n",
       "  144860713),\n",
       " ('/Volumes/genomics/Illumina/150615_D00565_0087_AC6VG0ANXX/Unaligned/P43-12-23224208/lib6837-25924003',\n",
       "  113622483),\n",
       " ('/Volumes/genomics/Illumina/150615_D00565_0087_AC6VG0ANXX/Unaligned/P43-12-23224208/lib6838-25918014',\n",
       "  95481507),\n",
       " ('/Volumes/genomics/Illumina/150615_D00565_0087_AC6VG0ANXX/Unaligned/P43-12-23224208/lib6825-25939928',\n",
       "  129205372),\n",
       " ('/Volumes/genomics/Illumina/150615_D00565_0087_AC6VG0ANXX/Unaligned/P43-12-23224208/lib6834-25924002',\n",
       "  97674312),\n",
       " ('/Volumes/genomics/Illumina/150615_D00565_0087_AC6VG0ANXX/Unaligned/P43-12-23224208/lib6841-25922000',\n",
       "  105138033),\n",
       " ('/Volumes/genomics/Illumina/150615_D00565_0087_AC6VG0ANXX/Unaligned/P43-12-23224208/lib6829-25942932',\n",
       "  166809249),\n",
       " ('/Volumes/genomics/Illumina/150615_D00565_0087_AC6VG0ANXX/Unaligned/P43-12-23224208/lib6923-25938933',\n",
       "  101060774),\n",
       " ('/Volumes/genomics/Illumina/150615_D00565_0087_AC6VG0ANXX/Unaligned/P43-12-23224208/lib6922-25939930',\n",
       "  99729366),\n",
       " ('/Volumes/genomics/Illumina/150615_D00565_0087_AC6VG0ANXX/Unaligned/P43-12-23224208/lib6840-25940936',\n",
       "  103314866),\n",
       " ('/Volumes/genomics/Illumina/150615_D00565_0087_AC6VG0ANXX/Unaligned/P43-12-23224208/lib6826-25920019',\n",
       "  125376921),\n",
       " ('/Volumes/genomics/Illumina/150615_D00565_0087_AC6VG0ANXX/Unaligned/P43-12-23224208/lib6828-25926002',\n",
       "  129041427),\n",
       " ('/Volumes/genomics/Illumina/150615_D00565_0087_AC6VG0ANXX/Unaligned/P43-12-23224208/lib6842-25934984',\n",
       "  104524914),\n",
       " ('/Volumes/genomics/Illumina/150615_D00565_0087_AC6VG0ANXX/Unaligned/P43-12-23224208/lib6835-25926003',\n",
       "  112046298),\n",
       " ('/Volumes/genomics/Illumina/150615_D00565_0087_AC6VG0ANXX/Unaligned/P43-12-23224208/lib6832-25918013',\n",
       "  149190274),\n",
       " ('/Volumes/genomics/Illumina/150615_D00565_0087_AC6VG0ANXX/Unaligned/P43-12-23224208/lib6924-25918015',\n",
       "  131338314),\n",
       " ('/Volumes/genomics/Illumina/150615_D00565_0087_AC6VG0ANXX/Unaligned/P43-12-23224208/lib6830-25920020',\n",
       "  6538349),\n",
       " ('/Volumes/genomics/Illumina/150615_D00565_0087_AC6VG0ANXX/Unaligned/P43-12-23224208/lib6827-25921998',\n",
       "  123280564),\n",
       " ('/Volumes/genomics/Illumina/150615_D00565_0087_AC6VG0ANXX/Unaligned/P43-12-23224208/lib6836-25935978',\n",
       "  108853437),\n",
       " ('/Volumes/genomics/Illumina/150615_D00565_0087_AC6VG0ANXX/Unaligned/P43-12-23224208/lib6925-25934985',\n",
       "  155820972),\n",
       " ('/Volumes/genomics/Illumina/150615_D00565_0087_AC6VG0ANXX/Unaligned/P43-12-23224208/lib6839-25942933',\n",
       "  6045231),\n",
       " ('/Volumes/genomics/Illumina/150615_D00565_0087_AC6VG0ANXX/Unaligned/P43-12-23224208/lib6833-25939929',\n",
       "  159674882)]"
      ]
     },
     "execution_count": 38,
     "metadata": {},
     "output_type": "execute_result"
    }
   ],
   "source": [
    "map(lambda x: (x, sum(os.path.getsize(os.path.join(x, f))\n",
    "                             for f in os.listdir(x))), unaligned_libs)"
   ]
  },
  {
   "cell_type": "code",
   "execution_count": 39,
   "metadata": {
    "collapsed": false
   },
   "outputs": [
    {
     "data": {
      "text/plain": [
       "['/Volumes/genomics/Illumina/150615_D00565_0087_AC6VG0ANXX/Unaligned/P43-12-23224208/lib6839-25942933',\n",
       " '/Volumes/genomics/Illumina/150615_D00565_0087_AC6VG0ANXX/Unaligned/P43-12-23224208/lib6830-25920020',\n",
       " '/Volumes/genomics/Illumina/150615_D00565_0087_AC6VG0ANXX/Unaligned/P43-12-23224208/lib6838-25918014',\n",
       " '/Volumes/genomics/Illumina/150615_D00565_0087_AC6VG0ANXX/Unaligned/P43-12-23224208/lib6834-25924002',\n",
       " '/Volumes/genomics/Illumina/150615_D00565_0087_AC6VG0ANXX/Unaligned/P43-12-23224208/lib6922-25939930',\n",
       " '/Volumes/genomics/Illumina/150615_D00565_0087_AC6VG0ANXX/Unaligned/P43-12-23224208/lib6923-25938933',\n",
       " '/Volumes/genomics/Illumina/150615_D00565_0087_AC6VG0ANXX/Unaligned/P43-12-23224208/lib6840-25940936',\n",
       " '/Volumes/genomics/Illumina/150615_D00565_0087_AC6VG0ANXX/Unaligned/P43-12-23224208/lib6842-25934984',\n",
       " '/Volumes/genomics/Illumina/150615_D00565_0087_AC6VG0ANXX/Unaligned/P43-12-23224208/lib6841-25922000',\n",
       " '/Volumes/genomics/Illumina/150615_D00565_0087_AC6VG0ANXX/Unaligned/P43-12-23224208/lib6836-25935978',\n",
       " '/Volumes/genomics/Illumina/150615_D00565_0087_AC6VG0ANXX/Unaligned/P43-12-23224208/lib6835-25926003',\n",
       " '/Volumes/genomics/Illumina/150615_D00565_0087_AC6VG0ANXX/Unaligned/P43-12-23224208/lib6837-25924003',\n",
       " '/Volumes/genomics/Illumina/150615_D00565_0087_AC6VG0ANXX/Unaligned/P43-12-23224208/lib6827-25921998',\n",
       " '/Volumes/genomics/Illumina/150615_D00565_0087_AC6VG0ANXX/Unaligned/P43-12-23224208/lib6826-25920019',\n",
       " '/Volumes/genomics/Illumina/150615_D00565_0087_AC6VG0ANXX/Unaligned/P43-12-23224208/lib6828-25926002',\n",
       " '/Volumes/genomics/Illumina/150615_D00565_0087_AC6VG0ANXX/Unaligned/P43-12-23224208/lib6825-25939928',\n",
       " '/Volumes/genomics/Illumina/150615_D00565_0087_AC6VG0ANXX/Unaligned/P43-12-23224208/lib6924-25918015',\n",
       " '/Volumes/genomics/Illumina/150615_D00565_0087_AC6VG0ANXX/Unaligned/P43-12-23224208/lib6831-25921999',\n",
       " '/Volumes/genomics/Illumina/150615_D00565_0087_AC6VG0ANXX/Unaligned/P43-12-23224208/lib6832-25918013',\n",
       " '/Volumes/genomics/Illumina/150615_D00565_0087_AC6VG0ANXX/Unaligned/P43-12-23224208/lib6925-25934985',\n",
       " '/Volumes/genomics/Illumina/150615_D00565_0087_AC6VG0ANXX/Unaligned/P43-12-23224208/lib6833-25939929',\n",
       " '/Volumes/genomics/Illumina/150615_D00565_0087_AC6VG0ANXX/Unaligned/P43-12-23224208/lib6829-25942932']"
      ]
     },
     "execution_count": 39,
     "metadata": {},
     "output_type": "execute_result"
    }
   ],
   "source": [
    "sorted(unaligned_libs, key=lambda x: sum(os.path.getsize(os.path.join(x, f))\n",
    "                                         for f in os.listdir(x)))"
   ]
  },
  {
   "cell_type": "code",
   "execution_count": null,
   "metadata": {
    "collapsed": true
   },
   "outputs": [],
   "source": []
  }
 ],
 "metadata": {
  "kernelspec": {
   "display_name": "Python 2",
   "language": "python",
   "name": "python2"
  },
  "language_info": {
   "codemirror_mode": {
    "name": "ipython",
    "version": 2
   },
   "file_extension": ".py",
   "mimetype": "text/x-python",
   "name": "python",
   "nbconvert_exporter": "python",
   "pygments_lexer": "ipython2",
   "version": "2.7.11"
  }
 },
 "nbformat": 4,
 "nbformat_minor": 0
}
