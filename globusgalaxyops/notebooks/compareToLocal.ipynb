{
 "metadata": {
  "name": "",
  "signature": "sha256:0fa0e3fbc01051793b6615b2d261b332f429d2a003eb625018473127bf52d338"
 },
 "nbformat": 3,
 "nbformat_minor": 0,
 "worksheets": [
  {
   "cells": [
    {
     "cell_type": "code",
     "collapsed": false,
     "input": [
      "import os, sys, re, zipfile\n",
      "from pprint import pprint\n",
      "import nltk\n",
      "from bs4 import BeautifulSoup\n",
      "from lxml import etree"
     ],
     "language": "python",
     "metadata": {},
     "outputs": [],
     "prompt_number": 45
    },
    {
     "cell_type": "code",
     "collapsed": false,
     "input": [
      "class MetricsCollector(object):\n",
      "    \n",
      "    def __init__(self, metrics_dir):\n",
      "        \n",
      "        self.dir = metrics_dir\n",
      "    \n",
      "    def get_metrics_list(self):\n",
      "        \n",
      "        return os.listdir(self.dir)\n"
     ],
     "language": "python",
     "metadata": {},
     "outputs": [],
     "prompt_number": 7
    },
    {
     "cell_type": "code",
     "collapsed": false,
     "input": [
      "globus_dir = \"/Volumes/genomics/Illumina/150615_D00565_0087_AC6VG0ANXX/gProject_P43-12Processed_151013_formatted/\"\n",
      "local_dir = \"/Volumes/genomics/Illumina/GLOBUS_TESTING/Project_P43-12Processed_151021/\""
     ],
     "language": "python",
     "metadata": {},
     "outputs": [],
     "prompt_number": 3
    },
    {
     "cell_type": "code",
     "collapsed": false,
     "input": [
      "metrics_dir = os.path.join(os.path.abspath(local_dir), 'metrics')"
     ],
     "language": "python",
     "metadata": {},
     "outputs": [],
     "prompt_number": 4
    },
    {
     "cell_type": "code",
     "collapsed": false,
     "input": [
      "mc = MetricsCollector(metrics_dir)"
     ],
     "language": "python",
     "metadata": {},
     "outputs": [],
     "prompt_number": 8
    },
    {
     "cell_type": "code",
     "collapsed": false,
     "input": [
      "metrics_file = os.path.join(metrics_dir, mc.get_metrics_list()[5])\n",
      "metrics_file"
     ],
     "language": "python",
     "metadata": {},
     "outputs": [
      {
       "metadata": {},
       "output_type": "pyout",
       "prompt_number": 149,
       "text": [
        "'/Volumes/genomics/Illumina/GLOBUS_TESTING/Project_P43-12Processed_151021/metrics/lib6835_C6VG0ANXX_al.zip'"
       ]
      }
     ],
     "prompt_number": 149
    },
    {
     "cell_type": "code",
     "collapsed": false,
     "input": [
      "def parse_picard_table(html_doc):\n",
      "    soup = BeautifulSoup(html_doc, 'html.parser')\n",
      "    table = soup.findAll('table', attrs={'cellpadding': '3'})\n",
      "    \n",
      "    metric_dict = {}\n",
      "    for tr in table[0].findAll('tr'):\n",
      "        for td in tr.findAll('td'):\n",
      "            if re.search('^([A-Z]+(\\_)*)+$', td.text):\n",
      "                td_key = td.text.replace('\\n', '')\n",
      "                td_val = td.next_sibling.string.replace(u'\\xa0', u'')\n",
      "                td_val = td_val.replace('\\n', '')\n",
      "                if not re.search('[a-z]', td_val.lower()) and len(td_val):\n",
      "                    td_val = float(td_val)\n",
      "                metric_dict[td_key] = td_val\n",
      "    return metric_dict"
     ],
     "language": "python",
     "metadata": {},
     "outputs": [],
     "prompt_number": 143
    },
    {
     "cell_type": "code",
     "collapsed": false,
     "input": [
      "zfile = zipfile.ZipFile(metrics_file)"
     ],
     "language": "python",
     "metadata": {},
     "outputs": [],
     "prompt_number": 150
    },
    {
     "cell_type": "code",
     "collapsed": false,
     "input": [
      "metric_html = [f for f in zfile.namelist() if 'html' in f][0]\n",
      "metric_html"
     ],
     "language": "python",
     "metadata": {},
     "outputs": [
      {
       "metadata": {},
       "output_type": "pyout",
       "prompt_number": 151,
       "text": [
        "'RNA_Seq_Metrics_html.html'"
       ]
      }
     ],
     "prompt_number": 151
    },
    {
     "cell_type": "code",
     "collapsed": false,
     "input": [
      "with zfile.open(metric_html) as f:\n",
      "    html_doc = f.read()\n",
      "    metric_dict = parse_picard_table(html_doc)\n",
      "pprint(metric_dict)"
     ],
     "language": "python",
     "metadata": {},
     "outputs": [
      {
       "output_type": "stream",
       "stream": "stdout",
       "text": [
        "{}\n"
       ]
      }
     ],
     "prompt_number": 152
    },
    {
     "cell_type": "code",
     "collapsed": false,
     "input": [
      "soup = BeautifulSoup(html_doc, 'html.parser')\n",
      "table = soup.findAll('table', attrs={'cellpadding': '3'})"
     ],
     "language": "python",
     "metadata": {},
     "outputs": [],
     "prompt_number": 154
    },
    {
     "cell_type": "code",
     "collapsed": false,
     "input": [
      "zfile.namelist()"
     ],
     "language": "python",
     "metadata": {},
     "outputs": [
      {
       "metadata": {},
       "output_type": "pyout",
       "prompt_number": 156,
       "text": [
        "['RNA_Seq_Metrics_html.html',\n",
        " 'CollectRnaSeqMetrics.log',\n",
        " 'CollectRnaSeqMetrics.metrics.txt']"
       ]
      }
     ],
     "prompt_number": 156
    },
    {
     "cell_type": "code",
     "collapsed": false,
     "input": [],
     "language": "python",
     "metadata": {},
     "outputs": []
    }
   ],
   "metadata": {}
  }
 ]
}