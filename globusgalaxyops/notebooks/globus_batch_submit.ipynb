{
 "metadata": {
  "name": "",
  "signature": "sha256:e29169e24ed6d33b1cbde1662be9d1707b2e779e0b201e1787ba743bee5f4565"
 },
 "nbformat": 3,
 "nbformat_minor": 0,
 "worksheets": [
  {
   "cells": [
    {
     "cell_type": "code",
     "collapsed": false,
     "input": [
      "import os, sys, re\n",
      "from Tkinter import Tk\n",
      "from tkFileDialog import askdirectory\n",
      "from IPython.html import widgets\n",
      "from IPython.display import display"
     ],
     "language": "python",
     "metadata": {},
     "outputs": [],
     "prompt_number": 15
    },
    {
     "cell_type": "code",
     "collapsed": false,
     "input": [
      "\n",
      "\n",
      "options = {\n",
      "    'first value' : 0,\n",
      "    'second value': 1,\n",
      "    'third value': 2,\n",
      "}\n",
      "\n",
      "s = widgets.SelectWidget()\n",
      "s.values = options\n",
      "display(s)\n",
      "\n",
      "d = widgets.DropdownWidget()\n",
      "d.values = options\n",
      "display(d)"
     ],
     "language": "python",
     "metadata": {},
     "outputs": [],
     "prompt_number": 2
    },
    {
     "cell_type": "code",
     "collapsed": false,
     "input": [
      "\n",
      "\n",
      "os.system('''/usr/bin/osascript -e 'tell app \"Finder\" to set frontmost of process \"python\" to true' ''')\n",
      "\n",
      "# Make a top-level instance and hide since it is ugly and big.\n",
      "root = Tk()\n",
      "root.withdraw()\n",
      "\n",
      "# Make it almost invisible - no decorations, 0 size, top left corner.\n",
      "root.overrideredirect(True)\n",
      "root.geometry('0x0+0+0')\n",
      "\n",
      "# Show window again and lift it to top so it can get focus,\n",
      "# otherwise dialogs will end up behind the terminal.\n",
      "root.deiconify()\n",
      "root.focus_force()\n",
      "\n",
      "\n",
      "# Tk().withdraw() # we don't want a full GUI, so keep the root window from appearing\n",
      "fc_dir = askdirectory(parent=root, initialdir=\"/Volumes/genomics/Illumina/\") # show an \"Open\" dialog box and return the path to the selected file\n",
      "\n",
      "# Get rid of the top-level instance once to make it actually invisible.\n",
      "root.destroy()\n",
      "\n",
      "unaligned_projects = { d: os.path.join(fc_dir, 'Unaligned', d) \\\n",
      "                       for d in os.listdir(os.path.join(fc_dir, 'Unaligned')) }\n",
      "s = widgets.SelectWidget()\n",
      "s.values = unaligned_projects\n",
      "display(s)"
     ],
     "language": "python",
     "metadata": {},
     "outputs": [],
     "prompt_number": 17
    },
    {
     "cell_type": "code",
     "collapsed": false,
     "input": [
      "proj = display(s)"
     ],
     "language": "python",
     "metadata": {},
     "outputs": [],
     "prompt_number": 18
    },
    {
     "cell_type": "code",
     "collapsed": false,
     "input": [
      "proj"
     ],
     "language": "python",
     "metadata": {},
     "outputs": [],
     "prompt_number": 19
    },
    {
     "cell_type": "code",
     "collapsed": false,
     "input": [],
     "language": "python",
     "metadata": {},
     "outputs": []
    }
   ],
   "metadata": {}
  }
 ]
}