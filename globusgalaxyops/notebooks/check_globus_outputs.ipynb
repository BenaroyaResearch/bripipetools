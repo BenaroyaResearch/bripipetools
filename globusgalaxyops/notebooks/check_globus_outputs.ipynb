{
 "metadata": {
  "name": "",
  "signature": "sha256:f4205cfeee21ad3ba12158613fa00e9d7fa52be902b4206e202270b4c83f4235"
 },
 "nbformat": 3,
 "nbformat_minor": 0,
 "worksheets": [
  {
   "cells": [
    {
     "cell_type": "code",
     "collapsed": false,
     "input": [
      "import os, sys, re"
     ],
     "language": "python",
     "metadata": {},
     "outputs": [],
     "prompt_number": 1
    },
    {
     "cell_type": "code",
     "collapsed": false,
     "input": [
      "class WorkflowParser(object):\n",
      "    \n",
      "    def __init__(self, batch_file=None):\n",
      "        \n",
      "        self.bf = batch_file\n",
      "        self.read_batch_file()\n",
      "        \n",
      "    def read_batch_file(self):\n",
      "        \n",
      "        batch_file = self.bf\n",
      "        with open(batch_file) as f:\n",
      "            batch_lines = f.readlines()\n",
      "            \n",
      "        self.batch = batch_lines\n",
      "    \n",
      "    def get_params(self):\n",
      "        \n",
      "        param_line = [ l for l in self.batch if 'SampleName' in l ][0]\n",
      "        param_dict = { idx: re.sub('##.*', '', p) \\\n",
      "                       for idx,p in enumerate(param_line.strip().split('\\t')) }\n",
      "        \n",
      "        self.pd = param_dict\n",
      "        \n",
      "    def get_lib_params(self):\n",
      "        \n",
      "        if not hasattr(self, 'pd'):\n",
      "            self.get_params()\n",
      "        \n",
      "        param_dict = self.pd\n",
      "        lib_param_dict = [ { param_dict[i]: p \\\n",
      "                             for i,p in enumerate(l.strip().split('\\t')) } \\\n",
      "                           for l in self.batch if re.search('lib[0-9]+', l) ]\n",
      "        \n",
      "        self.lpd = lib_param_dict\n",
      "        \n",
      "    def build_out_dict(self):\n",
      "        \n",
      "        if not hasattr(self, 'lpd'):\n",
      "            self.get_lib_params()\n",
      "        \n",
      "        lib_param_dict = self.lpd\n",
      "        out_file_dict = { pd['SampleName']: { re.sub('_out', '', k): pd[k] \\\n",
      "                                              for k in pd if 'out' in k } \\\n",
      "                          for pd in lib_param_dict }\n",
      "        \n",
      "        self.ofd = out_file_dict\n",
      "        \n",
      "    def show_output_files(self):\n",
      "        \n",
      "        if not hasattr(self, 'ofd'):\n",
      "            self.build_out_dict()\n",
      "        \n",
      "        return self.ofd"
     ],
     "language": "python",
     "metadata": {},
     "outputs": [],
     "prompt_number": 2
    },
    {
     "cell_type": "code",
     "collapsed": false,
     "input": [
      "class ResultCurator(object):\n",
      "    def __init__(self, processed_dir=None):\n",
      "        self.dir = processed_dir\n",
      "        self.pf = re.search('Project_.*', processed_dir).group()\n",
      "\n",
      "    def get_outputs(self):\n",
      "        \n",
      "        processed_dir = self.dir\n",
      "        \n",
      "        batch_file = [ f for f in os.listdir(processed_dir) if \\\n",
      "                       re.search('v[0-9]\\.[0-9]+\\.txt', f) ]\n",
      "        \n",
      "        if len(batch_file):\n",
      "            batch_file = os.path.join(processed_dir, batch_file[0])\n",
      "\n",
      "        output_dict = WorkflowParser(batch_file).show_output_files()\n",
      "        \n",
      "        self.od = output_dict\n",
      "        \n",
      "    def list_outputs(self):\n",
      "        \n",
      "        if not hasattr(self, 'od'):\n",
      "            self.get_outputs()\n",
      "            \n",
      "        output_list = []\n",
      "        for lib in self.od:\n",
      "            output_list += [ re.sub('.*(?=genomics)', '', o) \\\n",
      "                             for o in self.od[lib].values() ]\n",
      "        return output_list\n",
      "\n",
      "    def curate_outputs(self):\n",
      "        \n",
      "        if not hasattr(self, 'od'):\n",
      "            self.get_outputs()\n",
      "            \n",
      "        for lib in self.od:\n",
      "            print lib\n",
      "            sc = SampleCurator(lib, self.od[lib])\n",
      "            sc.organize_files(self.dir)"
     ],
     "language": "python",
     "metadata": {},
     "outputs": [],
     "prompt_number": 3
    },
    {
     "cell_type": "code",
     "collapsed": false,
     "input": [
      "def check_outputs(processed_dir):\n",
      "    rc = ResultCurator(processed_dir)\n",
      "    project_files = [ re.sub('.*(?=genomics)', '', os.path.join(dp, f)) \\\n",
      "                      for dp,dn,fn in os.walk(processed_dir) \\\n",
      "                      for f in fn ]\n",
      "    file_sizes = [ os.stat(os.path.join(dp, f)).st_size \\\n",
      "                   for dp,dn,fn in os.walk(processed_dir) \\\n",
      "                   for f in fn ]\n",
      "    \n",
      "    missing_outputs = [ f for f in rc.list_outputs() \\\n",
      "                        if f not in project_files ]\n",
      "    empty_outputs = [ f for idx,f in enumerate(project_files) \\\n",
      "                      if file_sizes[idx] is 0 ]\n",
      "    \n",
      "    return (missing_outputs, empty_outputs)"
     ],
     "language": "python",
     "metadata": {},
     "outputs": [],
     "prompt_number": 4
    },
    {
     "cell_type": "code",
     "collapsed": false,
     "input": [
      "missing_all = []\n",
      "empty_all = []\n",
      "\n",
      "project_dir = \"/Volumes/genomics/Illumina/150615_D00565_0087_AC6VG0ANXX/Project_P43-12Processed_151217/\"\n",
      "missing,empty = check_outputs(project_dir)\n",
      "missing_all += missing\n",
      "empty_all += empty\n",
      "\n",
      "project_dir = \"/Volumes/genomics/Illumina/150615_D00565_0087_AC6VG0ANXX/Project_P43-12Processed_151218/\"\n",
      "missing,empty = check_outputs(project_dir)\n",
      "missing_all += missing\n",
      "empty_all += empty\n",
      "\n",
      "project_dir = \"/Volumes/genomics/Illumina/150615_D00565_0087_AC6VG0ANXX/Project_P109-1Processed_151218/\"\n",
      "missing,empty = check_outputs(project_dir)\n",
      "missing_all += missing\n",
      "empty_all += empty\n",
      "\n",
      "# project_dir = \"/Volumes/genomics/Illumina/150615_D00565_0087_AC6VG0ANXX/Project_P43-12Processed_151124/\"\n",
      "# missing,empty = check_outputs(project_dir)\n",
      "# missing_all += missing\n",
      "# empty_all += empty\n",
      "\n",
      "# project_dir = \"/Volumes/genomics/Illumina/150615_D00565_0087_AC6VG0ANXX/Project_P69-6Processed_151124/\"\n",
      "# missing,empty = check_outputs(project_dir)\n",
      "# missing_all += missing\n",
      "# empty_all += empty\n",
      "\n",
      "print missing_all\n",
      "print empty_all"
     ],
     "language": "python",
     "metadata": {},
     "outputs": [
      {
       "output_type": "stream",
       "stream": "stdout",
       "text": [
        "[]\n",
        "[]\n"
       ]
      }
     ],
     "prompt_number": 7
    },
    {
     "cell_type": "code",
     "collapsed": false,
     "input": [
      "rc = ResultCurator(project_dir)"
     ],
     "language": "python",
     "metadata": {},
     "outputs": [],
     "prompt_number": 82
    },
    {
     "cell_type": "code",
     "collapsed": false,
     "input": [
      "rc.get_outputs()"
     ],
     "language": "python",
     "metadata": {},
     "outputs": [],
     "prompt_number": 83
    },
    {
     "cell_type": "code",
     "collapsed": false,
     "input": [
      "rc.od['lib7328_C6VG0ANXX']"
     ],
     "language": "python",
     "metadata": {},
     "outputs": [
      {
       "metadata": {},
       "output_type": "pyout",
       "prompt_number": 84,
       "text": [
        "{'fastq': '/~/genomics/Illumina/150615_D00565_0087_AC6VG0ANXX/Project_P14-12Processed_151124/inputFastqs/lib7328_C6VG0ANXX_R1-final.fastq.gz',\n",
        " 'fastqc_qc_html': '/~/genomics/Illumina/150615_D00565_0087_AC6VG0ANXX/Project_P14-12Processed_151124/QC/lib7328_C6VG0ANXX_fastqc_qc.html',\n",
        " 'fastqc_qc_txt': '/~/genomics/Illumina/150615_D00565_0087_AC6VG0ANXX/Project_P14-12Processed_151124/QC/lib7328_C6VG0ANXX_fastqc_qc.txt',\n",
        " 'htseq_counts_txt': '/~/genomics/Illumina/150615_D00565_0087_AC6VG0ANXX/Project_P14-12Processed_151124/counts/lib7328_C6VG0ANXX_htseq_counts.txt',\n",
        " 'htseq_metrics_txt': '/~/genomics/Illumina/150615_D00565_0087_AC6VG0ANXX/Project_P14-12Processed_151124/metrics/lib7328_C6VG0ANXX_htseq_metrics.txt',\n",
        " 'picard_align_metrics_html': '/~/genomics/Illumina/150615_D00565_0087_AC6VG0ANXX/Project_P14-12Processed_151124/metrics/lib7328_C6VG0ANXX_picard_align_metrics.html',\n",
        " 'picard_markdups_metrics_html': '/~/genomics/Illumina/150615_D00565_0087_AC6VG0ANXX/Project_P14-12Processed_151124/metrics/lib7328_C6VG0ANXX_picard_markdups_metrics.html',\n",
        " 'picard_rnaseq_metrics_html': '/~/genomics/Illumina/150615_D00565_0087_AC6VG0ANXX/Project_P14-12Processed_151124/metrics/lib7328_C6VG0ANXX_picard_rnaseq_metrics.html',\n",
        " 'tophat_alignments_bam': '/~/genomics/Illumina/150615_D00565_0087_AC6VG0ANXX/Project_P14-12Processed_151124/alignments/lib7328_C6VG0ANXX_tophat_alignments.bam',\n",
        " 'tophat_stats_metrics_txt': '/~/genomics/Illumina/150615_D00565_0087_AC6VG0ANXX/Project_P14-12Processed_151124/metrics/lib7328_C6VG0ANXX_tophat_stats_metrics.txt',\n",
        " 'workflow_log_txt': '/~/genomics/Illumina/150615_D00565_0087_AC6VG0ANXX/Project_P14-12Processed_151124/log/lib7328_C6VG0ANXX_workflow_log.txt'}"
       ]
      }
     ],
     "prompt_number": 84
    },
    {
     "cell_type": "code",
     "collapsed": false,
     "input": [],
     "language": "python",
     "metadata": {},
     "outputs": []
    }
   ],
   "metadata": {}
  }
 ]
}