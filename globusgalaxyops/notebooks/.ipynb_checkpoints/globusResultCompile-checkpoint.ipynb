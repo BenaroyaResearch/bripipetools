{
 "metadata": {
  "name": "",
  "signature": "sha256:f88855fc74f684c6e38155b54299cbed0219f8dd4ceea90da3cf564b1df8d4c9"
 },
 "nbformat": 3,
 "nbformat_minor": 0,
 "worksheets": [
  {
   "cells": [
    {
     "cell_type": "code",
     "collapsed": false,
     "input": [
      "import sys, os, re, argparse"
     ],
     "language": "python",
     "metadata": {},
     "outputs": [],
     "prompt_number": 1
    },
    {
     "cell_type": "code",
     "collapsed": false,
     "input": [
      "class ResultCurator(object):\n",
      "    def __init__(self, processed_dir=None):\n",
      "        self.dir = processed_dir\n",
      "        self.pf = re.search('Project_.*', processed_dir).group()\n",
      "\n",
      "    # maybe create different class for parsing batch file (i.e., WorkflowParser)?\n",
      "    def read_batch_file(self):\n",
      "        \n",
      "        processed_dir = self.dir\n",
      "        \n",
      "        batch_file = [ f for f in os.listdir(processed_dir) if \\\n",
      "                       re.search('v[0-9]\\.[0-9]+\\.txt', f) ]\n",
      "        \n",
      "        if len(batch_file):\n",
      "            batch_file = os.path.join(processed_dir, batch_file[0])\n",
      "\n",
      "        with open(batch_file) as f:\n",
      "            batch_lines = f.readlines()\n",
      "            \n",
      "        self.batch = batch_lines\n",
      "\n",
      "            \n",
      "    def get_lib_list(self):\n",
      "        \n",
      "        if not hasattr(self, 'batch'):\n",
      "            self.read_batch_file()\n",
      "        \n",
      "        batch_lines = self.batch\n",
      "        \n",
      "        lib_list = [ re.sub('\\t.*\\n', '', l) \\\n",
      "                    for l in batch_lines if re.search('lib[0-9]+', l) ]\n",
      "\n",
      "        self.ll = lib_list\n",
      "    \n",
      "    def get_lib_params(self):\n",
      "        \n",
      "        if not hasattr(self, 'll'):\n",
      "            self.get_lib_list()\n",
      "        \n",
      "        lib_params = [ l.strip().split('\\t') \\\n",
      "                       for l in batch_lines if re.search(lib_list[0], l)][0]\n",
      "\n",
      "        self.params = lib_params\n",
      "    \n",
      "    def get_result_subdirs(self):\n",
      "        \n",
      "        project_folder = self.pf\n",
      "        \n",
      "        if not hasattr(self, 'params'):\n",
      "            self.get_lib_params()\n",
      "        \n",
      "        lib_paths = [ re.sub('.*' + project_folder + '/', '', l) \\\n",
      "                      for l in lib_params if project_folder in l ]\n",
      "\n",
      "        result_subdirs = list(set( os.path.dirname(p) for p in lib_paths ))\n",
      "\n",
      "        self.subdirs = result_subdirs"
     ],
     "language": "python",
     "metadata": {},
     "outputs": [],
     "prompt_number": 73
    },
    {
     "cell_type": "code",
     "collapsed": false,
     "input": [
      "class FileMunger(object):\n",
      "    \n",
      "    def __init__(self, processed_dir=None, result_subdir=None, result_type=None):\n",
      "        self.dir = processed_dirs\n",
      "        self.subdir = result_subdir\n",
      "        \n",
      "    def get_result_type(self):\n",
      "        result_type_dict = {'trimmedFastq': 'trimmed',\n",
      "                            'metrics': 'metrics',\n",
      "                            'QC': 'QC',\n",
      "                            'counts': 'counts',\n",
      "                            'alignments': 'alignments'\n",
      "                            'Trinity'\n",
      "                            '\n",
      "                        'FastqMcf: log': 'adapterTrimMetrics',\n",
      "                        #'FastqMcf: reads': 'trimmedFastq',\n",
      "                        'FASTQ Quality Trimmer': 'trimmedFastq',\n",
      "                        'FastQC: html': 'fastqQc',\n",
      "                        'Tophat for Illumina: insertions': 'inBedFile',\n",
      "                        'Tophat for Illumina: deletions': 'delBedFile',\n",
      "                        'Tophat for Illumina: splice junctions': 'juncBedFile',\n",
      "                        'Tophat for Illumina: accepted_hits': 'bamFile',\n",
      "                        'MarkDups: bam': 'rmDupBamFile',\n",
      "                        'MarkDups: html': 'rmDupMetrics',\n",
      "                        'Picard Alignment Summary Metrics.html': 'alignMetrics',\n",
      "                        'RNA Seq Metrics.html': 'rnaseqMetrics',\n",
      "                        'Tophat Stats PE': 'tophatStatsMetrics',\n",
      "                        'htseq-count': 'countFile',\n",
      "                        'htseq-count (no feature)': 'htseqMetrics',\n",
      "                        'MACS2 callpeak (Bedgraph Treatment)': 'macsTreatBedFile',\n",
      "                        'MACS2 callpeak (Bedgraph Control)': 'macsCtrlBedFile',\n",
      "                        'MACS2 callpeak (Peaks in BED format)': 'macsPeaksBedFile',\n",
      "                        'MACS2 callpeak (html report)': 'macsReport',\n",
      "                        'MACS2 callpeak (summits in BED)': 'macsSummitsBedFile',\n",
      "                        'MTDupsFilterStats': 'atacSeqMetrics'}\n",
      "\n",
      "    folder_dict = {'adapterTrimMetrics': 'metrics',\n",
      "                  'trimmedFastq': 'TrimmedFastqs',\n",
      "                  'fastqQc': 'QC',\n",
      "                  'inBedFile': 'viz',\n",
      "                  'delBedFile': 'viz',\n",
      "                  'juncBedFile': 'viz',\n",
      "                  'bamFile': 'alignments',\n",
      "                  'rmDupBamFile': 'alignments_noDups',\n",
      "                  'rmDupMetrics': 'metrics',\n",
      "                  'alignMetrics': 'metrics',\n",
      "                  'rnaseqMetrics': 'metrics',\n",
      "                  'tophatStatsMetrics': 'metrics',\n",
      "                  'countFile': 'counts',\n",
      "                  'htseqMetrics': 'metrics',\n",
      "                  'macsTreatBedFile': 'peakCallOutput',\n",
      "                  'macsCtrlBedFile': 'peakCallOutput',\n",
      "                  'macsPeaksBedFile': 'peakCallOutput',\n",
      "                  'macsReport': 'peakCallOutput',\n",
      "                  'macsSummitsBedFile': 'peakCallOutput'}"
     ],
     "language": "python",
     "metadata": {},
     "outputs": []
    },
    {
     "cell_type": "code",
     "collapsed": false,
     "input": [
      "processed_dir = \"/Users/jaeddy/Dropbox/data/projects/briSeqPipeline/GLOBUS_TESTING/Project_P43-12Processed_151013/\"\n",
      "processed_dir = os.path.abspath(processed_dir)"
     ],
     "language": "python",
     "metadata": {},
     "outputs": [],
     "prompt_number": 2
    },
    {
     "cell_type": "code",
     "collapsed": false,
     "input": [
      "rc = ResultCurator(processed_dir)\n",
      "rc.get_result_subdirs()"
     ],
     "language": "python",
     "metadata": {},
     "outputs": [],
     "prompt_number": 75
    },
    {
     "cell_type": "code",
     "collapsed": false,
     "input": [
      "rc.subdirs"
     ],
     "language": "python",
     "metadata": {},
     "outputs": [
      {
       "metadata": {},
       "output_type": "pyout",
       "prompt_number": 76,
       "text": [
        "['inputFastqs', 'metrics', 'trimmed', 'QC', 'counts', 'alignments', 'Trinity']"
       ]
      }
     ],
     "prompt_number": 76
    },
    {
     "cell_type": "code",
     "collapsed": false,
     "input": [
      "lib_list"
     ],
     "language": "python",
     "metadata": {},
     "outputs": [
      {
       "metadata": {},
       "output_type": "pyout",
       "prompt_number": 26,
       "text": [
        "['lib6831_C6VG0ANXX',\n",
        " 'lib6837_C6VG0ANXX',\n",
        " 'lib6838_C6VG0ANXX',\n",
        " 'lib6825_C6VG0ANXX',\n",
        " 'lib6834_C6VG0ANXX',\n",
        " 'lib6841_C6VG0ANXX',\n",
        " 'lib6829_C6VG0ANXX',\n",
        " 'lib6923_C6VG0ANXX',\n",
        " 'lib6922_C6VG0ANXX',\n",
        " 'lib6840_C6VG0ANXX',\n",
        " 'lib6826_C6VG0ANXX',\n",
        " 'lib6828_C6VG0ANXX',\n",
        " 'lib6842_C6VG0ANXX',\n",
        " 'lib6835_C6VG0ANXX',\n",
        " 'lib6832_C6VG0ANXX',\n",
        " 'lib6924_C6VG0ANXX',\n",
        " 'lib6830_C6VG0ANXX',\n",
        " 'lib6827_C6VG0ANXX',\n",
        " 'lib6836_C6VG0ANXX',\n",
        " 'lib6925_C6VG0ANXX',\n",
        " 'lib6839_C6VG0ANXX',\n",
        " 'lib6833_C6VG0ANXX']"
       ]
      }
     ],
     "prompt_number": 26
    },
    {
     "cell_type": "code",
     "collapsed": false,
     "input": [],
     "language": "python",
     "metadata": {},
     "outputs": []
    }
   ],
   "metadata": {}
  }
 ]
}