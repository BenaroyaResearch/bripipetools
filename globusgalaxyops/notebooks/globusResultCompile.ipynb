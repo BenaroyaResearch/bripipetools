{
 "metadata": {
  "name": "",
  "signature": "sha256:3e1e5835138c2104afa44fc4244bc55ea78e718a0dac0feb9e4aa69e24a9c47b"
 },
 "nbformat": 3,
 "nbformat_minor": 0,
 "worksheets": [
  {
   "cells": [
    {
     "cell_type": "code",
     "collapsed": false,
     "input": [
      "import sys, os, re, argparse, csv"
     ],
     "language": "python",
     "metadata": {},
     "outputs": [],
     "prompt_number": 1
    },
    {
     "cell_type": "code",
     "collapsed": false,
     "input": [
      "class WorkflowParser(object):\n",
      "    \n",
      "    def __init__(self, batch_file=None):\n",
      "        \n",
      "        self.bf = batch_file\n",
      "        self.read_batch_file()\n",
      "        \n",
      "    def read_batch_file(self):\n",
      "        \n",
      "        batch_file = self.bf\n",
      "        with open(batch_file) as f:\n",
      "            batch_lines = f.readlines()\n",
      "            \n",
      "        self.batch = batch_lines\n",
      "    \n",
      "    def get_params(self):\n",
      "        \n",
      "        param_line = [ l for l in self.batch if 'SampleName' in l ][0]\n",
      "        param_dict = { idx: re.sub('##.*', '', p) \\\n",
      "                       for idx,p in enumerate(param_line.strip().split('\\t')) }\n",
      "        \n",
      "        self.pd = param_dict\n",
      "        \n",
      "    def get_lib_params(self):\n",
      "        \n",
      "        if not hasattr(self, 'pd'):\n",
      "            self.get_params()\n",
      "        \n",
      "        param_dict = self.pd\n",
      "        lib_param_dict = [ { param_dict[i]: p \\\n",
      "                             for i,p in enumerate(l.strip().split('\\t')) } \\\n",
      "                           for l in self.batch if re.search('lib[0-9]+', l) ]\n",
      "        \n",
      "        self.lpd = lib_param_dict\n",
      "        \n",
      "    def build_out_dict(self):\n",
      "        \n",
      "        if not hasattr(self, 'lpd'):\n",
      "            self.get_lib_params()\n",
      "        \n",
      "        lib_param_dict = self.lpd\n",
      "        out_file_dict = { pd['SampleName']: { re.sub('_out', '', k): pd[k] \\\n",
      "                                              for k in pd if 'out' in k } \\\n",
      "                          for pd in lib_param_dict }\n",
      "        \n",
      "        self.ofd = out_file_dict\n",
      "        \n",
      "    def show_output_files(self):\n",
      "        \n",
      "        if not hasattr(self, 'ofd'):\n",
      "            self.build_out_dict()\n",
      "        \n",
      "        return self.ofd"
     ],
     "language": "python",
     "metadata": {},
     "outputs": [],
     "prompt_number": 2
    },
    {
     "cell_type": "code",
     "collapsed": false,
     "input": [
      "class ResultCurator(object):\n",
      "    def __init__(self, processed_dir=None):\n",
      "        self.dir = processed_dir\n",
      "        self.pf = re.search('Project_.*', processed_dir).group()\n",
      "\n",
      "    # maybe create different class for parsing batch file (i.e., WorkflowParser)?\n",
      "    def get_outputs(self):\n",
      "        \n",
      "        processed_dir = self.dir\n",
      "        \n",
      "        batch_file = [ f for f in os.listdir(processed_dir) if \\\n",
      "                       re.search('v[0-9]\\.[0-9]+\\.txt', f) ]\n",
      "        \n",
      "        if len(batch_file):\n",
      "            batch_file = os.path.join(processed_dir, batch_file[0])\n",
      "\n",
      "        output_dict = WorkflowParser(batch_file).show_output_files()\n",
      "        \n",
      "        self.od = output_dict\n",
      "\n",
      "    def curate_outputs(self):\n",
      "        \n",
      "        if not hasattr(self, 'od'):\n",
      "            self.get_outputs()\n",
      "            \n",
      "        for lib in self.od:\n",
      "            FileMunger(lib, self.od[lib]).go()\n",
      "    \n",
      "#     def get_result_subdirs(self):\n",
      "        \n",
      "#         project_folder = self.pf\n",
      "        \n",
      "#         if not hasattr(self, 'params'):\n",
      "#             self.get_lib_params()\n",
      "        \n",
      "#         lib_paths = [ re.sub('.*' + project_folder + '/', '', l) \\\n",
      "#                       for l in self.params if project_folder in l ]\n",
      "\n",
      "#         result_subdirs = list(set( os.path.dirname(p) for p in lib_paths ))\n",
      "\n",
      "#         self.subdirs = result_subdirs"
     ],
     "language": "python",
     "metadata": {},
     "outputs": [],
     "prompt_number": 3
    },
    {
     "cell_type": "code",
     "collapsed": false,
     "input": [
      "class SampleCurator(object):\n",
      "    \n",
      "    def __init__(self, lib_id=None, output_dict=None):\n",
      "        \n",
      "        self.lib = lib_id\n",
      "        self.lod = output_dict\n",
      "    \n",
      "    def get_result_type(self, output):\n",
      "        output_str = re.sub('_[a-z]+$', '', output)\n",
      "        output_type = re.search('(?<=_)[a-z]+$', output_str)\n",
      "        if output_type:\n",
      "            result_type = output_type.group()\n",
      "        else:\n",
      "            result_type = output_str\n",
      "        \n",
      "        return result_type\n",
      "    \n",
      "    def get_result_source(self, output):\n",
      "        if not re.search('fastq$', output):\n",
      "            result_sources = ['picard_align', 'picard_markdups', 'picard_rnaseq', \n",
      "                              'htseq', 'trinity', 'tophat', 'tophat_stats', 'fastqc']\n",
      "            result_source = [ rs for rs in result_sources \\\n",
      "                              if re.search(rs.lower(), output) ][0]\n",
      "        else:\n",
      "            result_sources = ['fastq', 'trimmed_fastq']\n",
      "            result_source = [ rs for rs in result_sources \\\n",
      "                              if re.search('^' + rs.lower() + '$', output) ][0]\n",
      "        \n",
      "        return result_source\n",
      "    \n",
      "    def build_source_dict(self):\n",
      "        \n",
      "        output_dict = self.lod\n",
      "        \n",
      "        source_dict = {}\n",
      "\n",
      "        for o in output_dict:\n",
      "            rt = self.get_result_type(o)\n",
      "            rs = self.get_result_source(o)\n",
      "\n",
      "            if rs in source_dict:\n",
      "                source_dict[rs][o] = {'file': output_dict[o],\n",
      "                                      'type': rt}\n",
      "            else:\n",
      "                source_dict[rs] = {o: {'file': output_dict[o],\n",
      "                                       'type': rt}}\n",
      "            print '%s in source_dict[%s]: %s' % (o, rs, o in source_dict[rs])\n",
      "        \n",
      "        self.sd = source_dict\n",
      "        return source_dict"
     ],
     "language": "python",
     "metadata": {},
     "outputs": [],
     "prompt_number": 104
    },
    {
     "cell_type": "code",
     "collapsed": false,
     "input": [
      "class FileMunger(object):\n",
      "    \n",
      "    def __init__(self, lib_id, processed_dir, result_source, output_dict):\n",
      "        \n",
      "        self.lib = lib_id\n",
      "        self.pd = processed_dir\n",
      "        self.rs = result_source\n",
      "        self.sod = output_dict\n",
      "        self.prep_output_subdir()\n",
      "    \n",
      "    def prep_output_subdir(self):\n",
      "        \n",
      "        source_subdir_dict = {'fastqc': os.path.join(self.lib, 'qcR1'),\n",
      "                              'picard_align': self.lib + '_qc',\n",
      "                              'picard_markdups': self.lib + 'MarkDups',\n",
      "                              'picard_rnaseq': self.lib + '_al',\n",
      "                              'trinity': self.lib}\n",
      "        \n",
      "        if self.rs in source_subdir_dict:\n",
      "            out_subdir = source_subdir_dict[self.rs]\n",
      "        else:\n",
      "            out_subdir = ''\n",
      "            \n",
      "        self.subdir = out_subdir        \n",
      "    \n",
      "    def rename_files(self):\n",
      "        \n",
      "        source_output_dict = self.sod\n",
      "        \n",
      "        result_file_dict = {'fastqc_qc_html': 'fastqc_report.html',\n",
      "                            'fastqc_qc_txt': 'fastqc_data.txt',\n",
      "                            'picard_align_metrics_html': 'Picard_Alignment_Summary_Metrics_html.html',\n",
      "                            'picard_markdups_metrics_html': 'MarkDups_Dupes_Marked_html.html',\n",
      "                            'trinity_fasta': 'Trinity.fasta',\n",
      "                            'tophat_stats_metrics_txt': self.lib + 'ths.txt',\n",
      "                            'picard_rnaseq_metrics_text': 'RNA_Seq_Metrics_html.html',\n",
      "                            'htseq_counts_txt': self.lib + '_count.txt',\n",
      "                            'tophat_alignments_bam': self.lib + '.bam',\n",
      "                            'htseq_metrics_txt': self.lib + 'mm.txt'}\n",
      "        type_subdir_dict = {'qc': 'QC',\n",
      "                            'metrics': 'metrics',\n",
      "                            'counts': 'counts',\n",
      "                            'alignments': 'alignments',\n",
      "                            'trimmed': 'TrimmedFastqs',\n",
      "                            'trinity': 'Trinity'}\n",
      "\n",
      "        for o in source_output_dict:\n",
      "            rf = source_output_dict[o]['file']\n",
      "            rt = source_output_dict[o]['type']\n",
      "            \n",
      "#             print o\n",
      "            out_dir = os.path.join(processed_dir, type_subdir_dict[rt], self.subdir)\n",
      "#             print out_dir\n",
      "            \n",
      "            if not re.search('fastq$', o):\n",
      "                print os.path.join(processed_dir, type_subdir_dict[rt], os.path.basename(rf))\n",
      "                print os.path.join(out_dir, result_file_dict[o])\n",
      "            \n",
      "#     def bundle_files(self):\n",
      "     "
     ],
     "language": "python",
     "metadata": {},
     "outputs": [],
     "prompt_number": 165
    },
    {
     "cell_type": "code",
     "collapsed": false,
     "input": [
      "processed_dir = \"/Users/jaeddy/Dropbox/data/projects/briSeqPipeline/GLOBUS_TESTING/Project_P43-12Processed_151013/\"\n",
      "processed_dir = os.path.abspath(processed_dir)"
     ],
     "language": "python",
     "metadata": {},
     "outputs": [],
     "prompt_number": 6
    },
    {
     "cell_type": "code",
     "collapsed": false,
     "input": [
      "msg =  [lib_file_dict[lib].append(f) for lib in lib_file_dict for f in os.listdir(subdir) if lib in f]"
     ],
     "language": "python",
     "metadata": {},
     "outputs": [],
     "prompt_number": 102
    },
    {
     "cell_type": "code",
     "collapsed": false,
     "input": [
      "rc = ResultCurator(processed_dir)"
     ],
     "language": "python",
     "metadata": {},
     "outputs": [],
     "prompt_number": 8
    },
    {
     "cell_type": "code",
     "collapsed": false,
     "input": [
      "rc.get_outputs()"
     ],
     "language": "python",
     "metadata": {},
     "outputs": [],
     "prompt_number": 9
    },
    {
     "cell_type": "code",
     "collapsed": false,
     "input": [
      "lib = rc.od.keys()[0]\n",
      "lib_output_dict = rc.od[lib]"
     ],
     "language": "python",
     "metadata": {},
     "outputs": [],
     "prompt_number": 15
    },
    {
     "cell_type": "code",
     "collapsed": false,
     "input": [
      "sc = SampleCurator(lib_id=lib, output_dict=lib_output_dict)"
     ],
     "language": "python",
     "metadata": {},
     "outputs": [],
     "prompt_number": 109
    },
    {
     "cell_type": "code",
     "collapsed": false,
     "input": [
      "source_dict = sc.build_source_dict()"
     ],
     "language": "python",
     "metadata": {},
     "outputs": [
      {
       "output_type": "stream",
       "stream": "stdout",
       "text": [
        "picard_align_metrics_html in source_dict[picard_align]: True\n",
        "trinity_fasta in source_dict[trinity]: True\n",
        "picard_markdups_metrics_html in source_dict[picard_markdups]: True\n",
        "fastqc_qc_txt in source_dict[fastqc]: True\n",
        "fastq in source_dict[fastq]: True\n",
        "tophat_stats_metrics_txt in source_dict[tophat]: True\n",
        "fastqc_qc_html in source_dict[fastqc]: True\n",
        "trimmed_fastq in source_dict[trimmed_fastq]: True\n",
        "picard_rnaseq_metrics_text in source_dict[picard_rnaseq]: True\n",
        "htseq_counts_txt in source_dict[htseq]: True\n",
        "tophat_alignments_bam in source_dict[tophat]: True\n",
        "htseq_metrics_txt in source_dict[htseq]: True\n"
       ]
      }
     ],
     "prompt_number": 110
    },
    {
     "cell_type": "code",
     "collapsed": false,
     "input": [
      "rs = source_dict.keys()[4]\n",
      "source_output_dict = source_dict[rs]\n",
      "source_output_dict"
     ],
     "language": "python",
     "metadata": {},
     "outputs": [
      {
       "metadata": {},
       "output_type": "pyout",
       "prompt_number": 171,
       "text": [
        "{'picard_align_metrics_html': {'file': '/~/genomics/Illumina/150615_D00565_0087_AC6VG0ANXX/Project_P43-12Processed_151013/metrics/lib6835_C6VG0ANXX_picard_align_metrics.html',\n",
        "  'type': 'metrics'}}"
       ]
      }
     ],
     "prompt_number": 171
    },
    {
     "cell_type": "code",
     "collapsed": false,
     "input": [
      "fm = FileMunger(lib_id=lib, processed_dir=processed_dir, result_source=rs, output_dict=source_output_dict)"
     ],
     "language": "python",
     "metadata": {},
     "outputs": [],
     "prompt_number": 172
    },
    {
     "cell_type": "code",
     "collapsed": false,
     "input": [
      "fm.rename_files()"
     ],
     "language": "python",
     "metadata": {},
     "outputs": [
      {
       "output_type": "stream",
       "stream": "stdout",
       "text": [
        "/Users/jaeddy/Dropbox/data/projects/briSeqPipeline/GLOBUS_TESTING/Project_P43-12Processed_151013/metrics/lib6835_C6VG0ANXX_picard_align_metrics.html\n",
        "/Users/jaeddy/Dropbox/data/projects/briSeqPipeline/GLOBUS_TESTING/Project_P43-12Processed_151013/metrics/lib6835_C6VG0ANXX_qc/Picard_Alignment_Summary_Metrics_html.html\n"
       ]
      }
     ],
     "prompt_number": 173
    },
    {
     "cell_type": "code",
     "collapsed": false,
     "input": [
      "source_dict.keys()"
     ],
     "language": "python",
     "metadata": {},
     "outputs": [
      {
       "metadata": {},
       "output_type": "pyout",
       "prompt_number": 96,
       "text": [
        "['fastqc',\n",
        " 'fastq',\n",
        " 'picard_markdups',\n",
        " 'picard_align',\n",
        " 'htseq',\n",
        " 'picard_rnaseq',\n",
        " 'tophat',\n",
        " 'trinity']"
       ]
      }
     ],
     "prompt_number": 96
    },
    {
     "cell_type": "code",
     "collapsed": false,
     "input": [
      "[source_dict[s][o]['type'] for s in source_dict for o in source_dict[s]]"
     ],
     "language": "python",
     "metadata": {},
     "outputs": [
      {
       "metadata": {},
       "output_type": "pyout",
       "prompt_number": 97,
       "text": [
        "['qc',\n",
        " 'qc',\n",
        " 'fastq',\n",
        " 'trimmed',\n",
        " 'metrics',\n",
        " 'metrics',\n",
        " 'metrics',\n",
        " 'counts',\n",
        " 'metrics',\n",
        " 'alignments',\n",
        " 'metrics',\n",
        " 'trinity']"
       ]
      }
     ],
     "prompt_number": 97
    },
    {
     "cell_type": "code",
     "collapsed": false,
     "input": [
      "lib_output_dict.keys()"
     ],
     "language": "python",
     "metadata": {},
     "outputs": [
      {
       "metadata": {},
       "output_type": "pyout",
       "prompt_number": 91,
       "text": [
        "['picard_align_metrics_html',\n",
        " 'trinity_fasta',\n",
        " 'picard_markdups_metrics_html',\n",
        " 'fastqc_qc_txt',\n",
        " 'fastq',\n",
        " 'tophat_stats_metrics_txt',\n",
        " 'fastqc_qc_html',\n",
        " 'trimmed_fastq',\n",
        " 'picard_rnaseq_metrics_text',\n",
        " 'htseq_counts_txt',\n",
        " 'tophat_alignments_bam',\n",
        " 'htseq_metrics_txt']"
       ]
      }
     ],
     "prompt_number": 91
    },
    {
     "cell_type": "code",
     "collapsed": false,
     "input": [],
     "language": "python",
     "metadata": {},
     "outputs": []
    }
   ],
   "metadata": {}
  }
 ]
}