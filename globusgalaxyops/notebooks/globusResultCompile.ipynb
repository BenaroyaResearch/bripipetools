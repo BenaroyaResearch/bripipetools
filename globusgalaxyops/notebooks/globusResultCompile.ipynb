{
 "metadata": {
  "name": "",
  "signature": "sha256:2f1dfcf88f1e1e172e37908a5cef2240de15b2e44864d0aee6727acac601f07d"
 },
 "nbformat": 3,
 "nbformat_minor": 0,
 "worksheets": [
  {
   "cells": [
    {
     "cell_type": "code",
     "collapsed": false,
     "input": [
      "import sys, os, re, argparse, csv\n",
      "import shutil\n",
      "from pprint import pprint"
     ],
     "language": "python",
     "metadata": {},
     "outputs": [],
     "prompt_number": 88
    },
    {
     "cell_type": "code",
     "collapsed": false,
     "input": [
      "class WorkflowParser(object):\n",
      "    \n",
      "    def __init__(self, batch_file=None):\n",
      "        \n",
      "        self.bf = batch_file\n",
      "        self.read_batch_file()\n",
      "        \n",
      "    def read_batch_file(self):\n",
      "        \n",
      "        batch_file = self.bf\n",
      "        with open(batch_file) as f:\n",
      "            batch_lines = f.readlines()\n",
      "            \n",
      "        self.batch = batch_lines\n",
      "    \n",
      "    def get_params(self):\n",
      "        \n",
      "        param_line = [ l for l in self.batch if 'SampleName' in l ][0]\n",
      "        param_dict = { idx: re.sub('##.*', '', p) \\\n",
      "                       for idx,p in enumerate(param_line.strip().split('\\t')) }\n",
      "        \n",
      "        self.pd = param_dict\n",
      "        \n",
      "    def get_lib_params(self):\n",
      "        \n",
      "        if not hasattr(self, 'pd'):\n",
      "            self.get_params()\n",
      "        \n",
      "        param_dict = self.pd\n",
      "        lib_param_dict = [ { param_dict[i]: p \\\n",
      "                             for i,p in enumerate(l.strip().split('\\t')) } \\\n",
      "                           for l in self.batch if re.search('lib[0-9]+', l) ]\n",
      "        \n",
      "        self.lpd = lib_param_dict\n",
      "        \n",
      "    def build_out_dict(self):\n",
      "        \n",
      "        if not hasattr(self, 'lpd'):\n",
      "            self.get_lib_params()\n",
      "        \n",
      "        lib_param_dict = self.lpd\n",
      "        out_file_dict = { pd['SampleName']: { re.sub('_out', '', k): pd[k] \\\n",
      "                                              for k in pd if 'out' in k } \\\n",
      "                          for pd in lib_param_dict }\n",
      "        \n",
      "        self.ofd = out_file_dict\n",
      "        \n",
      "    def show_output_files(self):\n",
      "        \n",
      "        if not hasattr(self, 'ofd'):\n",
      "            self.build_out_dict()\n",
      "        \n",
      "        return self.ofd"
     ],
     "language": "python",
     "metadata": {},
     "outputs": [],
     "prompt_number": 2
    },
    {
     "cell_type": "code",
     "collapsed": false,
     "input": [
      "class ResultCurator(object):\n",
      "    def __init__(self, processed_dir=None):\n",
      "        self.dir = processed_dir\n",
      "        self.pf = re.search('Project_.*', processed_dir).group()\n",
      "\n",
      "    def get_outputs(self):\n",
      "        \n",
      "        processed_dir = self.dir\n",
      "        \n",
      "        batch_file = [ f for f in os.listdir(processed_dir) if \\\n",
      "                       re.search('v[0-9]\\.[0-9]+\\.txt', f) ]\n",
      "        \n",
      "        if len(batch_file):\n",
      "            batch_file = os.path.join(processed_dir, batch_file[0])\n",
      "\n",
      "        output_dict = WorkflowParser(batch_file).show_output_files()\n",
      "        \n",
      "        self.od = output_dict\n",
      "\n",
      "    def curate_outputs(self):\n",
      "        \n",
      "        if not hasattr(self, 'od'):\n",
      "            self.get_outputs()\n",
      "            \n",
      "        for lib in self.od:\n",
      "            print lib\n",
      "            sc = SampleCurator(lib, self.od[lib])\n",
      "            sc.organize_files(self.dir)"
     ],
     "language": "python",
     "metadata": {},
     "outputs": [],
     "prompt_number": 118
    },
    {
     "cell_type": "code",
     "collapsed": false,
     "input": [
      "class SampleCurator(object):\n",
      "    \n",
      "    def __init__(self, lib_id=None, output_dict=None):\n",
      "        \n",
      "        self.lib = lib_id\n",
      "        self.lod = output_dict\n",
      "    \n",
      "    def get_result_type(self, output):\n",
      "        output_str = re.sub('_[a-z]+$', '', output)\n",
      "        output_type = re.search('(?<=_)[a-z]+$', output_str)\n",
      "        if output_type:\n",
      "            result_type = output_type.group()\n",
      "        else:\n",
      "            result_type = output_str\n",
      "        \n",
      "        return result_type\n",
      "    \n",
      "    def get_result_source(self, output):\n",
      "        if not re.search('fastq$', output):\n",
      "            result_sources = ['picard_align', 'picard_markdups', 'picard_rnaseq', \n",
      "                              'htseq', 'trinity', 'tophat', 'tophat_stats', 'fastqc']\n",
      "            result_source = [ rs for rs in result_sources \\\n",
      "                              if re.search(rs.lower(), output) ][0]\n",
      "        else:\n",
      "            result_sources = ['fastq', 'trimmed_fastq']\n",
      "            result_source = [ rs for rs in result_sources \\\n",
      "                              if re.search('^' + rs.lower() + '$', output) ][0]\n",
      "        \n",
      "        return result_source\n",
      "            \n",
      "    def build_source_dict(self):\n",
      "        \n",
      "        output_dict = self.lod\n",
      "        \n",
      "        source_dict = {}\n",
      "\n",
      "        for o in output_dict:\n",
      "            rt = self.get_result_type(o)\n",
      "            rs = self.get_result_source(o)\n",
      "\n",
      "            if rs in source_dict:\n",
      "                source_dict[rs][o] = {'file': output_dict[o],\n",
      "                                      'type': rt}\n",
      "            else:\n",
      "                source_dict[rs] = {o: {'file': output_dict[o],\n",
      "                                       'type': rt}}\n",
      "        \n",
      "        self.sd = source_dict\n",
      "    \n",
      "    def organize_files(self, target_dir):\n",
      "        \n",
      "        if not hasattr(self, 'sd'):\n",
      "            self.build_source_dict()\n",
      "        \n",
      "        for rs in self.sd:\n",
      "            fm = FileMunger(self, target_dir, rs)\n",
      "            fm.go()\n"
     ],
     "language": "python",
     "metadata": {},
     "outputs": [],
     "prompt_number": 119
    },
    {
     "cell_type": "code",
     "collapsed": false,
     "input": [
      "class FileMunger(object):\n",
      "    \n",
      "    def __init__(self, sample_curator, target_dir, result_source):\n",
      "        \n",
      "        self.lib = sample_curator.lib\n",
      "        self.dir = target_dir \n",
      "        self.target = target_dir + '_formatted'\n",
      "        self.rs = result_source\n",
      "        \n",
      "        self.sod = sample_curator.sd[result_source]\n",
      "        self.prep_output_subdir()\n",
      "    \n",
      "    def prep_output_subdir(self):\n",
      "        \n",
      "        source_subdir_dict = {'fastqc': os.path.join(self.lib, 'qcR1'),\n",
      "                              'picard_align': self.lib + '_qc',\n",
      "                              'picard_markdups': self.lib + 'MarkDups',\n",
      "                              'picard_rnaseq': self.lib + '_al',\n",
      "                              'trinity': self.lib}\n",
      "        \n",
      "        if self.rs in source_subdir_dict:\n",
      "            out_subdir = source_subdir_dict[self.rs]\n",
      "        else:\n",
      "            out_subdir = ''\n",
      "            \n",
      "        self.subdir = out_subdir        \n",
      "    \n",
      "    def rename_files(self):\n",
      "        \n",
      "        source_output_dict = self.sod\n",
      "        \n",
      "        result_file_dict = {'fastqc_qc_html': 'fastqc_report.html',\n",
      "                            'fastqc_qc_txt': 'fastqc_data.txt',\n",
      "                            'picard_align_metrics_html': 'Picard_Alignment_Summary_Metrics_html.html',\n",
      "                            'picard_markdups_metrics_html': 'MarkDups_Dupes_Marked_html.html',\n",
      "                            'trinity_fasta': 'Trinity.fasta',\n",
      "                            'tophat_stats_metrics_txt': self.lib + 'ths.txt',\n",
      "                            'picard_rnaseq_metrics_text': 'RNA_Seq_Metrics_html.html',\n",
      "                            'htseq_counts_txt': self.lib + '_count.txt',\n",
      "                            'tophat_alignments_bam': self.lib + '.bam',\n",
      "                            'htseq_metrics_txt': self.lib + 'mm.txt'}\n",
      "        \n",
      "        type_subdir_dict = {'qc': 'QC',\n",
      "                            'metrics': 'metrics',\n",
      "                            'counts': 'counts',\n",
      "                            'alignments': 'alignments',\n",
      "                            'trimmed': 'TrimmedFastqs',\n",
      "                            'trinity': 'Trinity'}\n",
      "        \n",
      "        dirs_to_bundle = []\n",
      "        for o in source_output_dict:\n",
      "            rf = source_output_dict[o]['file']\n",
      "            rt = source_output_dict[o]['type']\n",
      "            \n",
      "            if not re.search('fastq$', o):\n",
      "                out_dir = os.path.join(self.target, type_subdir_dict[rt], self.subdir)\n",
      "                if not os.path.isdir(out_dir):\n",
      "                    os.makedirs(out_dir)\n",
      "                if len(self.subdir) and not self.rs == 'trinity':\n",
      "                    dirs_to_bundle.append(out_dir)\n",
      "                \n",
      "                src_file = os.path.join(self.dir, type_subdir_dict[rt], os.path.basename(rf))\n",
      "                if not os.path.isfile(src_file):\n",
      "                    print \"File %s not found\" % src_file\n",
      "                else:\n",
      "                    shutil.copy(src_file,\n",
      "                                os.path.join(out_dir, result_file_dict[o]))\n",
      "        self.bundle = list(set(dirs_to_bundle))\n",
      "                            \n",
      "    def bundle_files(self):\n",
      "        for d in self.bundle:\n",
      "            shutil.make_archive(d, 'zip', d)\n",
      "            shutil.rmtree(d)\n",
      "    \n",
      "    def go(self):\n",
      "        self.rename_files()\n",
      "        self.bundle_files()\n"
     ],
     "language": "python",
     "metadata": {},
     "outputs": [],
     "prompt_number": 122
    },
    {
     "cell_type": "code",
     "collapsed": false,
     "input": [
      "# processed_dir = \"/Users/jaeddy/Dropbox/data/projects/briSeqPipeline/GLOBUS_TESTING/Project_P43-12Processed_151013/\"\n",
      "processed_dir = \"/Volumes/genomics/Illumina/150615_D00565_0087_AC6VG0ANXX/gProject_P43-12Processed_151013/\"\n",
      "processed_dir = os.path.abspath(processed_dir)"
     ],
     "language": "python",
     "metadata": {},
     "outputs": [],
     "prompt_number": 124
    },
    {
     "cell_type": "code",
     "collapsed": false,
     "input": [
      "rc = ResultCurator(processed_dir)\n",
      "rc.curate_outputs()"
     ],
     "language": "python",
     "metadata": {},
     "outputs": [
      {
       "output_type": "stream",
       "stream": "stdout",
       "text": [
        "lib6835_C6VG0ANXX\n",
        "lib6840_C6VG0ANXX"
       ]
      },
      {
       "output_type": "stream",
       "stream": "stdout",
       "text": [
        "\n",
        "lib6841_C6VG0ANXX"
       ]
      },
      {
       "output_type": "stream",
       "stream": "stdout",
       "text": [
        "\n",
        "lib6836_C6VG0ANXX"
       ]
      },
      {
       "output_type": "stream",
       "stream": "stdout",
       "text": [
        "\n",
        "lib6825_C6VG0ANXX"
       ]
      },
      {
       "output_type": "stream",
       "stream": "stdout",
       "text": [
        "\n",
        "lib6923_C6VG0ANXX"
       ]
      },
      {
       "output_type": "stream",
       "stream": "stdout",
       "text": [
        "\n",
        "lib6922_C6VG0ANXX"
       ]
      },
      {
       "output_type": "stream",
       "stream": "stdout",
       "text": [
        "\n",
        "lib6830_C6VG0ANXX"
       ]
      },
      {
       "output_type": "stream",
       "stream": "stdout",
       "text": [
        "\n",
        "lib6834_C6VG0ANXX"
       ]
      },
      {
       "output_type": "stream",
       "stream": "stdout",
       "text": [
        "\n",
        "lib6842_C6VG0ANXX"
       ]
      },
      {
       "output_type": "stream",
       "stream": "stdout",
       "text": [
        "\n",
        "lib6838_C6VG0ANXX"
       ]
      },
      {
       "output_type": "stream",
       "stream": "stdout",
       "text": [
        "\n",
        "lib6837_C6VG0ANXX"
       ]
      },
      {
       "output_type": "stream",
       "stream": "stdout",
       "text": [
        "\n",
        "lib6833_C6VG0ANXX"
       ]
      },
      {
       "output_type": "stream",
       "stream": "stdout",
       "text": [
        "\n",
        "lib6832_C6VG0ANXX"
       ]
      },
      {
       "output_type": "stream",
       "stream": "stdout",
       "text": [
        "\n",
        "lib6828_C6VG0ANXX"
       ]
      },
      {
       "output_type": "stream",
       "stream": "stdout",
       "text": [
        "\n",
        "lib6827_C6VG0ANXX"
       ]
      },
      {
       "output_type": "stream",
       "stream": "stdout",
       "text": [
        "\n",
        "lib6839_C6VG0ANXX"
       ]
      },
      {
       "output_type": "stream",
       "stream": "stdout",
       "text": [
        "\n",
        "lib6829_C6VG0ANXX"
       ]
      },
      {
       "output_type": "stream",
       "stream": "stdout",
       "text": [
        "\n",
        "lib6831_C6VG0ANXX"
       ]
      },
      {
       "output_type": "stream",
       "stream": "stdout",
       "text": [
        "\n",
        "lib6826_C6VG0ANXX"
       ]
      },
      {
       "output_type": "stream",
       "stream": "stdout",
       "text": [
        "\n",
        "lib6925_C6VG0ANXX"
       ]
      },
      {
       "output_type": "stream",
       "stream": "stdout",
       "text": [
        "\n",
        "lib6924_C6VG0ANXX"
       ]
      },
      {
       "output_type": "stream",
       "stream": "stdout",
       "text": [
        "\n"
       ]
      }
     ],
     "prompt_number": 125
    },
    {
     "cell_type": "code",
     "collapsed": false,
     "input": [],
     "language": "python",
     "metadata": {},
     "outputs": []
    }
   ],
   "metadata": {}
  }
 ]
}