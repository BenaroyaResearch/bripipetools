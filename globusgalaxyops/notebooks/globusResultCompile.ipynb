{
 "metadata": {
  "name": "",
  "signature": "sha256:c54c30d635d1338134f104d355c372b0e0bdf88434c43f4379d16519db9a9d65"
 },
 "nbformat": 3,
 "nbformat_minor": 0,
 "worksheets": [
  {
   "cells": [
    {
     "cell_type": "code",
     "collapsed": false,
     "input": [
      "import sys, os, re, argparse, csv"
     ],
     "language": "python",
     "metadata": {},
     "outputs": [],
     "prompt_number": 47
    },
    {
     "cell_type": "code",
     "collapsed": false,
     "input": [
      "class WorkflowParser(object):\n",
      "    \n",
      "    def __init__(self, batch_file=None):\n",
      "        \n",
      "        self.bf = batch_file\n",
      "        self.read_batch_file()\n",
      "        \n",
      "    def read_batch_file(self):\n",
      "        \n",
      "        batch_file = self.bf\n",
      "        with open(batch_file) as f:\n",
      "            batch_lines = f.readlines()\n",
      "            \n",
      "        self.batch = batch_lines\n",
      "    \n",
      "    def get_params(self):\n",
      "        \n",
      "        param_line = [ l for l in self.batch if 'SampleName' in l ][0]\n",
      "        param_dict = { idx: re.sub('##.*', '', p) \\\n",
      "                       for idx,p in enumerate(param_line.strip().split('\\t')) }\n",
      "        \n",
      "        self.pd = param_dict\n",
      "        \n",
      "    def get_lib_params(self):\n",
      "        \n",
      "        if not hasattr(self, 'pd'):\n",
      "            self.get_params()\n",
      "        \n",
      "        param_dict = self.pd\n",
      "        lib_param_dict = [ { param_dict[i]: p \\\n",
      "                             for i,p in enumerate(l.strip().split('\\t')) } \\\n",
      "                           for l in self.batch if re.search('lib[0-9]+', l) ]\n",
      "        \n",
      "        self.lpd = lib_param_dict\n",
      "        \n",
      "    def build_out_dict(self):\n",
      "        \n",
      "        if not hasattr(self, 'lpd'):\n",
      "            self.get_lib_params()\n",
      "        \n",
      "        lib_param_dict = self.lpd\n",
      "        out_file_dict = { pd['SampleName']: { re.sub('_out', '', k): pd[k] \\\n",
      "                                              for k in pd if 'out' in k } \\\n",
      "                          for pd in lib_param_dict }\n",
      "        \n",
      "        self.ofd = out_file_dict\n",
      "        \n",
      "    def show_output_files(self):\n",
      "        \n",
      "        if not hasattr(self, 'ofd'):\n",
      "            self.build_out_dict()\n",
      "        \n",
      "        return self.ofd"
     ],
     "language": "python",
     "metadata": {},
     "outputs": [],
     "prompt_number": 79
    },
    {
     "cell_type": "code",
     "collapsed": false,
     "input": [
      "class ResultCurator(object):\n",
      "    def __init__(self, processed_dir=None):\n",
      "        self.dir = processed_dir\n",
      "        self.pf = re.search('Project_.*', processed_dir).group()\n",
      "\n",
      "    # maybe create different class for parsing batch file (i.e., WorkflowParser)?\n",
      "    def get_outputs(self):\n",
      "        \n",
      "        processed_dir = self.dir\n",
      "        \n",
      "        batch_file = [ f for f in os.listdir(processed_dir) if \\\n",
      "                       re.search('v[0-9]\\.[0-9]+\\.txt', f) ]\n",
      "        \n",
      "        if len(batch_file):\n",
      "            batch_file = os.path.join(processed_dir, batch_file[0])\n",
      "\n",
      "        output_dict = WorkflowParser(batch_file).show_output_files()\n",
      "        \n",
      "        self.od = output_dict\n",
      "\n",
      "    def curate_outputs(self):\n",
      "        \n",
      "        if not hasattr(self, 'od'):\n",
      "            self.get_outputs()\n",
      "            \n",
      "        for lib in self.od:\n",
      "            FileMunger(lib, self.od[lib]).go()\n",
      "    \n",
      "#     def get_result_subdirs(self):\n",
      "        \n",
      "#         project_folder = self.pf\n",
      "        \n",
      "#         if not hasattr(self, 'params'):\n",
      "#             self.get_lib_params()\n",
      "        \n",
      "#         lib_paths = [ re.sub('.*' + project_folder + '/', '', l) \\\n",
      "#                       for l in self.params if project_folder in l ]\n",
      "\n",
      "#         result_subdirs = list(set( os.path.dirname(p) for p in lib_paths ))\n",
      "\n",
      "#         self.subdirs = result_subdirs"
     ],
     "language": "python",
     "metadata": {},
     "outputs": [],
     "prompt_number": 82
    },
    {
     "cell_type": "code",
     "collapsed": false,
     "input": [
      "class SampleCurator(object):\n",
      "    \n",
      "    def __init__(self, lib_id=None, output_dict=None):\n",
      "        \n",
      "        self.lib = lib_id\n",
      "        self.lod = output_dict\n",
      "        \n",
      "    def get_result_source(output):\n",
      "        if not re.search('fastq$', output):\n",
      "            result_sources = ['picard_align', 'picard_markdups', 'picard_rnaseq', \n",
      "                            'htseq', 'trinity', 'tophat', 'tophat_stats', 'fastqc']\n",
      "            result_source = [ rs for rs in result_sources \\\n",
      "                          if re.search(rs.lower(), output) ][0]\n",
      "        else:\n",
      "            result_sources = ['fastq', 'trimmed_fastq']\n",
      "            result_source = [ rs for rs in result_sources \\\n",
      "                          if re.search(rs.lower() + '$', output) ][0]\n",
      "\n",
      "        return result_source\n",
      "    \n",
      "    \n",
      "    def build_source_dict(output_dict):\n",
      "        source_dict = {}\n",
      "\n",
      "        for o in output_dict:\n",
      "            rs = get_result_source(o)\n",
      "\n",
      "            if rs in source_dict:\n",
      "                source_dict[rs][o] = output_dict[o]\n",
      "            else:\n",
      "                source_dict[rs] = {o: output_dict[o]}\n",
      "            print '%s in source_dict[%s]: %s' % (o, rs, o in source_dict[rs])\n",
      "\n",
      "        return source_dict"
     ],
     "language": "python",
     "metadata": {},
     "outputs": []
    },
    {
     "cell_type": "code",
     "collapsed": false,
     "input": [
      "class FileMunger(object):\n",
      "    \n",
      "    def __init__(self, result_source, output_dict):\n",
      "        \n",
      "        self.rs = result_source\n",
      "        self.sod = output_dict\n",
      "        \n",
      "    def rename_files(self):\n",
      "        \n",
      "        result_file_dict = {'fastqc_qc_html': 'fastqc_report.html',\n",
      "                    'fastqc_qc_txt': 'fastqc_data.txt'}\n",
      "        source_subdir_dict = {'fastqc': 'QC'}\n",
      "\n",
      "        for o in source_output_dict:\n",
      "            print os.path.join(processed_dir, source_subdir_dict[rs], os.path.basename(source_output_dict[o]))\n",
      "            print os.path.join(processed_dir, source_subdir_dict[rs], result_file_dict[o])\n",
      "            \n",
      "    def bundle_files(self):\n",
      "     "
     ],
     "language": "python",
     "metadata": {},
     "outputs": []
    },
    {
     "cell_type": "code",
     "collapsed": false,
     "input": [
      "processed_dir = \"/Users/jaeddy/Dropbox/data/projects/briSeqPipeline/GLOBUS_TESTING/Project_P43-12Processed_151013/\"\n",
      "processed_dir = os.path.abspath(processed_dir)"
     ],
     "language": "python",
     "metadata": {},
     "outputs": [],
     "prompt_number": 4
    },
    {
     "cell_type": "code",
     "collapsed": false,
     "input": [
      "rc = ResultCurator(processed_dir)\n",
      "rc.get_result_subdirs()"
     ],
     "language": "python",
     "metadata": {},
     "outputs": [],
     "prompt_number": 12
    },
    {
     "cell_type": "code",
     "collapsed": false,
     "input": [
      "msg =  [lib_file_dict[lib].append(f) for lib in lib_file_dict for f in os.listdir(subdir) if lib in f]"
     ],
     "language": "python",
     "metadata": {},
     "outputs": [],
     "prompt_number": 102
    },
    {
     "cell_type": "code",
     "collapsed": false,
     "input": [
      "rc = ResultCurator(processed_dir)"
     ],
     "language": "python",
     "metadata": {},
     "outputs": [],
     "prompt_number": 83
    },
    {
     "cell_type": "code",
     "collapsed": false,
     "input": [
      "rc.get_outputs()"
     ],
     "language": "python",
     "metadata": {},
     "outputs": [],
     "prompt_number": 84
    },
    {
     "cell_type": "code",
     "collapsed": false,
     "input": [
      "lib_output_dict = rc.od['lib6825_C6VG0ANXX']"
     ],
     "language": "python",
     "metadata": {},
     "outputs": [],
     "prompt_number": 87
    },
    {
     "cell_type": "code",
     "collapsed": false,
     "input": [
      "lib_output_dict.keys()"
     ],
     "language": "python",
     "metadata": {},
     "outputs": [
      {
       "metadata": {},
       "output_type": "pyout",
       "prompt_number": 89,
       "text": [
        "['picard_align_metrics_html',\n",
        " 'trinity_fasta',\n",
        " 'picard_markdups_metrics_html',\n",
        " 'fastqc_qc_txt',\n",
        " 'fastq',\n",
        " 'tophat_stats_metrics_txt',\n",
        " 'fastqc_qc_html',\n",
        " 'trimmed_fastq',\n",
        " 'picard_rnaseq_metrics_text',\n",
        " 'htseq_counts_txt',\n",
        " 'tophat_alignments_bam',\n",
        " 'htseq_metrics_txt']"
       ]
      }
     ],
     "prompt_number": 89
    },
    {
     "cell_type": "code",
     "collapsed": false,
     "input": [
      "source_dict = build_source_dict(lib_output_dict)"
     ],
     "language": "python",
     "metadata": {},
     "outputs": [
      {
       "output_type": "stream",
       "stream": "stdout",
       "text": [
        "picard_align_metrics_html in source_dict[picard_align]: True\n",
        "trinity_fasta in source_dict[trinity]: True\n",
        "picard_markdups_metrics_html in source_dict[picard_markdups]: True\n",
        "fastqc_qc_txt in source_dict[fastqc]: True\n",
        "fastq in source_dict[fastq]: True\n",
        "tophat_stats_metrics_txt in source_dict[tophat]: True\n",
        "fastqc_qc_html in source_dict[fastqc]: True\n",
        "trimmed_fastq in source_dict[fastq]: True\n",
        "picard_rnaseq_metrics_text in source_dict[picard_rnaseq]: True\n",
        "htseq_counts_txt in source_dict[htseq]: True\n",
        "tophat_alignments_bam in source_dict[tophat]: True\n",
        "htseq_metrics_txt in source_dict[htseq]: True\n"
       ]
      }
     ],
     "prompt_number": 148
    },
    {
     "cell_type": "code",
     "collapsed": false,
     "input": [
      "source_output_dict = source_dict[source_dict.keys()[0]]"
     ],
     "language": "python",
     "metadata": {},
     "outputs": [],
     "prompt_number": 150
    },
    {
     "cell_type": "code",
     "collapsed": false,
     "input": [
      "source_output_dict"
     ],
     "language": "python",
     "metadata": {},
     "outputs": [
      {
       "metadata": {},
       "output_type": "pyout",
       "prompt_number": 151,
       "text": [
        "{'fastqc_qc_html': '/~/genomics/Illumina/150615_D00565_0087_AC6VG0ANXX/Project_P43-12Processed_151013/QC/lib6825_C6VG0ANXX_fastqc_qc.html',\n",
        " 'fastqc_qc_txt': '/~/genomics/Illumina/150615_D00565_0087_AC6VG0ANXX/Project_P43-12Processed_151013/QC/lib6825_C6VG0ANXX_fastqc_qc.txt'}"
       ]
      }
     ],
     "prompt_number": 151
    },
    {
     "cell_type": "code",
     "collapsed": false,
     "input": [
      "result_file_dict = {'fastqc_qc_html': 'fastqc_report.html',\n",
      "                    'fastqc_qc_txt': 'fastqc_data.txt'}\n",
      "source_subdir_dict = {'fastqc': 'QC'}\n",
      "\n",
      "for o in source_output_dict:\n",
      "    print os.path.join(processed_dir, source_subdir_dict[rs], os.path.basename(source_output_dict[o]))\n",
      "    print os.path.join(processed_dir, source_subdir_dict[rs], result_file_dict[o])"
     ],
     "language": "python",
     "metadata": {},
     "outputs": [
      {
       "output_type": "stream",
       "stream": "stdout",
       "text": [
        "/Users/jaeddy/Dropbox/data/projects/briSeqPipeline/GLOBUS_TESTING/Project_P43-12Processed_151013/QC/lib6825_C6VG0ANXX_fastqc_qc.txt\n",
        "/Users/jaeddy/Dropbox/data/projects/briSeqPipeline/GLOBUS_TESTING/Project_P43-12Processed_151013/QC/fastqc_data.txt\n",
        "/Users/jaeddy/Dropbox/data/projects/briSeqPipeline/GLOBUS_TESTING/Project_P43-12Processed_151013/QC/lib6825_C6VG0ANXX_fastqc_qc.html\n",
        "/Users/jaeddy/Dropbox/data/projects/briSeqPipeline/GLOBUS_TESTING/Project_P43-12Processed_151013/QC/fastqc_report.html\n"
       ]
      }
     ],
     "prompt_number": 161
    },
    {
     "cell_type": "code",
     "collapsed": false,
     "input": [],
     "language": "python",
     "metadata": {},
     "outputs": [],
     "prompt_number": 157
    },
    {
     "cell_type": "code",
     "collapsed": false,
     "input": [
      "rs = source_dict.keys()[0]"
     ],
     "language": "python",
     "metadata": {},
     "outputs": [],
     "prompt_number": 159
    },
    {
     "cell_type": "code",
     "collapsed": false,
     "input": [],
     "language": "python",
     "metadata": {},
     "outputs": []
    }
   ],
   "metadata": {}
  }
 ]
}