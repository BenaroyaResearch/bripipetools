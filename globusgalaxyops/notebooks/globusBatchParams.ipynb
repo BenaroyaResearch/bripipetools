{
 "metadata": {
  "name": "",
<<<<<<< Updated upstream:notebooks/globusBatchParams.ipynb
  "signature": "sha256:3aa439e3f525358d67cbe6a7a984cd16341b2cf7bfbb85f89026514b3a863d0e"
=======
  "signature": "sha256:d4653a3985a1d648c28375247b233263eae3311824cb530106d554413e651d37"
>>>>>>> Stashed changes:globusBatchParams.ipynb
 },
 "nbformat": 3,
 "nbformat_minor": 0,
 "worksheets": [
  {
   "cells": [
    {
     "cell_type": "code",
     "collapsed": false,
     "input": [
      "import sys, os, re, argparse, time"
     ],
     "language": "python",
     "metadata": {},
     "outputs": [],
     "prompt_number": 1
    },
    {
     "cell_type": "code",
     "collapsed": false,
     "input": [
      "def get_fc_tag(fcStr):\n",
      "    fcStr = re.sub('EXTERNAL_[A-B]', 'EXTERNAL_', fcStr)\n",
      "    fcRe = re.compile('((?<=(EXTERNAL_))|(?<=(_[A-B]))).*XX')\n",
      "    fcTag = '_' + fcRe.search(fcStr).group()\n",
      "    \n",
      "    return fcTag\n",
      "\n",
      "def get_proj(projStr):\n",
      "    projRe = re.compile('P+[0-9]+(-[0-9]+){,1}')\n",
      "    proj = projRe.search(projStr).group()\n",
      "\n",
      "    return proj\n",
      "\n",
      "def parse_unaligned_path(unalignedDir):\n",
      "    pathParts = re.split('/Unaligned/', unalignedDir)\n",
      "    fcStr = re.split('/', pathParts[0])[-1]\n",
      "\n",
      "    projStr = pathParts[-1]\n",
      "\n",
      "    fcTag = get_fc_tag(fcStr)\n",
      "    proj = get_proj(projStr)\n",
      "\n",
<<<<<<< Updated upstream:notebooks/globusBatchParams.ipynb
      "    return (fcTag, proj)\n",
      "\n",
      "def get_unique_keys(keys, idfun=None):\n",
      "    if idfun is None:\n",
      "        def idfun(x): return x\n",
      "    seen = {}\n",
      "    result = []\n",
      "    for item in keys:\n",
      "        marker = idfun(item)\n",
      "        if marker in seen: continue\n",
      "        seen[marker] = 1\n",
      "        result.append(item)\n",
      "    return result\n",
=======
      "    return (fcTag, proj)"
     ],
     "language": "python",
     "metadata": {},
     "outputs": [],
     "prompt_number": 5
    },
    {
     "cell_type": "code",
     "collapsed": false,
     "input": [
      "## ACTIVE FUNCTIONS\n",
>>>>>>> Stashed changes:globusBatchParams.ipynb
      "\n",
      "def parse_workflow_template(batchWorkflowTemplate):\n",
      "    templateLines = file(batchWorkflowTemplate).readlines()\n",
      "    headerLine = [ line for line in templateLines if 'SampleName' in line ][0]\n",
      "    headers = headerLine.rstrip('\\t').split('\\t')\n",
      "    headerKeys = [ header.split('##')[0] for header in headers ]\n",
      "    \n",
      "    return get_unique_keys(headerKeys), templateLines\n",
      "\n",
      "def format_endpoint_dir(localDir):\n",
      "    endpointDir = re.sub('.*(?=(/genomics))', '/~', localDir)\n",
      "    \n",
      "    return endpointDir\n",
      "\n",
      "def build_ref_path(param, build = 'GRCh38'):\n",
      "    refDict = {}\n",
      "    refDict['GRCh38'] = dict([('gtf', 'Homo_sapiens.GRCh38.77.gtf'),\n",
      "                              ('refflat', 'Homo_sapiens.GRCh38.77.refflat.txt'),\n",
      "                              ('ribosomal_intervals', 'Homo_sapiens.GRCh38.77.ribosomalIntervalsWheaderV2.txt')])\n",
      "    refType = re.sub('^annotation_', '', param)\n",
      "    refPath = 'library::annotation::' + refDict[build].get(refType)\n",
      "    \n",
      "    return refPath\n",
      "\n",
      "def prep_output_directory(unalignedDir, proj):\n",
      "    pathParts = re.split('/Unaligned/', unalignedDir)\n",
      "    fcDir = pathParts[0]\n",
      "    \n",
      "    dateTag = time.strftime(\"%y%m%d\", time.gmtime())\n",
      "    \n",
      "    targetDir = '%s/Project_%sProcessed_%s' % (fcDir, proj, dateTag)\n",
      "    fastqDir = os.path.join(targetDir, 'inputFastqs')\n",
      "    if not os.path.isdir(fastqDir):\n",
      "        os.makedirs(fastqDir)\n",
      "\n",
      "    return targetDir\n",
      "\n",
      "def prep_output_subdir(targetDir, resultType):\n",
      "    \n",
      "    resultSubdir = os.path.join(targetDir, resultType)\n",
      "\n",
      "    if not os.path.isdir(resultSubdir):\n",
      "        os.makedirs(resultSubdir)\n",
      "\n",
      "    return resultSubdir\n",
      "\n",
      "def parse_lib_path(libDir):\n",
      "    libId = re.search('lib[0-9]+', libDir).group()\n",
      "\n",
      "    return libId\n",
      "\n",
      "def get_lane_fastq(libDir, lane):\n",
      "    laneRe = re.compile('L00' + lane)\n",
      "    laneFastq = [ os.path.join(libDir, fastq) \\\n",
      "                  for fastq in os.listdir(libDir) \\\n",
      "                  if laneRe.search(fastq) ]\n",
      "    if len(laneFastq):\n",
      "        laneFastq = laneFastq[0]\n",
      "    else:\n",
      "        emptyFastq = 'empty_L00' + lane + '.fastq.gz'\n",
      "        laneFastq = os.path.join(libDir, emptyFastq)\n",
      "        \n",
      "        if not os.path.exists(laneFastq):\n",
      "            open(laneFastq, 'a').close()\n",
      "\n",
      "    return format_endpoint_dir(laneFastq)\n",
      "\n",
      "def build_result_path(lib, targetDir, param):\n",
      "    resultTypes = ['counts', 'alignments', 'metrics', 'QC']\n",
      "    resultType = [ rType for rType in resultTypes \\\n",
      "                   if rType.lower() in param ][0]\n",
      "    \n",
      "    resultSubdir = prep_output_subdir(targetDir, resultType)\n",
      "    \n",
      "    outFile = re.sub('_out$', '', param)\n",
      "    outFile = re.sub('_(?=([a-z]+$))', '.', outFile)\n",
      "    outFile = lib + '_' + outFile\n",
      "    \n",
      "    resultPath = os.path.join(format_endpoint_dir(resultSubdir), outFile)\n",
      "    \n",
      "    return resultPath\n",
      "\n",
      "def build_lib_param_list(lib, endpoint, targetDir, headerKeys, fcTag):\n",
      "    libParams = []\n",
      "    libId = parse_lib_path(lib)\n",
      "    targetLib = libId + fcTag\n",
      "    \n",
      "    for param in headerKeys:\n",
      "        if 'SampleName' in param:\n",
      "            libParams.append(targetLib)\n",
      "        elif 'fastq_in' in param:\n",
      "            lane = re.search('(?<=L)[0-9]', param).group()\n",
      "            libParams.append(endpoint)\n",
      "            libParams.append(get_lane_fastq(lib, lane))\n",
      "        elif 'annotation' in param:\n",
      "            refPath = build_ref_path(param)\n",
      "            libParams.append(refPath)\n",
      "        elif 'out' in param:\n",
      "            if 'fastq_out' in param:\n",
      "                finalFastq = '%s_R1-final.fastq.gz' % targetLib\n",
      "                resultPath = os.path.join(targetDir, 'inputFastqs', finalFastq)\n",
      "            else:\n",
      "                resultPath = build_result_path(targetLib, targetDir, param)\n",
      "            libParams.append(endpoint)\n",
      "            libParams.append(resultPath)\n",
      "    \n",
      "    return libParams\n",
      "\n",
      "def create_workflow_file(workflowTemplate, endpoint, unalignedDir, proj, fcTag):\n",
      "    headerKeys,templateLines = parse_workflow_template(workflowTemplate)\n",
      "    workflowLines = templateLines\n",
      "    \n",
      "    projLineNum = [ idx for idx,line in enumerate(templateLines) \\\n",
      "                    if 'Project Name' in line ][0]\n",
      "    workflowLines[projLineNum] = re.sub('<Your_project_name>', proj, templateLines[projLineNum])\n",
      "    workflowLines[-1] = re.sub('\\t$', '\\n', workflowLines[-1])\n",
      "    \n",
      "    unalignedLibs = [ os.path.join(unalignedDir, entry) \\\n",
      "                      for entry in os.listdir(unalignedDir) \\\n",
      "                      if os.path.isdir(os.path.join(unalignedDir, entry)) ]\n",
      "    \n",
      "    targetDir = prep_output_directory(unalignedDir, proj)\n",
<<<<<<< Updated upstream:notebooks/globusBatchParams.ipynb
      "    \n",
      "    for lib in unalignedLibs:\n",
=======
      "    unalignedLibs = [ unalignedDir + '/' + entry for entry in os.listdir(unalignedDir) if 'lib' in entry ]\n",
      "    for lib in [unalignedLibs[1]]:\n",
>>>>>>> Stashed changes:globusBatchParams.ipynb
      "        if \"Undetermined\" not in lib:\n",
      "            libParams = build_lib_param_list(lib, endpoint, targetDir, \n",
      "                                             headerKeys, fcTag)\n",
      "            workflowLines.append(('\\t').join(libParams) + '\\n')\n",
      "        \n",
      "    return workflowLines\n",
      "\n",
      "def write_batch_workflow(workflowLines, unalignedDir, workflowTemplate, proj):\n",
      "    templateFile = os.path.basename(workflowTemplate)\n",
      "    workflowFile = re.sub('Galaxy-API-Workflow', proj, templateFile)\n",
      "    workflowPath = os.path.join(unalignedDir, workflowFile)\n",
      "    \n",
      "    wFile = open(workflowPath, 'w')\n",
      "    wFile.writelines(workflowLines)\n",
      "    wFile.close()\n",
      "    \n",
      "    print \"Batch file path: \" + format_endpoint_dir(workflowPath)"
     ],
     "language": "python",
     "metadata": {},
     "outputs": [],
<<<<<<< Updated upstream:notebooks/globusBatchParams.ipynb
     "prompt_number": 26
=======
     "prompt_number": 8
>>>>>>> Stashed changes:globusBatchParams.ipynb
    },
    {
     "cell_type": "code",
     "collapsed": false,
     "input": [
      "# def main():\n",
      "\n",
<<<<<<< Updated upstream:notebooks/globusBatchParams.ipynb
      "endpoint = \"jeddy#briLaptop\"\n",
=======
      "# unalignedDir = \"/Volumes/genomics/Illumina/150528_D00565_0086_BC6VC8ANXX/Unaligned/P90-12-22840822\"\n",
      "unalignedDir = \"/Users/jaeddy/Dropbox/data/projects/briSeqPipeline/forGlobusGenomicsGalaxy/truSeqLibs/singleRead/\"\n",
      "unalignedDir = os.path.abspath(unalignedDir)\n",
      "proj = \"GGTestSmall\"\n",
>>>>>>> Stashed changes:globusBatchParams.ipynb
      "\n",
      "# unalignedDir = \"/Volumes/genomics/Illumina/150615_D00565_0087_AC6VG0ANXX/Unaligned/P81-8-23231210\"\n",
      "unalignedDir = \"/Volumes/genomics/Illumina/150505_D00565_0085_AC6G59ANXX/Unaligned/P15-8-22288273\"\n",
      "# unalignedDir = \"/Users/jaeddy/genomics/Illumina/150923_D00565_0000_AC6LOBUSXX/Unaligned/P00-0-12345678\"\n",
      "\n",
      "# unalignedDir = \"/Volumes/genomics/forGlobusGenomicsGalaxy/truSeqLibs/singleRead/\"\n",
      "unalignedDir = os.path.abspath(unalignedDir)\n",
      "fcTag,proj = parse_unaligned_path(unalignedDir)\n",
      "\n",
      "# batchWorkflowTemplate = \"/Volumes/genomics/galaxyWorkflows/Galaxy-API-Workflow-alignCount_truSeq_single_GRCh38_v1.txt\"\n",
      "batchWorkflowTemplate = \"/Volumes/genomics/galaxyWorkflows/Galaxy-API-Workflow-alignCount_truSeq_single_GRCh38_v0.1.txt\"\n",
      "\n",
      "# batchWorkflowTemplate = \"/Volumes/genomics/galaxyWorkflows/Galaxy-API-Workflow-alignCount_truSeq_single_GRCh38_v2.txt\"\n",
      "batchWorkflowLines = create_workflow_file(batchWorkflowTemplate, endpoint, unalignedDir, proj, fcTag)\n",
      "\n",
      "write_batch_workflow(batchWorkflowLines, unalignedDir, batchWorkflowTemplate, proj)"
     ],
     "language": "python",
     "metadata": {},
     "outputs": [],
<<<<<<< Updated upstream:notebooks/globusBatchParams.ipynb
     "prompt_number": 3
=======
     "prompt_number": 11
>>>>>>> Stashed changes:globusBatchParams.ipynb
    },
    {
     "cell_type": "code",
     "collapsed": false,
     "input": [
<<<<<<< Updated upstream:notebooks/globusBatchParams.ipynb
      "[ lib for lib in unalignedLibs if 'lib6645' in lib ]"
=======
      "batchWorkflowLines"
>>>>>>> Stashed changes:globusBatchParams.ipynb
     ],
     "language": "python",
     "metadata": {},
     "outputs": [
      {
       "metadata": {},
       "output_type": "pyout",
<<<<<<< Updated upstream:notebooks/globusBatchParams.ipynb
       "prompt_number": 29,
       "text": [
        "['/Volumes/genomics/Illumina/150505_D00565_0085_AC6G59ANXX/Unaligned/P15-8-22288273/lib6645-24731029']"
       ]
      }
     ],
     "prompt_number": 29
    },
    {
     "cell_type": "code",
     "collapsed": false,
     "input": [
      "format_endpoint_dir(lib)"
     ],
     "language": "python",
     "metadata": {},
     "outputs": [
      {
       "metadata": {},
       "output_type": "pyout",
       "prompt_number": 30,
       "text": [
        "'/~/genomics/Illumina/150505_D00565_0085_AC6G59ANXX/Unaligned/P15-8-22288273/lib6414-24731034'"
       ]
      }
     ],
     "prompt_number": 30
=======
       "prompt_number": 10,
       "text": [
        "['#Data Export for Workflow Batch Submission Through the APII\\n',\n",
        " '\\n',\n",
        " '\\n',\n",
        " '### INSTRUCTIONS\\n',\n",
        " '#######################################\\n',\n",
        " '#The following data can be used to input the parameters you have previously determined to be\\n',\n",
        " '#set at runtime. Please specify the library or history where the input data can be found.\\n',\n",
        " '#Once you have filled out the table you can run the API script to submit the jobs through Galaxy\\n',\n",
        " '#via the API.\\n',\n",
        " '\\n',\n",
        " '#NOTE: If you make any changes to the workflow or edit the name of the workflow, you will need\\n',\n",
        " '#to recreate the table before submitting the job via the API since some metadata parameters will\\n',\n",
        " '#be modified.\\n',\n",
        " '\\n',\n",
        " '#NOTE: It is up to the user to make sure the input files are in the correct format for each\\n',\n",
        " '#parameter being filled out.\\n',\n",
        " '\\n',\n",
        " '#NOTE: You will need to specify three items for input files to an application.\\n',\n",
        " '#The format for an input file should be [SourceType::SourceName::file_name]:\\n',\n",
        " '#1. Source Type - which can be library or history\\n',\n",
        " '#2. Source Name - the name of the library or history.\\n',\n",
        " '#3. Filename - specify the name of the file as it exists in the library or history.\\n',\n",
        " '\\n',\n",
        " '\\n',\n",
        " '########################################\\n',\n",
        " '\\n',\n",
        " '\\n',\n",
        " '### METADATA\\n',\n",
        " '#######################################\\n',\n",
        " 'Workflow Name\\talignCount_truSeq_single_GRCh38\\n',\n",
        " 'Workflow id\\tc6797a043c9de308\\n',\n",
        " 'Project Name\\tGGTest\\n',\n",
        " '#######################################\\n',\n",
        " '\\n',\n",
        " '\\n',\n",
        " '###TABLE DATA\\n',\n",
        " '#######################################\\n',\n",
        " 'SampleName\\tfastq_in##Param::674::globus_get_data_text::from_path\\tannotation_refflat##SourceType::SourceName::refflatFile\\tannotation_ribosomal_intervals##SourceType::SourceName::ribointsFile\\tannotation_gtf##SourceType::SourceName::gtfFile\\tfastqc_qc_txt_out##Param::677::globus_send_data::to_path\\tpicard_markdups_metrics_html_out##Param::668::globus_send_data::to_path\\ttophat_stats_metrics_txt_out##Param::670::globus_send_data::to_path\\tpicard_align_metrics_html_out##Param::669::globus_send_data::to_path\\tpicard_rnaseq_metrics_txt_out##Param::672::globus_send_data::to_path\\thtseq_counts_txt_out##Param::673::globus_send_data::to_path\\n',\n",
        " 'lib6645\\t/~/Dropbox/data/projects/briSeqPipeline/forGlobusGenomicsGalaxy/truSeqLibs/singleRead/lib6645_C6G59ANXX_R1-final.fastq\\tlibrary::annotation::Homo_sapiens.GRCh38.77.refflat.txt\\tlibrary::annotation::Homo_sapiens.GRCh38.77.ribosomalIntervalsWOheader.txt\\tlibrary::annotation::Homo_sapiens.GRCh38.77.gtf\\t/~/Dropbox/data/projects/briSeqPipeline/forGlobusGenomicsGalaxy/truSeqLibs/singleRead/Project_GGTestProcessed/QC/lib6645_fastqc_qc.txt\\t/~/Dropbox/data/projects/briSeqPipeline/forGlobusGenomicsGalaxy/truSeqLibs/singleRead/Project_GGTestProcessed/metrics/lib6645_picard_markdups_metrics.html\\t/~/Dropbox/data/projects/briSeqPipeline/forGlobusGenomicsGalaxy/truSeqLibs/singleRead/Project_GGTestProcessed/metrics/lib6645_tophat_stats_metrics.txt\\t/~/Dropbox/data/projects/briSeqPipeline/forGlobusGenomicsGalaxy/truSeqLibs/singleRead/Project_GGTestProcessed/metrics/lib6645_picard_align_metrics.html\\t/~/Dropbox/data/projects/briSeqPipeline/forGlobusGenomicsGalaxy/truSeqLibs/singleRead/Project_GGTestProcessed/metrics/lib6645_picard_rnaseq_metrics.txt\\t/~/Dropbox/data/projects/briSeqPipeline/forGlobusGenomicsGalaxy/truSeqLibs/singleRead/Project_GGTestProcessed/counts/lib6645_htseq_counts.txt\\n']"
       ]
      }
     ],
     "prompt_number": 10
>>>>>>> Stashed changes:globusBatchParams.ipynb
    },
    {
     "cell_type": "code",
     "collapsed": false,
     "input": [],
     "language": "python",
     "metadata": {},
     "outputs": []
    }
   ],
   "metadata": {}
  }
 ]
}