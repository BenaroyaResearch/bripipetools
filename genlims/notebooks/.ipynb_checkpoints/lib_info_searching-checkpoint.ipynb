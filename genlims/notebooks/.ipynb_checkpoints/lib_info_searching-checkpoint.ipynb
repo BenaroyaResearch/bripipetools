{
 "metadata": {
  "name": "",
  "signature": "sha256:2e2431cb64828b9346fd10265cf279cfd959fab38d80de2a93efc631e0a4c3d1"
 },
 "nbformat": 3,
 "nbformat_minor": 0,
 "worksheets": [
  {
   "cells": [
    {
     "cell_type": "code",
     "collapsed": false,
     "input": [
      "import os, re, sys"
     ],
     "language": "python",
     "metadata": {},
     "outputs": [],
     "prompt_number": 1
    },
    {
     "cell_type": "code",
     "collapsed": false,
     "input": [
      "project_dir = \"/Volumes/DFS_Chaussabel_LabShare/Projects/\""
     ],
     "language": "python",
     "metadata": {},
     "outputs": [],
     "prompt_number": 2
    },
    {
     "cell_type": "code",
     "collapsed": false,
     "input": [
      "def listdir_re("
     ],
     "language": "python",
     "metadata": {},
     "outputs": []
    },
    {
     "cell_type": "code",
     "collapsed": true,
     "input": [],
     "language": "python",
     "metadata": {},
     "outputs": []
    }
   ],
   "metadata": {}
  }
 ]
}