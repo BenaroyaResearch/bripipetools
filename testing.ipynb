{
 "metadata": {
  "name": "",
  "signature": "sha256:aa54e2cf1a7c1701fd5b00e4e02a7ff99b0d227ec573888004b98d52ca739cc4"
 },
 "nbformat": 3,
 "nbformat_minor": 0,
 "worksheets": [
  {
   "cells": [
    {
     "cell_type": "code",
     "collapsed": false,
     "input": [
      "import brigalaxy as bg\n",
      "import sys, os, argparse, time, json, re"
     ],
     "language": "python",
     "metadata": {},
     "outputs": [],
     "prompt_number": 1
    },
    {
     "cell_type": "code",
     "collapsed": false,
     "input": [
      "sm = bg.SessionManager(user_num=0, target_dir=\"outDir\")"
     ],
     "language": "python",
     "metadata": {},
     "outputs": [],
     "prompt_number": 2
    },
    {
     "cell_type": "code",
     "collapsed": false,
     "input": [
      "sm.add_target_dir(\"outDir\")"
     ],
     "language": "python",
     "metadata": {},
     "outputs": [],
     "prompt_number": 10
    },
    {
     "cell_type": "code",
     "collapsed": false,
     "input": [
      "hm = bg.HistoryManager(sm.gi, history_id='bd9802014d926144')"
     ],
     "language": "python",
     "metadata": {},
     "outputs": [],
     "prompt_number": 3
    },
    {
     "cell_type": "code",
     "collapsed": false,
     "input": [
      "input_dataset_list = hm.show_input_datasets()"
     ],
     "language": "python",
     "metadata": {},
     "outputs": [],
     "prompt_number": 4
    },
    {
     "cell_type": "code",
     "collapsed": false,
     "input": [
      "rc = bg.ResultCollector(hm, input_dataset_list[0])"
     ],
     "language": "python",
     "metadata": {},
     "outputs": [],
     "prompt_number": 5
    },
    {
     "cell_type": "code",
     "collapsed": false,
     "input": [
      "output_dataset_list = rc.show_output_list()"
     ],
     "language": "python",
     "metadata": {},
     "outputs": [],
     "prompt_number": 8
    },
    {
     "cell_type": "code",
     "collapsed": false,
     "input": [
      "rd = bg.ResultDownloader(sm, rc.lib, output_dataset_list[0])"
     ],
     "language": "python",
     "metadata": {},
     "outputs": [],
     "prompt_number": 11
    },
    {
     "cell_type": "code",
     "collapsed": false,
     "input": [
      "rd.oid"
     ],
     "language": "python",
     "metadata": {},
     "outputs": [
      {
       "metadata": {},
       "output_type": "pyout",
       "prompt_number": 16,
       "text": [
        "u'6bf0efd38c404622'"
       ]
      }
     ],
     "prompt_number": 16
    },
    {
     "cell_type": "code",
     "collapsed": false,
     "input": [
      "[i for i in hm.dg if rd.oid in hm.dg[i]]"
     ],
     "language": "python",
     "metadata": {},
     "outputs": [
      {
       "metadata": {},
       "output_type": "pyout",
       "prompt_number": 19,
       "text": [
        "[u'53b5fc61f6487d9e']"
       ]
      }
     ],
     "prompt_number": 19
    },
    {
     "cell_type": "code",
     "collapsed": false,
     "input": [
      "input = hm.idl[0].keys()[0]"
     ],
     "language": "python",
     "metadata": {},
     "outputs": [],
     "prompt_number": 25
    },
    {
     "cell_type": "code",
     "collapsed": false,
     "input": [
      "input"
     ],
     "language": "python",
     "metadata": {},
     "outputs": [
      {
       "metadata": {},
       "output_type": "pyout",
       "prompt_number": 26,
       "text": [
        "u'53b5fc61f6487d9e'"
       ]
      }
     ],
     "prompt_number": 26
    },
    {
     "cell_type": "code",
     "collapsed": false,
     "input": [
      "def clean_dataset_name(dataset_name=None):\n",
      "\n",
      "    dataset_name = re.sub(\" on data [0-9]+( and data [0-9]+)*\", \"\", dataset_name)\n",
      "    dataset_name = re.sub(\"_.*(\\:|\\.)+\", \": \", dataset_name)\n",
      "\n",
      "    return dataset_name\n",
      "\n",
      "def get_dataset_name(galaxy_instance, dataset_id):\n",
      "    dc = galaxy_instance.datasets\n",
      "    dataset_name = dc.show_dataset(dataset_id).get('name')\n",
      "\n",
      "    return clean_dataset_name(dataset_name)"
     ],
     "language": "python",
     "metadata": {},
     "outputs": [],
     "prompt_number": 95
    },
    {
     "cell_type": "code",
     "collapsed": false,
     "input": [
      "def trace_input(history_manager, input, trace = {}):\n",
      "    dg = history_manager.dg\n",
      "    gi = history_manager.gi\n",
      "    \n",
      "    if isinstance(input, list):\n",
      "        [trace_input(history_manager, i, trace) for i in input]\n",
      "    if input in dg:\n",
      "        [trace_input(history_manager, i, trace) for i in dg[input]]\n",
      "        name = get_dataset_name(gi, input)\n",
      "#         trace[input] = dg[input]\n",
      "        trace[name] = [get_dataset_name(gi, i) for i in dg[input]]\n",
      "    return trace\n",
      "    "
     ],
     "language": "python",
     "metadata": {},
     "outputs": [],
     "prompt_number": 99
    },
    {
     "cell_type": "code",
     "collapsed": false,
     "input": [
      "trace_input(hm, input)"
     ],
     "language": "python",
     "metadata": {},
     "outputs": [
      {
       "metadata": {},
       "output_type": "pyout",
       "prompt_number": 100,
       "text": [
        "{u'Bowtie2: aligned reads (sorted BAM)': [u'MarkDups: html',\n",
        "  u'Filter SAM or BAM, output SAM or BAM: bam',\n",
        "  u'MarkDups: bam',\n",
        "  u'Picard Alignment Summary Metrics.html'],\n",
        " u'Cut': [u'MTDupsFilterStats'],\n",
        " u'FASTQ Quality Trimmer': [u'Bowtie2: aligned reads (sorted BAM)'],\n",
        " u'FASTQ Trimmer': [u'FastqMcf: log', u'FastqMcf: reads'],\n",
        " u'FastqMcf: reads': [u'FASTQ Quality Trimmer'],\n",
        " u'Filter SAM or BAM, output SAM or BAM: bam': [u'Sort'],\n",
        " u'MarkDups: bam': [u'flagstat'],\n",
        " u'MarkDups: html': [u'Search in textfiles'],\n",
        " u'Replace': [u'MTDupsFilterStats'],\n",
        " u'Search in textfiles': [u'Replace'],\n",
        " u'Select first': [u'Cut'],\n",
        " u'Sort': [u'MarkDups: html', u'flagstat', u'MarkDups: bam'],\n",
        " u'flagstat': [u'Select first'],\n",
        " u'lib8568: fastq': [u'FastQC: html', u'FASTQ Trimmer']}"
       ]
      }
     ],
     "prompt_number": 100
    },
    {
     "cell_type": "code",
     "collapsed": false,
     "input": [
      "hm.dg[input]"
     ],
     "language": "python",
     "metadata": {},
     "outputs": [
      {
       "metadata": {},
       "output_type": "pyout",
       "prompt_number": 78,
       "text": [
        "[u'db22703244168ae3', u'6bf0efd38c404622']"
       ]
      }
     ],
     "prompt_number": 78
    },
    {
     "cell_type": "code",
     "collapsed": false,
     "input": [],
     "language": "python",
     "metadata": {},
     "outputs": []
    }
   ],
   "metadata": {}
  }
 ]
}